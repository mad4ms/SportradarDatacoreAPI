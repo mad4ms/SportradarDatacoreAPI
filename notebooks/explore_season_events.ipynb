{
 "cells": [
  {
   "cell_type": "markdown",
   "metadata": {},
   "source": [
    "# Explore downloaded season event data"
   ]
  },
  {
   "cell_type": "code",
   "execution_count": 15,
   "metadata": {},
   "outputs": [],
   "source": [
    "import os\n",
    "import sys\n",
    "import pandas as pd\n",
    "import matplotlib.pyplot as plt\n",
    "import plotly.graph_objects as go\n",
    "import seaborn as sns\n",
    "import numpy as np\n",
    "# tqdm\n",
    "from tqdm import tqdm\n",
    "from glob import glob"
   ]
  },
  {
   "cell_type": "code",
   "execution_count": 16,
   "metadata": {},
   "outputs": [],
   "source": [
    "columns_to_keep = [\n",
    "    # \"clientId\",\n",
    "    # \"clientType\",\n",
    "    \"fixtureId\",\n",
    "    \"organizationId\",\n",
    "    # \"received\",\n",
    "    # \"sport\",\n",
    "    # \"topic\",\n",
    "    \"type\",\n",
    "    \"data.class\",\n",
    "    \"data.eventId\",\n",
    "    \"data.eventTime\",\n",
    "    \"data.eventType\",\n",
    "    # \"data.options.attendance\",\n",
    "    # \"data.options.numberOfPeriods\",\n",
    "    # \"data.options.periodLength\",\n",
    "    # \"data.status\",\n",
    "    \"data.subType\",\n",
    "    \"data.timestamp\",\n",
    "    \"data.entityId\",\n",
    "    # \"data.options.active\",\n",
    "    \"data.options.bib\",\n",
    "    # \"data.options.captain\",\n",
    "    # \"data.options.name\",\n",
    "    \"data.options.position\",\n",
    "    \"data.options.starter\",\n",
    "    # \"data.personId\",\n",
    "    # \"data.options.number\",\n",
    "    \"data.periodId\",\n",
    "    \"data.sequence\",\n",
    "    \"score_home\",\n",
    "    \"score_away\",\n",
    "    \"data.playId\",\n",
    "    \"data.clock\",\n",
    "    \"data.options.goalKeeperId\",\n",
    "    \"data.options.location\",\n",
    "    \"data.success\",\n",
    "    \"data.x\",\n",
    "    \"data.y\",\n",
    "    \"data.options.failureReason\",\n",
    "    \"data.options.attackType\",\n",
    "    \"data.options.value\",\n",
    "    \"data.options.emptyNet\",\n",
    "    # \"team.added\",\n",
    "    # \"team.ageGroup\",\n",
    "    # \"team.alternateVenueIds\",\n",
    "    # \"team.codeLatin\",\n",
    "    \"team.codeLocal\",\n",
    "    # \"team.defaultVenueId\",\n",
    "    # \"team.discipline\",\n",
    "    # \"team.entityGroupId\",\n",
    "    \"team.entityId\",\n",
    "    \"team.externalId\",\n",
    "    # \"team.gender\",\n",
    "    # \"team.grade\",\n",
    "    # \"team.historicalNames\",\n",
    "    # \"team.internationalReference\",\n",
    "    # \"team.nameFullLatin\",\n",
    "    \"team.nameFullLocal\",\n",
    "    # \"team.organizationId\",\n",
    "    # \"team.representing\",\n",
    "    # \"team.standard\",\n",
    "    # \"team.status\",\n",
    "    # \"team.updated\",\n",
    "    # \"team.additionalNames.namePlaceLatin\",\n",
    "    # \"team.additionalNames.namePlaceLocal\",\n",
    "    # \"team.additionalNames.nameShortLatin\",\n",
    "    # \"team.additionalNames.nameShortLocal\",\n",
    "    \"team.colors.primary\",\n",
    "    \"team.colors.secondary\",\n",
    "    \"team.colors.tertiary\",\n",
    "    # \"team.contacts.email\",\n",
    "    # \"team.contacts.fax\",\n",
    "    # \"team.contacts.phone\",\n",
    "    # \"team.entityGroup.id\",\n",
    "    # \"team.entityGroup.resourceType\",\n",
    "    # \"team.organization.id\",\n",
    "    # \"team.organization.resourceType\",\n",
    "    # \"player.added\",\n",
    "    # \"player.deceased\",\n",
    "    \"player.dob\",\n",
    "    \"player.externalId\",\n",
    "    \"player.gender\",\n",
    "    # \"player.historicalNames\",\n",
    "    # \"player.languageLocal\",\n",
    "    # \"player.nameAbbreviated\",\n",
    "    # \"player.nameFamilyLatin\",\n",
    "    \"player.nameFamilyLocal\",\n",
    "    # \"player.nameFullLatin\",\n",
    "    # \"player.nameFullLocal\",\n",
    "    # \"player.nameGivenLatin\",\n",
    "    \"player.nameGivenLocal\",\n",
    "    \"player.nationality\",\n",
    "    # \"player.organizationId\",\n",
    "    \"player.personId\",\n",
    "    # \"player.representing\",\n",
    "    # \"player.status\",\n",
    "    # \"player.updated\",\n",
    "    \"player.additionalDetails.height\",\n",
    "    \"player.additionalDetails.weight\",\n",
    "    # \"player.organization.id\",\n",
    "    # \"player.organization.resourceType\",\n",
    "    \"team_home_abbr\",\n",
    "    \"team_away_abbr\",\n",
    "    \"team_home_id\",\n",
    "    \"team_away_id\",\n",
    "    \"team_home_name\",\n",
    "    \"team_away_name\",\n",
    "    \"gameday\",\n",
    "    \"team_attacking_id\",\n",
    "    \"team_attacking_name\",\n",
    "    \"team_attacking_side\",\n",
    "]"
   ]
  },
  {
   "cell_type": "code",
   "execution_count": 17,
   "metadata": {},
   "outputs": [
    {
     "name": "stderr",
     "output_type": "stream",
     "text": [
      "Processing files: 100%|██████████| 304/304 [00:06<00:00, 49.29it/s]\n"
     ]
    }
   ],
   "source": [
    "df = pd.DataFrame()\n",
    "\n",
    "\n",
    "\n",
    "for file in tqdm(glob(\"../data/season_24_25/*.csv\", recursive=True), desc=\"Processing files\"):\n",
    "    df_temp = pd.read_csv(file)\n",
    "    df_temp[\"source\"] = os.path.basename(file).split(\".\")[0]\n",
    "    df = pd.concat([df, df_temp], ignore_index=True)\n"
   ]
  },
  {
   "cell_type": "code",
   "execution_count": 18,
   "metadata": {},
   "outputs": [
    {
     "name": "stdout",
     "output_type": "stream",
     "text": [
      "Total columns: 55\n",
      "Total rows: 148907\n"
     ]
    },
    {
     "data": {
      "text/plain": [
       "Index(['fixtureId', 'organizationId', 'type', 'data.class', 'data.eventId',\n",
       "       'data.eventTime', 'data.eventType', 'data.subType', 'data.timestamp',\n",
       "       'data.entityId', 'data.options.bib', 'data.options.position',\n",
       "       'data.options.starter', 'data.periodId', 'data.sequence', 'score_home',\n",
       "       'score_away', 'data.playId', 'data.clock', 'data.options.goalKeeperId',\n",
       "       'data.options.location', 'data.success', 'data.x', 'data.y',\n",
       "       'data.options.failureReason', 'data.options.attackType',\n",
       "       'data.options.value', 'data.options.emptyNet', 'team.codeLocal',\n",
       "       'team.entityId', 'team.externalId', 'team.nameFullLocal',\n",
       "       'team.colors.primary', 'team.colors.secondary', 'team.colors.tertiary',\n",
       "       'player.dob', 'player.externalId', 'player.gender',\n",
       "       'player.nameFamilyLocal', 'player.nameGivenLocal', 'player.nationality',\n",
       "       'player.personId', 'player.additionalDetails.height',\n",
       "       'player.additionalDetails.weight', 'team_home_abbr', 'team_away_abbr',\n",
       "       'team_home_id', 'team_away_id', 'team_home_name', 'team_away_name',\n",
       "       'gameday', 'team_attacking_id', 'team_attacking_name',\n",
       "       'team_attacking_side', 'source'],\n",
       "      dtype='object')"
      ]
     },
     "metadata": {},
     "output_type": "display_data"
    }
   ],
   "source": [
    "print(f\"Total columns: {len(df.columns)}\")\n",
    "print(f\"Total rows: {len(df)}\")\n",
    "display(df.columns)\n",
    "# length = len(df)\n",
    "# columns len\n",
    "df_bak = df.copy()"
   ]
  },
  {
   "cell_type": "code",
   "execution_count": 19,
   "metadata": {},
   "outputs": [
    {
     "name": "stdout",
     "output_type": "stream",
     "text": [
      "Total columns after filtering: 55\n",
      "Total rows after filtering: 304\n"
     ]
    }
   ],
   "source": [
    "df = df_bak.copy()\n",
    "# how many entries are there for data.type = fixture and data.subtype = end?\n",
    "df = df[df[\"data.eventType\"] == \"fixture\"]\n",
    "df = df[df[\"data.subType\"] == \"end\"]\n",
    "# if multiple fixtureID in df, take the last one\n",
    "df = df.groupby(\"fixtureId\").last().reset_index()\n",
    "\n",
    "\n",
    "print(f\"Total columns after filtering: {len(df.columns)}\")\n",
    "print(f\"Total rows after filtering: {len(df)}\")"
   ]
  },
  {
   "cell_type": "code",
   "execution_count": 20,
   "metadata": {},
   "outputs": [
    {
     "name": "stderr",
     "output_type": "stream",
     "text": [
      "C:\\Users\\madam\\AppData\\Local\\Temp\\ipykernel_23308\\1560768403.py:23: FutureWarning: DataFrame.fillna with 'method' is deprecated and will raise in a future version. Use obj.ffill() or obj.bfill() instead.\n",
      "  df_race = df_pivot.pivot(index='date', columns='team', values='points').fillna(method='ffill').fillna(0)\n"
     ]
    },
    {
     "data": {
      "application/vnd.microsoft.datawrangler.viewer.v0+json": {
       "columns": [
        {
         "name": "date",
         "rawType": "int64",
         "type": "integer"
        },
        {
         "name": "1. VfL Potsdam",
         "rawType": "float64",
         "type": "float"
        },
        {
         "name": "FRISCH AUF! Göppingen",
         "rawType": "float64",
         "type": "float"
        },
        {
         "name": "Füchse Berlin",
         "rawType": "float64",
         "type": "float"
        },
        {
         "name": "HC Erlangen",
         "rawType": "float64",
         "type": "float"
        },
        {
         "name": "HSG Wetzlar",
         "rawType": "float64",
         "type": "float"
        },
        {
         "name": "Handball Sport Verein Hamburg",
         "rawType": "float64",
         "type": "float"
        },
        {
         "name": "MT Melsungen",
         "rawType": "float64",
         "type": "float"
        },
        {
         "name": "Rhein-Neckar Löwen",
         "rawType": "float64",
         "type": "float"
        },
        {
         "name": "SC DHfK Leipzig",
         "rawType": "float64",
         "type": "float"
        },
        {
         "name": "SC Magdeburg",
         "rawType": "float64",
         "type": "float"
        },
        {
         "name": "SG BBM Bietigheim",
         "rawType": "float64",
         "type": "float"
        },
        {
         "name": "SG Flensburg-Handewitt",
         "rawType": "float64",
         "type": "float"
        },
        {
         "name": "TBV Lemgo Lippe",
         "rawType": "float64",
         "type": "float"
        },
        {
         "name": "THW Kiel",
         "rawType": "float64",
         "type": "float"
        },
        {
         "name": "TSV Hannover-Burgdorf",
         "rawType": "float64",
         "type": "float"
        },
        {
         "name": "TVB Stuttgart",
         "rawType": "float64",
         "type": "float"
        },
        {
         "name": "ThSV Eisenach",
         "rawType": "float64",
         "type": "float"
        },
        {
         "name": "VfL Gummersbach",
         "rawType": "float64",
         "type": "float"
        }
       ],
       "ref": "acc4f1e9-d0cb-4559-bd51-782f79d7b96a",
       "rows": [
        [
         "1",
         "0.0",
         "1.0",
         "2.0",
         "0.0",
         "0.0",
         "1.0",
         "2.0",
         "2.0",
         "2.0",
         "2.0",
         "2.0",
         "2.0",
         "0.0",
         "0.0",
         "0.0",
         "0.0",
         "0.0",
         "2.0"
        ],
        [
         "2",
         "0.0",
         "1.0",
         "4.0",
         "0.0",
         "0.0",
         "1.0",
         "4.0",
         "4.0",
         "2.0",
         "4.0",
         "2.0",
         "4.0",
         "2.0",
         "2.0",
         "2.0",
         "0.0",
         "2.0",
         "2.0"
        ],
        [
         "3",
         "0.0",
         "1.0",
         "4.0",
         "0.0",
         "0.0",
         "3.0",
         "4.0",
         "6.0",
         "4.0",
         "4.0",
         "4.0",
         "6.0",
         "4.0",
         "4.0",
         "4.0",
         "2.0",
         "2.0",
         "2.0"
        ],
        [
         "4",
         "0.0",
         "1.0",
         "6.0",
         "0.0",
         "2.0",
         "5.0",
         "6.0",
         "6.0",
         "6.0",
         "6.0",
         "4.0",
         "8.0",
         "4.0",
         "4.0",
         "6.0",
         "2.0",
         "2.0",
         "4.0"
        ],
        [
         "5",
         "0.0",
         "1.0",
         "8.0",
         "2.0",
         "2.0",
         "5.0",
         "8.0",
         "8.0",
         "6.0",
         "8.0",
         "4.0",
         "9.0",
         "6.0",
         "6.0",
         "8.0",
         "2.0",
         "2.0",
         "5.0"
        ],
        [
         "6",
         "0.0",
         "2.0",
         "10.0",
         "2.0",
         "2.0",
         "5.0",
         "10.0",
         "8.0",
         "8.0",
         "10.0",
         "4.0",
         "9.0",
         "8.0",
         "8.0",
         "10.0",
         "2.0",
         "4.0",
         "6.0"
        ],
        [
         "7",
         "0.0",
         "4.0",
         "10.0",
         "2.0",
         "4.0",
         "5.0",
         "12.0",
         "10.0",
         "8.0",
         "12.0",
         "4.0",
         "9.0",
         "10.0",
         "10.0",
         "12.0",
         "2.0",
         "4.0",
         "8.0"
        ],
        [
         "8",
         "0.0",
         "4.0",
         "12.0",
         "2.0",
         "4.0",
         "6.0",
         "13.0",
         "10.0",
         "9.0",
         "14.0",
         "4.0",
         "11.0",
         "12.0",
         "12.0",
         "13.0",
         "2.0",
         "6.0",
         "10.0"
        ],
        [
         "9",
         "0.0",
         "6.0",
         "14.0",
         "2.0",
         "4.0",
         "6.0",
         "15.0",
         "10.0",
         "9.0",
         "16.0",
         "6.0",
         "13.0",
         "12.0",
         "12.0",
         "15.0",
         "2.0",
         "8.0",
         "12.0"
        ],
        [
         "10",
         "0.0",
         "6.0",
         "15.0",
         "2.0",
         "6.0",
         "7.0",
         "17.0",
         "12.0",
         "11.0",
         "16.0",
         "7.0",
         "15.0",
         "14.0",
         "12.0",
         "16.0",
         "2.0",
         "8.0",
         "14.0"
        ],
        [
         "11",
         "0.0",
         "6.0",
         "17.0",
         "2.0",
         "8.0",
         "9.0",
         "17.0",
         "14.0",
         "13.0",
         "16.0",
         "7.0",
         "17.0",
         "14.0",
         "14.0",
         "18.0",
         "2.0",
         "10.0",
         "14.0"
        ],
        [
         "12",
         "0.0",
         "6.0",
         "19.0",
         "4.0",
         "8.0",
         "11.0",
         "19.0",
         "14.0",
         "13.0",
         "18.0",
         "7.0",
         "17.0",
         "14.0",
         "16.0",
         "20.0",
         "2.0",
         "12.0",
         "16.0"
        ],
        [
         "13",
         "0.0",
         "8.0",
         "20.0",
         "4.0",
         "8.0",
         "13.0",
         "21.0",
         "14.0",
         "13.0",
         "19.0",
         "7.0",
         "19.0",
         "14.0",
         "18.0",
         "22.0",
         "4.0",
         "12.0",
         "18.0"
        ],
        [
         "14",
         "0.0",
         "8.0",
         "22.0",
         "5.0",
         "10.0",
         "13.0",
         "23.0",
         "16.0",
         "13.0",
         "21.0",
         "8.0",
         "19.0",
         "14.0",
         "20.0",
         "22.0",
         "6.0",
         "14.0",
         "18.0"
        ],
        [
         "15",
         "0.0",
         "10.0",
         "22.0",
         "5.0",
         "10.0",
         "15.0",
         "25.0",
         "16.0",
         "13.0",
         "23.0",
         "8.0",
         "21.0",
         "16.0",
         "22.0",
         "24.0",
         "8.0",
         "14.0",
         "18.0"
        ],
        [
         "16",
         "0.0",
         "10.0",
         "24.0",
         "5.0",
         "12.0",
         "16.0",
         "27.0",
         "18.0",
         "15.0",
         "25.0",
         "8.0",
         "22.0",
         "18.0",
         "24.0",
         "24.0",
         "8.0",
         "14.0",
         "18.0"
        ],
        [
         "17",
         "0.0",
         "10.0",
         "26.0",
         "5.0",
         "12.0",
         "16.0",
         "29.0",
         "20.0",
         "15.0",
         "27.0",
         "8.0",
         "24.0",
         "18.0",
         "26.0",
         "26.0",
         "10.0",
         "16.0",
         "18.0"
        ],
        [
         "18",
         "0.0",
         "10.0",
         "28.0",
         "5.0",
         "14.0",
         "17.0",
         "31.0",
         "21.0",
         "15.0",
         "27.0",
         "8.0",
         "26.0",
         "18.0",
         "28.0",
         "28.0",
         "10.0",
         "18.0",
         "20.0"
        ],
        [
         "19",
         "0.0",
         "12.0",
         "29.0",
         "5.0",
         "16.0",
         "19.0",
         "31.0",
         "23.0",
         "17.0",
         "29.0",
         "8.0",
         "28.0",
         "19.0",
         "28.0",
         "30.0",
         "10.0",
         "18.0",
         "20.0"
        ],
        [
         "20",
         "0.0",
         "12.0",
         "31.0",
         "5.0",
         "16.0",
         "21.0",
         "33.0",
         "23.0",
         "18.0",
         "31.0",
         "8.0",
         "28.0",
         "21.0",
         "30.0",
         "32.0",
         "10.0",
         "19.0",
         "22.0"
        ],
        [
         "21",
         "0.0",
         "12.0",
         "33.0",
         "6.0",
         "16.0",
         "21.0",
         "33.0",
         "25.0",
         "18.0",
         "33.0",
         "8.0",
         "30.0",
         "23.0",
         "30.0",
         "33.0",
         "10.0",
         "21.0",
         "24.0"
        ],
        [
         "22",
         "2.0",
         "13.0",
         "35.0",
         "6.0",
         "16.0",
         "21.0",
         "35.0",
         "25.0",
         "18.0",
         "35.0",
         "8.0",
         "31.0",
         "25.0",
         "30.0",
         "35.0",
         "10.0",
         "21.0",
         "26.0"
        ],
        [
         "23",
         "2.0",
         "13.0",
         "37.0",
         "6.0",
         "18.0",
         "23.0",
         "35.0",
         "25.0",
         "18.0",
         "35.0",
         "10.0",
         "33.0",
         "27.0",
         "30.0",
         "37.0",
         "12.0",
         "21.0",
         "28.0"
        ],
        [
         "24",
         "2.0",
         "15.0",
         "39.0",
         "8.0",
         "18.0",
         "23.0",
         "37.0",
         "27.0",
         "18.0",
         "37.0",
         "10.0",
         "33.0",
         "29.0",
         "30.0",
         "39.0",
         "12.0",
         "21.0",
         "30.0"
        ],
        [
         "25",
         "2.0",
         "17.0",
         "40.0",
         "9.0",
         "18.0",
         "25.0",
         "39.0",
         "29.0",
         "18.0",
         "39.0",
         "10.0",
         "34.0",
         "29.0",
         "32.0",
         "39.0",
         "14.0",
         "22.0",
         "30.0"
        ],
        [
         "26",
         "4.0",
         "17.0",
         "42.0",
         "10.0",
         "18.0",
         "25.0",
         "41.0",
         "29.0",
         "18.0",
         "41.0",
         "12.0",
         "36.0",
         "31.0",
         "34.0",
         "39.0",
         "14.0",
         "23.0",
         "30.0"
        ],
        [
         "27",
         "4.0",
         "17.0",
         "44.0",
         "10.0",
         "18.0",
         "27.0",
         "43.0",
         "31.0",
         "18.0",
         "43.0",
         "12.0",
         "38.0",
         "31.0",
         "34.0",
         "41.0",
         "14.0",
         "25.0",
         "32.0"
        ],
        [
         "28",
         "4.0",
         "19.0",
         "46.0",
         "10.0",
         "18.0",
         "27.0",
         "45.0",
         "31.0",
         "20.0",
         "45.0",
         "12.0",
         "40.0",
         "33.0",
         "36.0",
         "43.0",
         "14.0",
         "25.0",
         "32.0"
        ],
        [
         "29",
         "4.0",
         "19.0",
         "48.0",
         "10.0",
         "18.0",
         "29.0",
         "47.0",
         "33.0",
         "22.0",
         "47.0",
         "14.0",
         "42.0",
         "33.0",
         "38.0",
         "43.0",
         "14.0",
         "25.0",
         "32.0"
        ],
        [
         "30",
         "4.0",
         "19.0",
         "50.0",
         "12.0",
         "18.0",
         "31.0",
         "49.0",
         "35.0",
         "22.0",
         "49.0",
         "14.0",
         "42.0",
         "35.0",
         "40.0",
         "43.0",
         "14.0",
         "25.0",
         "34.0"
        ],
        [
         "31",
         "6.0",
         "19.0",
         "52.0",
         "12.0",
         "18.0",
         "33.0",
         "49.0",
         "35.0",
         "22.0",
         "51.0",
         "15.0",
         "43.0",
         "37.0",
         "42.0",
         "43.0",
         "16.0",
         "25.0",
         "36.0"
        ],
        [
         "32",
         "6.0",
         "21.0",
         "54.0",
         "14.0",
         "19.0",
         "33.0",
         "51.0",
         "36.0",
         "22.0",
         "53.0",
         "15.0",
         "45.0",
         "37.0",
         "44.0",
         "43.0",
         "16.0",
         "25.0",
         "38.0"
        ],
        [
         "33",
         "6.0",
         "23.0",
         "56.0",
         "16.0",
         "19.0",
         "35.0",
         "52.0",
         "36.0",
         "22.0",
         "55.0",
         "17.0",
         "45.0",
         "38.0",
         "45.0",
         "44.0",
         "16.0",
         "27.0",
         "38.0"
        ],
        [
         "34",
         "6.0",
         "24.0",
         "58.0",
         "18.0",
         "19.0",
         "35.0",
         "54.0",
         "36.0",
         "22.0",
         "57.0",
         "17.0",
         "47.0",
         "39.0",
         "47.0",
         "44.0",
         "18.0",
         "27.0",
         "40.0"
        ]
       ],
       "shape": {
        "columns": 18,
        "rows": 34
       }
      },
      "text/html": [
       "<div>\n",
       "<style scoped>\n",
       "    .dataframe tbody tr th:only-of-type {\n",
       "        vertical-align: middle;\n",
       "    }\n",
       "\n",
       "    .dataframe tbody tr th {\n",
       "        vertical-align: top;\n",
       "    }\n",
       "\n",
       "    .dataframe thead th {\n",
       "        text-align: right;\n",
       "    }\n",
       "</style>\n",
       "<table border=\"1\" class=\"dataframe\">\n",
       "  <thead>\n",
       "    <tr style=\"text-align: right;\">\n",
       "      <th>team</th>\n",
       "      <th>1. VfL Potsdam</th>\n",
       "      <th>FRISCH AUF! Göppingen</th>\n",
       "      <th>Füchse Berlin</th>\n",
       "      <th>HC Erlangen</th>\n",
       "      <th>HSG Wetzlar</th>\n",
       "      <th>Handball Sport Verein Hamburg</th>\n",
       "      <th>MT Melsungen</th>\n",
       "      <th>Rhein-Neckar Löwen</th>\n",
       "      <th>SC DHfK Leipzig</th>\n",
       "      <th>SC Magdeburg</th>\n",
       "      <th>SG BBM Bietigheim</th>\n",
       "      <th>SG Flensburg-Handewitt</th>\n",
       "      <th>TBV Lemgo Lippe</th>\n",
       "      <th>THW Kiel</th>\n",
       "      <th>TSV Hannover-Burgdorf</th>\n",
       "      <th>TVB Stuttgart</th>\n",
       "      <th>ThSV Eisenach</th>\n",
       "      <th>VfL Gummersbach</th>\n",
       "    </tr>\n",
       "    <tr>\n",
       "      <th>date</th>\n",
       "      <th></th>\n",
       "      <th></th>\n",
       "      <th></th>\n",
       "      <th></th>\n",
       "      <th></th>\n",
       "      <th></th>\n",
       "      <th></th>\n",
       "      <th></th>\n",
       "      <th></th>\n",
       "      <th></th>\n",
       "      <th></th>\n",
       "      <th></th>\n",
       "      <th></th>\n",
       "      <th></th>\n",
       "      <th></th>\n",
       "      <th></th>\n",
       "      <th></th>\n",
       "      <th></th>\n",
       "    </tr>\n",
       "  </thead>\n",
       "  <tbody>\n",
       "    <tr>\n",
       "      <th>1</th>\n",
       "      <td>0.0</td>\n",
       "      <td>1.0</td>\n",
       "      <td>2.0</td>\n",
       "      <td>0.0</td>\n",
       "      <td>0.0</td>\n",
       "      <td>1.0</td>\n",
       "      <td>2.0</td>\n",
       "      <td>2.0</td>\n",
       "      <td>2.0</td>\n",
       "      <td>2.0</td>\n",
       "      <td>2.0</td>\n",
       "      <td>2.0</td>\n",
       "      <td>0.0</td>\n",
       "      <td>0.0</td>\n",
       "      <td>0.0</td>\n",
       "      <td>0.0</td>\n",
       "      <td>0.0</td>\n",
       "      <td>2.0</td>\n",
       "    </tr>\n",
       "    <tr>\n",
       "      <th>2</th>\n",
       "      <td>0.0</td>\n",
       "      <td>1.0</td>\n",
       "      <td>4.0</td>\n",
       "      <td>0.0</td>\n",
       "      <td>0.0</td>\n",
       "      <td>1.0</td>\n",
       "      <td>4.0</td>\n",
       "      <td>4.0</td>\n",
       "      <td>2.0</td>\n",
       "      <td>4.0</td>\n",
       "      <td>2.0</td>\n",
       "      <td>4.0</td>\n",
       "      <td>2.0</td>\n",
       "      <td>2.0</td>\n",
       "      <td>2.0</td>\n",
       "      <td>0.0</td>\n",
       "      <td>2.0</td>\n",
       "      <td>2.0</td>\n",
       "    </tr>\n",
       "    <tr>\n",
       "      <th>3</th>\n",
       "      <td>0.0</td>\n",
       "      <td>1.0</td>\n",
       "      <td>4.0</td>\n",
       "      <td>0.0</td>\n",
       "      <td>0.0</td>\n",
       "      <td>3.0</td>\n",
       "      <td>4.0</td>\n",
       "      <td>6.0</td>\n",
       "      <td>4.0</td>\n",
       "      <td>4.0</td>\n",
       "      <td>4.0</td>\n",
       "      <td>6.0</td>\n",
       "      <td>4.0</td>\n",
       "      <td>4.0</td>\n",
       "      <td>4.0</td>\n",
       "      <td>2.0</td>\n",
       "      <td>2.0</td>\n",
       "      <td>2.0</td>\n",
       "    </tr>\n",
       "    <tr>\n",
       "      <th>4</th>\n",
       "      <td>0.0</td>\n",
       "      <td>1.0</td>\n",
       "      <td>6.0</td>\n",
       "      <td>0.0</td>\n",
       "      <td>2.0</td>\n",
       "      <td>5.0</td>\n",
       "      <td>6.0</td>\n",
       "      <td>6.0</td>\n",
       "      <td>6.0</td>\n",
       "      <td>6.0</td>\n",
       "      <td>4.0</td>\n",
       "      <td>8.0</td>\n",
       "      <td>4.0</td>\n",
       "      <td>4.0</td>\n",
       "      <td>6.0</td>\n",
       "      <td>2.0</td>\n",
       "      <td>2.0</td>\n",
       "      <td>4.0</td>\n",
       "    </tr>\n",
       "    <tr>\n",
       "      <th>5</th>\n",
       "      <td>0.0</td>\n",
       "      <td>1.0</td>\n",
       "      <td>8.0</td>\n",
       "      <td>2.0</td>\n",
       "      <td>2.0</td>\n",
       "      <td>5.0</td>\n",
       "      <td>8.0</td>\n",
       "      <td>8.0</td>\n",
       "      <td>6.0</td>\n",
       "      <td>8.0</td>\n",
       "      <td>4.0</td>\n",
       "      <td>9.0</td>\n",
       "      <td>6.0</td>\n",
       "      <td>6.0</td>\n",
       "      <td>8.0</td>\n",
       "      <td>2.0</td>\n",
       "      <td>2.0</td>\n",
       "      <td>5.0</td>\n",
       "    </tr>\n",
       "    <tr>\n",
       "      <th>6</th>\n",
       "      <td>0.0</td>\n",
       "      <td>2.0</td>\n",
       "      <td>10.0</td>\n",
       "      <td>2.0</td>\n",
       "      <td>2.0</td>\n",
       "      <td>5.0</td>\n",
       "      <td>10.0</td>\n",
       "      <td>8.0</td>\n",
       "      <td>8.0</td>\n",
       "      <td>10.0</td>\n",
       "      <td>4.0</td>\n",
       "      <td>9.0</td>\n",
       "      <td>8.0</td>\n",
       "      <td>8.0</td>\n",
       "      <td>10.0</td>\n",
       "      <td>2.0</td>\n",
       "      <td>4.0</td>\n",
       "      <td>6.0</td>\n",
       "    </tr>\n",
       "    <tr>\n",
       "      <th>7</th>\n",
       "      <td>0.0</td>\n",
       "      <td>4.0</td>\n",
       "      <td>10.0</td>\n",
       "      <td>2.0</td>\n",
       "      <td>4.0</td>\n",
       "      <td>5.0</td>\n",
       "      <td>12.0</td>\n",
       "      <td>10.0</td>\n",
       "      <td>8.0</td>\n",
       "      <td>12.0</td>\n",
       "      <td>4.0</td>\n",
       "      <td>9.0</td>\n",
       "      <td>10.0</td>\n",
       "      <td>10.0</td>\n",
       "      <td>12.0</td>\n",
       "      <td>2.0</td>\n",
       "      <td>4.0</td>\n",
       "      <td>8.0</td>\n",
       "    </tr>\n",
       "    <tr>\n",
       "      <th>8</th>\n",
       "      <td>0.0</td>\n",
       "      <td>4.0</td>\n",
       "      <td>12.0</td>\n",
       "      <td>2.0</td>\n",
       "      <td>4.0</td>\n",
       "      <td>6.0</td>\n",
       "      <td>13.0</td>\n",
       "      <td>10.0</td>\n",
       "      <td>9.0</td>\n",
       "      <td>14.0</td>\n",
       "      <td>4.0</td>\n",
       "      <td>11.0</td>\n",
       "      <td>12.0</td>\n",
       "      <td>12.0</td>\n",
       "      <td>13.0</td>\n",
       "      <td>2.0</td>\n",
       "      <td>6.0</td>\n",
       "      <td>10.0</td>\n",
       "    </tr>\n",
       "    <tr>\n",
       "      <th>9</th>\n",
       "      <td>0.0</td>\n",
       "      <td>6.0</td>\n",
       "      <td>14.0</td>\n",
       "      <td>2.0</td>\n",
       "      <td>4.0</td>\n",
       "      <td>6.0</td>\n",
       "      <td>15.0</td>\n",
       "      <td>10.0</td>\n",
       "      <td>9.0</td>\n",
       "      <td>16.0</td>\n",
       "      <td>6.0</td>\n",
       "      <td>13.0</td>\n",
       "      <td>12.0</td>\n",
       "      <td>12.0</td>\n",
       "      <td>15.0</td>\n",
       "      <td>2.0</td>\n",
       "      <td>8.0</td>\n",
       "      <td>12.0</td>\n",
       "    </tr>\n",
       "    <tr>\n",
       "      <th>10</th>\n",
       "      <td>0.0</td>\n",
       "      <td>6.0</td>\n",
       "      <td>15.0</td>\n",
       "      <td>2.0</td>\n",
       "      <td>6.0</td>\n",
       "      <td>7.0</td>\n",
       "      <td>17.0</td>\n",
       "      <td>12.0</td>\n",
       "      <td>11.0</td>\n",
       "      <td>16.0</td>\n",
       "      <td>7.0</td>\n",
       "      <td>15.0</td>\n",
       "      <td>14.0</td>\n",
       "      <td>12.0</td>\n",
       "      <td>16.0</td>\n",
       "      <td>2.0</td>\n",
       "      <td>8.0</td>\n",
       "      <td>14.0</td>\n",
       "    </tr>\n",
       "    <tr>\n",
       "      <th>11</th>\n",
       "      <td>0.0</td>\n",
       "      <td>6.0</td>\n",
       "      <td>17.0</td>\n",
       "      <td>2.0</td>\n",
       "      <td>8.0</td>\n",
       "      <td>9.0</td>\n",
       "      <td>17.0</td>\n",
       "      <td>14.0</td>\n",
       "      <td>13.0</td>\n",
       "      <td>16.0</td>\n",
       "      <td>7.0</td>\n",
       "      <td>17.0</td>\n",
       "      <td>14.0</td>\n",
       "      <td>14.0</td>\n",
       "      <td>18.0</td>\n",
       "      <td>2.0</td>\n",
       "      <td>10.0</td>\n",
       "      <td>14.0</td>\n",
       "    </tr>\n",
       "    <tr>\n",
       "      <th>12</th>\n",
       "      <td>0.0</td>\n",
       "      <td>6.0</td>\n",
       "      <td>19.0</td>\n",
       "      <td>4.0</td>\n",
       "      <td>8.0</td>\n",
       "      <td>11.0</td>\n",
       "      <td>19.0</td>\n",
       "      <td>14.0</td>\n",
       "      <td>13.0</td>\n",
       "      <td>18.0</td>\n",
       "      <td>7.0</td>\n",
       "      <td>17.0</td>\n",
       "      <td>14.0</td>\n",
       "      <td>16.0</td>\n",
       "      <td>20.0</td>\n",
       "      <td>2.0</td>\n",
       "      <td>12.0</td>\n",
       "      <td>16.0</td>\n",
       "    </tr>\n",
       "    <tr>\n",
       "      <th>13</th>\n",
       "      <td>0.0</td>\n",
       "      <td>8.0</td>\n",
       "      <td>20.0</td>\n",
       "      <td>4.0</td>\n",
       "      <td>8.0</td>\n",
       "      <td>13.0</td>\n",
       "      <td>21.0</td>\n",
       "      <td>14.0</td>\n",
       "      <td>13.0</td>\n",
       "      <td>19.0</td>\n",
       "      <td>7.0</td>\n",
       "      <td>19.0</td>\n",
       "      <td>14.0</td>\n",
       "      <td>18.0</td>\n",
       "      <td>22.0</td>\n",
       "      <td>4.0</td>\n",
       "      <td>12.0</td>\n",
       "      <td>18.0</td>\n",
       "    </tr>\n",
       "    <tr>\n",
       "      <th>14</th>\n",
       "      <td>0.0</td>\n",
       "      <td>8.0</td>\n",
       "      <td>22.0</td>\n",
       "      <td>5.0</td>\n",
       "      <td>10.0</td>\n",
       "      <td>13.0</td>\n",
       "      <td>23.0</td>\n",
       "      <td>16.0</td>\n",
       "      <td>13.0</td>\n",
       "      <td>21.0</td>\n",
       "      <td>8.0</td>\n",
       "      <td>19.0</td>\n",
       "      <td>14.0</td>\n",
       "      <td>20.0</td>\n",
       "      <td>22.0</td>\n",
       "      <td>6.0</td>\n",
       "      <td>14.0</td>\n",
       "      <td>18.0</td>\n",
       "    </tr>\n",
       "    <tr>\n",
       "      <th>15</th>\n",
       "      <td>0.0</td>\n",
       "      <td>10.0</td>\n",
       "      <td>22.0</td>\n",
       "      <td>5.0</td>\n",
       "      <td>10.0</td>\n",
       "      <td>15.0</td>\n",
       "      <td>25.0</td>\n",
       "      <td>16.0</td>\n",
       "      <td>13.0</td>\n",
       "      <td>23.0</td>\n",
       "      <td>8.0</td>\n",
       "      <td>21.0</td>\n",
       "      <td>16.0</td>\n",
       "      <td>22.0</td>\n",
       "      <td>24.0</td>\n",
       "      <td>8.0</td>\n",
       "      <td>14.0</td>\n",
       "      <td>18.0</td>\n",
       "    </tr>\n",
       "    <tr>\n",
       "      <th>16</th>\n",
       "      <td>0.0</td>\n",
       "      <td>10.0</td>\n",
       "      <td>24.0</td>\n",
       "      <td>5.0</td>\n",
       "      <td>12.0</td>\n",
       "      <td>16.0</td>\n",
       "      <td>27.0</td>\n",
       "      <td>18.0</td>\n",
       "      <td>15.0</td>\n",
       "      <td>25.0</td>\n",
       "      <td>8.0</td>\n",
       "      <td>22.0</td>\n",
       "      <td>18.0</td>\n",
       "      <td>24.0</td>\n",
       "      <td>24.0</td>\n",
       "      <td>8.0</td>\n",
       "      <td>14.0</td>\n",
       "      <td>18.0</td>\n",
       "    </tr>\n",
       "    <tr>\n",
       "      <th>17</th>\n",
       "      <td>0.0</td>\n",
       "      <td>10.0</td>\n",
       "      <td>26.0</td>\n",
       "      <td>5.0</td>\n",
       "      <td>12.0</td>\n",
       "      <td>16.0</td>\n",
       "      <td>29.0</td>\n",
       "      <td>20.0</td>\n",
       "      <td>15.0</td>\n",
       "      <td>27.0</td>\n",
       "      <td>8.0</td>\n",
       "      <td>24.0</td>\n",
       "      <td>18.0</td>\n",
       "      <td>26.0</td>\n",
       "      <td>26.0</td>\n",
       "      <td>10.0</td>\n",
       "      <td>16.0</td>\n",
       "      <td>18.0</td>\n",
       "    </tr>\n",
       "    <tr>\n",
       "      <th>18</th>\n",
       "      <td>0.0</td>\n",
       "      <td>10.0</td>\n",
       "      <td>28.0</td>\n",
       "      <td>5.0</td>\n",
       "      <td>14.0</td>\n",
       "      <td>17.0</td>\n",
       "      <td>31.0</td>\n",
       "      <td>21.0</td>\n",
       "      <td>15.0</td>\n",
       "      <td>27.0</td>\n",
       "      <td>8.0</td>\n",
       "      <td>26.0</td>\n",
       "      <td>18.0</td>\n",
       "      <td>28.0</td>\n",
       "      <td>28.0</td>\n",
       "      <td>10.0</td>\n",
       "      <td>18.0</td>\n",
       "      <td>20.0</td>\n",
       "    </tr>\n",
       "    <tr>\n",
       "      <th>19</th>\n",
       "      <td>0.0</td>\n",
       "      <td>12.0</td>\n",
       "      <td>29.0</td>\n",
       "      <td>5.0</td>\n",
       "      <td>16.0</td>\n",
       "      <td>19.0</td>\n",
       "      <td>31.0</td>\n",
       "      <td>23.0</td>\n",
       "      <td>17.0</td>\n",
       "      <td>29.0</td>\n",
       "      <td>8.0</td>\n",
       "      <td>28.0</td>\n",
       "      <td>19.0</td>\n",
       "      <td>28.0</td>\n",
       "      <td>30.0</td>\n",
       "      <td>10.0</td>\n",
       "      <td>18.0</td>\n",
       "      <td>20.0</td>\n",
       "    </tr>\n",
       "    <tr>\n",
       "      <th>20</th>\n",
       "      <td>0.0</td>\n",
       "      <td>12.0</td>\n",
       "      <td>31.0</td>\n",
       "      <td>5.0</td>\n",
       "      <td>16.0</td>\n",
       "      <td>21.0</td>\n",
       "      <td>33.0</td>\n",
       "      <td>23.0</td>\n",
       "      <td>18.0</td>\n",
       "      <td>31.0</td>\n",
       "      <td>8.0</td>\n",
       "      <td>28.0</td>\n",
       "      <td>21.0</td>\n",
       "      <td>30.0</td>\n",
       "      <td>32.0</td>\n",
       "      <td>10.0</td>\n",
       "      <td>19.0</td>\n",
       "      <td>22.0</td>\n",
       "    </tr>\n",
       "    <tr>\n",
       "      <th>21</th>\n",
       "      <td>0.0</td>\n",
       "      <td>12.0</td>\n",
       "      <td>33.0</td>\n",
       "      <td>6.0</td>\n",
       "      <td>16.0</td>\n",
       "      <td>21.0</td>\n",
       "      <td>33.0</td>\n",
       "      <td>25.0</td>\n",
       "      <td>18.0</td>\n",
       "      <td>33.0</td>\n",
       "      <td>8.0</td>\n",
       "      <td>30.0</td>\n",
       "      <td>23.0</td>\n",
       "      <td>30.0</td>\n",
       "      <td>33.0</td>\n",
       "      <td>10.0</td>\n",
       "      <td>21.0</td>\n",
       "      <td>24.0</td>\n",
       "    </tr>\n",
       "    <tr>\n",
       "      <th>22</th>\n",
       "      <td>2.0</td>\n",
       "      <td>13.0</td>\n",
       "      <td>35.0</td>\n",
       "      <td>6.0</td>\n",
       "      <td>16.0</td>\n",
       "      <td>21.0</td>\n",
       "      <td>35.0</td>\n",
       "      <td>25.0</td>\n",
       "      <td>18.0</td>\n",
       "      <td>35.0</td>\n",
       "      <td>8.0</td>\n",
       "      <td>31.0</td>\n",
       "      <td>25.0</td>\n",
       "      <td>30.0</td>\n",
       "      <td>35.0</td>\n",
       "      <td>10.0</td>\n",
       "      <td>21.0</td>\n",
       "      <td>26.0</td>\n",
       "    </tr>\n",
       "    <tr>\n",
       "      <th>23</th>\n",
       "      <td>2.0</td>\n",
       "      <td>13.0</td>\n",
       "      <td>37.0</td>\n",
       "      <td>6.0</td>\n",
       "      <td>18.0</td>\n",
       "      <td>23.0</td>\n",
       "      <td>35.0</td>\n",
       "      <td>25.0</td>\n",
       "      <td>18.0</td>\n",
       "      <td>35.0</td>\n",
       "      <td>10.0</td>\n",
       "      <td>33.0</td>\n",
       "      <td>27.0</td>\n",
       "      <td>30.0</td>\n",
       "      <td>37.0</td>\n",
       "      <td>12.0</td>\n",
       "      <td>21.0</td>\n",
       "      <td>28.0</td>\n",
       "    </tr>\n",
       "    <tr>\n",
       "      <th>24</th>\n",
       "      <td>2.0</td>\n",
       "      <td>15.0</td>\n",
       "      <td>39.0</td>\n",
       "      <td>8.0</td>\n",
       "      <td>18.0</td>\n",
       "      <td>23.0</td>\n",
       "      <td>37.0</td>\n",
       "      <td>27.0</td>\n",
       "      <td>18.0</td>\n",
       "      <td>37.0</td>\n",
       "      <td>10.0</td>\n",
       "      <td>33.0</td>\n",
       "      <td>29.0</td>\n",
       "      <td>30.0</td>\n",
       "      <td>39.0</td>\n",
       "      <td>12.0</td>\n",
       "      <td>21.0</td>\n",
       "      <td>30.0</td>\n",
       "    </tr>\n",
       "    <tr>\n",
       "      <th>25</th>\n",
       "      <td>2.0</td>\n",
       "      <td>17.0</td>\n",
       "      <td>40.0</td>\n",
       "      <td>9.0</td>\n",
       "      <td>18.0</td>\n",
       "      <td>25.0</td>\n",
       "      <td>39.0</td>\n",
       "      <td>29.0</td>\n",
       "      <td>18.0</td>\n",
       "      <td>39.0</td>\n",
       "      <td>10.0</td>\n",
       "      <td>34.0</td>\n",
       "      <td>29.0</td>\n",
       "      <td>32.0</td>\n",
       "      <td>39.0</td>\n",
       "      <td>14.0</td>\n",
       "      <td>22.0</td>\n",
       "      <td>30.0</td>\n",
       "    </tr>\n",
       "    <tr>\n",
       "      <th>26</th>\n",
       "      <td>4.0</td>\n",
       "      <td>17.0</td>\n",
       "      <td>42.0</td>\n",
       "      <td>10.0</td>\n",
       "      <td>18.0</td>\n",
       "      <td>25.0</td>\n",
       "      <td>41.0</td>\n",
       "      <td>29.0</td>\n",
       "      <td>18.0</td>\n",
       "      <td>41.0</td>\n",
       "      <td>12.0</td>\n",
       "      <td>36.0</td>\n",
       "      <td>31.0</td>\n",
       "      <td>34.0</td>\n",
       "      <td>39.0</td>\n",
       "      <td>14.0</td>\n",
       "      <td>23.0</td>\n",
       "      <td>30.0</td>\n",
       "    </tr>\n",
       "    <tr>\n",
       "      <th>27</th>\n",
       "      <td>4.0</td>\n",
       "      <td>17.0</td>\n",
       "      <td>44.0</td>\n",
       "      <td>10.0</td>\n",
       "      <td>18.0</td>\n",
       "      <td>27.0</td>\n",
       "      <td>43.0</td>\n",
       "      <td>31.0</td>\n",
       "      <td>18.0</td>\n",
       "      <td>43.0</td>\n",
       "      <td>12.0</td>\n",
       "      <td>38.0</td>\n",
       "      <td>31.0</td>\n",
       "      <td>34.0</td>\n",
       "      <td>41.0</td>\n",
       "      <td>14.0</td>\n",
       "      <td>25.0</td>\n",
       "      <td>32.0</td>\n",
       "    </tr>\n",
       "    <tr>\n",
       "      <th>28</th>\n",
       "      <td>4.0</td>\n",
       "      <td>19.0</td>\n",
       "      <td>46.0</td>\n",
       "      <td>10.0</td>\n",
       "      <td>18.0</td>\n",
       "      <td>27.0</td>\n",
       "      <td>45.0</td>\n",
       "      <td>31.0</td>\n",
       "      <td>20.0</td>\n",
       "      <td>45.0</td>\n",
       "      <td>12.0</td>\n",
       "      <td>40.0</td>\n",
       "      <td>33.0</td>\n",
       "      <td>36.0</td>\n",
       "      <td>43.0</td>\n",
       "      <td>14.0</td>\n",
       "      <td>25.0</td>\n",
       "      <td>32.0</td>\n",
       "    </tr>\n",
       "    <tr>\n",
       "      <th>29</th>\n",
       "      <td>4.0</td>\n",
       "      <td>19.0</td>\n",
       "      <td>48.0</td>\n",
       "      <td>10.0</td>\n",
       "      <td>18.0</td>\n",
       "      <td>29.0</td>\n",
       "      <td>47.0</td>\n",
       "      <td>33.0</td>\n",
       "      <td>22.0</td>\n",
       "      <td>47.0</td>\n",
       "      <td>14.0</td>\n",
       "      <td>42.0</td>\n",
       "      <td>33.0</td>\n",
       "      <td>38.0</td>\n",
       "      <td>43.0</td>\n",
       "      <td>14.0</td>\n",
       "      <td>25.0</td>\n",
       "      <td>32.0</td>\n",
       "    </tr>\n",
       "    <tr>\n",
       "      <th>30</th>\n",
       "      <td>4.0</td>\n",
       "      <td>19.0</td>\n",
       "      <td>50.0</td>\n",
       "      <td>12.0</td>\n",
       "      <td>18.0</td>\n",
       "      <td>31.0</td>\n",
       "      <td>49.0</td>\n",
       "      <td>35.0</td>\n",
       "      <td>22.0</td>\n",
       "      <td>49.0</td>\n",
       "      <td>14.0</td>\n",
       "      <td>42.0</td>\n",
       "      <td>35.0</td>\n",
       "      <td>40.0</td>\n",
       "      <td>43.0</td>\n",
       "      <td>14.0</td>\n",
       "      <td>25.0</td>\n",
       "      <td>34.0</td>\n",
       "    </tr>\n",
       "    <tr>\n",
       "      <th>31</th>\n",
       "      <td>6.0</td>\n",
       "      <td>19.0</td>\n",
       "      <td>52.0</td>\n",
       "      <td>12.0</td>\n",
       "      <td>18.0</td>\n",
       "      <td>33.0</td>\n",
       "      <td>49.0</td>\n",
       "      <td>35.0</td>\n",
       "      <td>22.0</td>\n",
       "      <td>51.0</td>\n",
       "      <td>15.0</td>\n",
       "      <td>43.0</td>\n",
       "      <td>37.0</td>\n",
       "      <td>42.0</td>\n",
       "      <td>43.0</td>\n",
       "      <td>16.0</td>\n",
       "      <td>25.0</td>\n",
       "      <td>36.0</td>\n",
       "    </tr>\n",
       "    <tr>\n",
       "      <th>32</th>\n",
       "      <td>6.0</td>\n",
       "      <td>21.0</td>\n",
       "      <td>54.0</td>\n",
       "      <td>14.0</td>\n",
       "      <td>19.0</td>\n",
       "      <td>33.0</td>\n",
       "      <td>51.0</td>\n",
       "      <td>36.0</td>\n",
       "      <td>22.0</td>\n",
       "      <td>53.0</td>\n",
       "      <td>15.0</td>\n",
       "      <td>45.0</td>\n",
       "      <td>37.0</td>\n",
       "      <td>44.0</td>\n",
       "      <td>43.0</td>\n",
       "      <td>16.0</td>\n",
       "      <td>25.0</td>\n",
       "      <td>38.0</td>\n",
       "    </tr>\n",
       "    <tr>\n",
       "      <th>33</th>\n",
       "      <td>6.0</td>\n",
       "      <td>23.0</td>\n",
       "      <td>56.0</td>\n",
       "      <td>16.0</td>\n",
       "      <td>19.0</td>\n",
       "      <td>35.0</td>\n",
       "      <td>52.0</td>\n",
       "      <td>36.0</td>\n",
       "      <td>22.0</td>\n",
       "      <td>55.0</td>\n",
       "      <td>17.0</td>\n",
       "      <td>45.0</td>\n",
       "      <td>38.0</td>\n",
       "      <td>45.0</td>\n",
       "      <td>44.0</td>\n",
       "      <td>16.0</td>\n",
       "      <td>27.0</td>\n",
       "      <td>38.0</td>\n",
       "    </tr>\n",
       "    <tr>\n",
       "      <th>34</th>\n",
       "      <td>6.0</td>\n",
       "      <td>24.0</td>\n",
       "      <td>58.0</td>\n",
       "      <td>18.0</td>\n",
       "      <td>19.0</td>\n",
       "      <td>35.0</td>\n",
       "      <td>54.0</td>\n",
       "      <td>36.0</td>\n",
       "      <td>22.0</td>\n",
       "      <td>57.0</td>\n",
       "      <td>17.0</td>\n",
       "      <td>47.0</td>\n",
       "      <td>39.0</td>\n",
       "      <td>47.0</td>\n",
       "      <td>44.0</td>\n",
       "      <td>18.0</td>\n",
       "      <td>27.0</td>\n",
       "      <td>40.0</td>\n",
       "    </tr>\n",
       "  </tbody>\n",
       "</table>\n",
       "</div>"
      ],
      "text/plain": [
       "team  1. VfL Potsdam  FRISCH AUF! Göppingen  Füchse Berlin  HC Erlangen  \\\n",
       "date                                                                      \n",
       "1                0.0                    1.0            2.0          0.0   \n",
       "2                0.0                    1.0            4.0          0.0   \n",
       "3                0.0                    1.0            4.0          0.0   \n",
       "4                0.0                    1.0            6.0          0.0   \n",
       "5                0.0                    1.0            8.0          2.0   \n",
       "6                0.0                    2.0           10.0          2.0   \n",
       "7                0.0                    4.0           10.0          2.0   \n",
       "8                0.0                    4.0           12.0          2.0   \n",
       "9                0.0                    6.0           14.0          2.0   \n",
       "10               0.0                    6.0           15.0          2.0   \n",
       "11               0.0                    6.0           17.0          2.0   \n",
       "12               0.0                    6.0           19.0          4.0   \n",
       "13               0.0                    8.0           20.0          4.0   \n",
       "14               0.0                    8.0           22.0          5.0   \n",
       "15               0.0                   10.0           22.0          5.0   \n",
       "16               0.0                   10.0           24.0          5.0   \n",
       "17               0.0                   10.0           26.0          5.0   \n",
       "18               0.0                   10.0           28.0          5.0   \n",
       "19               0.0                   12.0           29.0          5.0   \n",
       "20               0.0                   12.0           31.0          5.0   \n",
       "21               0.0                   12.0           33.0          6.0   \n",
       "22               2.0                   13.0           35.0          6.0   \n",
       "23               2.0                   13.0           37.0          6.0   \n",
       "24               2.0                   15.0           39.0          8.0   \n",
       "25               2.0                   17.0           40.0          9.0   \n",
       "26               4.0                   17.0           42.0         10.0   \n",
       "27               4.0                   17.0           44.0         10.0   \n",
       "28               4.0                   19.0           46.0         10.0   \n",
       "29               4.0                   19.0           48.0         10.0   \n",
       "30               4.0                   19.0           50.0         12.0   \n",
       "31               6.0                   19.0           52.0         12.0   \n",
       "32               6.0                   21.0           54.0         14.0   \n",
       "33               6.0                   23.0           56.0         16.0   \n",
       "34               6.0                   24.0           58.0         18.0   \n",
       "\n",
       "team  HSG Wetzlar  Handball Sport Verein Hamburg  MT Melsungen  \\\n",
       "date                                                             \n",
       "1             0.0                            1.0           2.0   \n",
       "2             0.0                            1.0           4.0   \n",
       "3             0.0                            3.0           4.0   \n",
       "4             2.0                            5.0           6.0   \n",
       "5             2.0                            5.0           8.0   \n",
       "6             2.0                            5.0          10.0   \n",
       "7             4.0                            5.0          12.0   \n",
       "8             4.0                            6.0          13.0   \n",
       "9             4.0                            6.0          15.0   \n",
       "10            6.0                            7.0          17.0   \n",
       "11            8.0                            9.0          17.0   \n",
       "12            8.0                           11.0          19.0   \n",
       "13            8.0                           13.0          21.0   \n",
       "14           10.0                           13.0          23.0   \n",
       "15           10.0                           15.0          25.0   \n",
       "16           12.0                           16.0          27.0   \n",
       "17           12.0                           16.0          29.0   \n",
       "18           14.0                           17.0          31.0   \n",
       "19           16.0                           19.0          31.0   \n",
       "20           16.0                           21.0          33.0   \n",
       "21           16.0                           21.0          33.0   \n",
       "22           16.0                           21.0          35.0   \n",
       "23           18.0                           23.0          35.0   \n",
       "24           18.0                           23.0          37.0   \n",
       "25           18.0                           25.0          39.0   \n",
       "26           18.0                           25.0          41.0   \n",
       "27           18.0                           27.0          43.0   \n",
       "28           18.0                           27.0          45.0   \n",
       "29           18.0                           29.0          47.0   \n",
       "30           18.0                           31.0          49.0   \n",
       "31           18.0                           33.0          49.0   \n",
       "32           19.0                           33.0          51.0   \n",
       "33           19.0                           35.0          52.0   \n",
       "34           19.0                           35.0          54.0   \n",
       "\n",
       "team  Rhein-Neckar Löwen  SC DHfK Leipzig  SC Magdeburg  SG BBM Bietigheim  \\\n",
       "date                                                                         \n",
       "1                    2.0              2.0           2.0                2.0   \n",
       "2                    4.0              2.0           4.0                2.0   \n",
       "3                    6.0              4.0           4.0                4.0   \n",
       "4                    6.0              6.0           6.0                4.0   \n",
       "5                    8.0              6.0           8.0                4.0   \n",
       "6                    8.0              8.0          10.0                4.0   \n",
       "7                   10.0              8.0          12.0                4.0   \n",
       "8                   10.0              9.0          14.0                4.0   \n",
       "9                   10.0              9.0          16.0                6.0   \n",
       "10                  12.0             11.0          16.0                7.0   \n",
       "11                  14.0             13.0          16.0                7.0   \n",
       "12                  14.0             13.0          18.0                7.0   \n",
       "13                  14.0             13.0          19.0                7.0   \n",
       "14                  16.0             13.0          21.0                8.0   \n",
       "15                  16.0             13.0          23.0                8.0   \n",
       "16                  18.0             15.0          25.0                8.0   \n",
       "17                  20.0             15.0          27.0                8.0   \n",
       "18                  21.0             15.0          27.0                8.0   \n",
       "19                  23.0             17.0          29.0                8.0   \n",
       "20                  23.0             18.0          31.0                8.0   \n",
       "21                  25.0             18.0          33.0                8.0   \n",
       "22                  25.0             18.0          35.0                8.0   \n",
       "23                  25.0             18.0          35.0               10.0   \n",
       "24                  27.0             18.0          37.0               10.0   \n",
       "25                  29.0             18.0          39.0               10.0   \n",
       "26                  29.0             18.0          41.0               12.0   \n",
       "27                  31.0             18.0          43.0               12.0   \n",
       "28                  31.0             20.0          45.0               12.0   \n",
       "29                  33.0             22.0          47.0               14.0   \n",
       "30                  35.0             22.0          49.0               14.0   \n",
       "31                  35.0             22.0          51.0               15.0   \n",
       "32                  36.0             22.0          53.0               15.0   \n",
       "33                  36.0             22.0          55.0               17.0   \n",
       "34                  36.0             22.0          57.0               17.0   \n",
       "\n",
       "team  SG Flensburg-Handewitt  TBV Lemgo Lippe  THW Kiel  \\\n",
       "date                                                      \n",
       "1                        2.0              0.0       0.0   \n",
       "2                        4.0              2.0       2.0   \n",
       "3                        6.0              4.0       4.0   \n",
       "4                        8.0              4.0       4.0   \n",
       "5                        9.0              6.0       6.0   \n",
       "6                        9.0              8.0       8.0   \n",
       "7                        9.0             10.0      10.0   \n",
       "8                       11.0             12.0      12.0   \n",
       "9                       13.0             12.0      12.0   \n",
       "10                      15.0             14.0      12.0   \n",
       "11                      17.0             14.0      14.0   \n",
       "12                      17.0             14.0      16.0   \n",
       "13                      19.0             14.0      18.0   \n",
       "14                      19.0             14.0      20.0   \n",
       "15                      21.0             16.0      22.0   \n",
       "16                      22.0             18.0      24.0   \n",
       "17                      24.0             18.0      26.0   \n",
       "18                      26.0             18.0      28.0   \n",
       "19                      28.0             19.0      28.0   \n",
       "20                      28.0             21.0      30.0   \n",
       "21                      30.0             23.0      30.0   \n",
       "22                      31.0             25.0      30.0   \n",
       "23                      33.0             27.0      30.0   \n",
       "24                      33.0             29.0      30.0   \n",
       "25                      34.0             29.0      32.0   \n",
       "26                      36.0             31.0      34.0   \n",
       "27                      38.0             31.0      34.0   \n",
       "28                      40.0             33.0      36.0   \n",
       "29                      42.0             33.0      38.0   \n",
       "30                      42.0             35.0      40.0   \n",
       "31                      43.0             37.0      42.0   \n",
       "32                      45.0             37.0      44.0   \n",
       "33                      45.0             38.0      45.0   \n",
       "34                      47.0             39.0      47.0   \n",
       "\n",
       "team  TSV Hannover-Burgdorf  TVB Stuttgart  ThSV Eisenach  VfL Gummersbach  \n",
       "date                                                                        \n",
       "1                       0.0            0.0            0.0              2.0  \n",
       "2                       2.0            0.0            2.0              2.0  \n",
       "3                       4.0            2.0            2.0              2.0  \n",
       "4                       6.0            2.0            2.0              4.0  \n",
       "5                       8.0            2.0            2.0              5.0  \n",
       "6                      10.0            2.0            4.0              6.0  \n",
       "7                      12.0            2.0            4.0              8.0  \n",
       "8                      13.0            2.0            6.0             10.0  \n",
       "9                      15.0            2.0            8.0             12.0  \n",
       "10                     16.0            2.0            8.0             14.0  \n",
       "11                     18.0            2.0           10.0             14.0  \n",
       "12                     20.0            2.0           12.0             16.0  \n",
       "13                     22.0            4.0           12.0             18.0  \n",
       "14                     22.0            6.0           14.0             18.0  \n",
       "15                     24.0            8.0           14.0             18.0  \n",
       "16                     24.0            8.0           14.0             18.0  \n",
       "17                     26.0           10.0           16.0             18.0  \n",
       "18                     28.0           10.0           18.0             20.0  \n",
       "19                     30.0           10.0           18.0             20.0  \n",
       "20                     32.0           10.0           19.0             22.0  \n",
       "21                     33.0           10.0           21.0             24.0  \n",
       "22                     35.0           10.0           21.0             26.0  \n",
       "23                     37.0           12.0           21.0             28.0  \n",
       "24                     39.0           12.0           21.0             30.0  \n",
       "25                     39.0           14.0           22.0             30.0  \n",
       "26                     39.0           14.0           23.0             30.0  \n",
       "27                     41.0           14.0           25.0             32.0  \n",
       "28                     43.0           14.0           25.0             32.0  \n",
       "29                     43.0           14.0           25.0             32.0  \n",
       "30                     43.0           14.0           25.0             34.0  \n",
       "31                     43.0           16.0           25.0             36.0  \n",
       "32                     43.0           16.0           25.0             38.0  \n",
       "33                     44.0           16.0           27.0             38.0  \n",
       "34                     44.0           18.0           27.0             40.0  "
      ]
     },
     "metadata": {},
     "output_type": "display_data"
    }
   ],
   "source": [
    "def get_points(home, away):\n",
    "    if home > away: return (2, 0)\n",
    "    if home < away: return (0, 2)\n",
    "    return (1, 1)\n",
    "\n",
    "\n",
    "results = []\n",
    "\n",
    "for _, row in df.iterrows():\n",
    "    date = pd.to_datetime(row['data.eventTime'])\n",
    "    gameday = int(row['gameday'])\n",
    "    home, away = row['team_home_name'], row['team_away_name']\n",
    "    s_home, s_away = row['score_home'], row['score_away']\n",
    "    p_home, p_away = get_points(s_home, s_away)\n",
    "    results.extend([\n",
    "        {'date': gameday, 'team': home, 'points': p_home},\n",
    "        {'date': gameday, 'team': away, 'points': p_away},\n",
    "    ])\n",
    "df_long = pd.DataFrame(results)\n",
    "\n",
    "\n",
    "df_pivot = df_long.sort_values('date').groupby(['team', 'date']).sum().groupby(level=0).cumsum().reset_index()\n",
    "df_race = df_pivot.pivot(index='date', columns='team', values='points').fillna(method='ffill').fillna(0)\n",
    "\n",
    "display(df_race)\n",
    "\n",
    "# Mapping Teamname -> color\n",
    "team_color_map = (\n",
    "    df[['team.nameFullLocal', 'team.colors.primary']]\n",
    "    .dropna()\n",
    "    .drop_duplicates()\n",
    "    .set_index('team.nameFullLocal')['team.colors.primary']\n",
    "    .to_dict()\n",
    ")\n",
    "\n"
   ]
  },
  {
   "cell_type": "code",
   "execution_count": 21,
   "metadata": {},
   "outputs": [
    {
     "name": "stderr",
     "output_type": "stream",
     "text": [
      "c:\\dev\\SportradarDatacoreAPI\\.venv\\Lib\\site-packages\\bar_chart_race\\_make_chart.py:889: FutureWarning: Series.fillna with 'method' is deprecated and will raise in a future version. Use obj.ffill() or obj.bfill() instead.\n",
      "  df_values.iloc[:, 0] = df_values.iloc[:, 0].fillna(method='ffill')\n",
      "c:\\dev\\SportradarDatacoreAPI\\.venv\\Lib\\site-packages\\bar_chart_race\\_make_chart.py:286: UserWarning: set_ticklabels() should only be used with a fixed number of ticks, i.e. after set_ticks() or using a FixedLocator.\n",
      "  ax.set_yticklabels(self.df_values.columns)\n",
      "c:\\dev\\SportradarDatacoreAPI\\.venv\\Lib\\site-packages\\bar_chart_race\\_make_chart.py:287: UserWarning: set_ticklabels() should only be used with a fixed number of ticks, i.e. after set_ticks() or using a FixedLocator.\n",
      "  ax.set_xticklabels([max_val] * len(ax.get_xticks()))\n"
     ]
    }
   ],
   "source": [
    "import bar_chart_race as bcr\n",
    "\n",
    "# Reihenfolge der Teams wie in df_race.columns\n",
    "team_colors = [team_color_map.get(team, '#999999') for team in df_race.columns]\n",
    "\n",
    "colors_in_order = [team_color_map.get(team, '#999999') for team in df_race.columns]\n",
    "\n",
    "\n",
    "bcr.bar_chart_race(\n",
    "    df=df_race,\n",
    "    filename='handball_race2.mp4',\n",
    "    orientation='h',\n",
    "    sort='desc',\n",
    "    n_bars=18,\n",
    "    fixed_order=False,\n",
    "    fixed_max=True,\n",
    "    steps_per_period=10,\n",
    "    period_length=750,\n",
    "    interpolate_period=False,\n",
    "    label_bars=True,\n",
    "    bar_size=0.95,\n",
    "    period_label=True,\n",
    "    figsize=(6, 6),\n",
    "    dpi=144,\n",
    "    title='Handball Team Rankings (Tore über Zeit)'\n",
    ")\n",
    "\n"
   ]
  },
  {
   "cell_type": "code",
   "execution_count": 38,
   "metadata": {},
   "outputs": [
    {
     "name": "stdout",
     "output_type": "stream",
     "text": [
      "⚙️ Anzahl verarbeiteter Spiele: 304\n",
      "⚠️ Fehlerhafte/übersprungene Zeilen: 0\n",
      "📌 Einzigartige Teams: ['BER', 'EIS', 'FAG', 'GUM', 'HAN', 'HCE', 'HSV', 'LEI', 'MTM', 'POT', 'RNL', 'SCM', 'SGB', 'SGF', 'TBV', 'THW', 'TVB', 'WET']\n",
      "🧮 Torverteilung (Heimteams):\n",
      "count    304.000000\n",
      "mean      30.036184\n",
      "std        4.835445\n",
      "min       18.000000\n",
      "25%       26.000000\n",
      "50%       30.000000\n",
      "75%       33.000000\n",
      "max       45.000000\n",
      "Name: score_home, dtype: float64\n",
      "🧮 Torverteilung (Auswärtsteams):\n",
      "count    304.000000\n",
      "mean      28.838816\n",
      "std        4.601299\n",
      "min       15.000000\n",
      "25%       25.750000\n",
      "50%       29.000000\n",
      "75%       32.000000\n",
      "max       43.000000\n",
      "Name: score_away, dtype: float64\n",
      "\n",
      "🏆 Punktetabelle (gesamt):\n",
      "team\n",
      "BER    58\n",
      "SCM    57\n",
      "MTM    54\n",
      "SGF    47\n",
      "THW    47\n",
      "HAN    44\n",
      "GUM    40\n",
      "TBV    39\n",
      "RNL    36\n",
      "HSV    35\n",
      "EIS    27\n",
      "FAG    24\n",
      "LEI    22\n",
      "WET    19\n",
      "TVB    18\n",
      "HCE    18\n",
      "SGB    17\n",
      "POT     6\n",
      "Name: points, dtype: int64\n"
     ]
    },
    {
     "data": {
      "image/png": "[encoded data removed]",
      "text/plain": [
       "<Figure size 1000x400 with 1 Axes>"
      ]
     },
     "metadata": {},
     "output_type": "display_data"
    },
    {
     "data": {
      "image/png": "[encoded data removed]",
      "text/plain": [
       "<Figure size 1000x700 with 1 Axes>"
      ]
     },
     "metadata": {},
     "output_type": "display_data"
    }
   ],
   "source": [
    "import pandas as pd\n",
    "import numpy as np\n",
    "import matplotlib.pyplot as plt\n",
    "import seaborn as sns\n",
    "import statsmodels.api as sm\n",
    "import statsmodels.formula.api as smf\n",
    "\n",
    "# --- Punktelogik & Ergebnisextraktion ---\n",
    "def get_points(home, away):\n",
    "    if home > away: return (2, 0)\n",
    "    if home < away: return (0, 2)\n",
    "    return (1, 1)\n",
    "\n",
    "results = []\n",
    "matches = []\n",
    "failures = 0\n",
    "\n",
    "for _, row in df.iterrows():\n",
    "    try:\n",
    "        home = row['team_home_abbr']\n",
    "        away = row['team_away_abbr']\n",
    "        s_home = int(row['score_home'])\n",
    "        s_away = int(row['score_away'])\n",
    "        fixture_id = row['fixtureId']\n",
    "\n",
    "        if pd.isna(home) or pd.isna(away): continue\n",
    "\n",
    "        matches.append({\n",
    "            'fixtureId': fixture_id,\n",
    "            'team_home_abbr': home,\n",
    "            'team_away_abbr': away,\n",
    "            'score_home': s_home,\n",
    "            'score_away': s_away\n",
    "        })\n",
    "\n",
    "        p_home, p_away = get_points(s_home, s_away)\n",
    "        results.extend([\n",
    "            {'fixtureId': fixture_id, 'team': home, 'points': p_home},\n",
    "            {'fixtureId': fixture_id, 'team': away, 'points': p_away},\n",
    "        ])\n",
    "    except Exception as e:\n",
    "        failures += 1\n",
    "        continue\n",
    "\n",
    "df_model = pd.DataFrame(matches)\n",
    "df_points = pd.DataFrame(results)\n",
    "\n",
    "# --- Debug-Ausgabe ---\n",
    "print(\"⚙️ Anzahl verarbeiteter Spiele:\", len(df_model))\n",
    "print(\"⚠️ Fehlerhafte/übersprungene Zeilen:\", failures)\n",
    "print(\"📌 Einzigartige Teams:\", sorted(set(df_model['team_home_abbr']) | set(df_model['team_away_abbr'])))\n",
    "print(\"🧮 Torverteilung (Heimteams):\")\n",
    "print(df_model['score_home'].describe())\n",
    "print(\"🧮 Torverteilung (Auswärtsteams):\")\n",
    "print(df_model['score_away'].describe())\n",
    "\n",
    "# --- Punkteübersicht\n",
    "print(\"\\n🏆 Punktetabelle (gesamt):\")\n",
    "print(df_points.groupby('team')['points'].sum().sort_values(ascending=False))\n",
    "\n",
    "# --- Histogramm der Tore\n",
    "plt.figure(figsize=(10,4))\n",
    "sns.histplot(df_model['score_home'], bins=20, color='blue', label='Heimtore', kde=False)\n",
    "sns.histplot(df_model['score_away'], bins=20, color='red', label='Auswärtstore', kde=False)\n",
    "plt.title(\"Verteilung der Tore pro Team (pro Spiel)\")\n",
    "plt.xlabel(\"Tore\")\n",
    "plt.ylabel(\"Häufigkeit\")\n",
    "plt.legend()\n",
    "plt.grid(True, linestyle='--', alpha=0.5)\n",
    "plt.tight_layout()\n",
    "plt.show()\n",
    "\n",
    "# --- Poisson-Modell ---\n",
    "def fit_poisson_team_model(df: pd.DataFrame):\n",
    "    home = df[['team_home_abbr', 'team_away_abbr', 'score_home']].copy()\n",
    "    home.columns = ['team', 'opponent', 'goals']\n",
    "    home['home'] = 1\n",
    "\n",
    "    away = df[['team_away_abbr', 'team_home_abbr', 'score_away']].copy()\n",
    "    away.columns = ['team', 'opponent', 'goals']\n",
    "    away['home'] = 0\n",
    "\n",
    "    data = pd.concat([home, away], ignore_index=True)\n",
    "    data = pd.get_dummies(data, columns=['team', 'opponent'], drop_first=False)\n",
    "    data.columns = data.columns.str.replace('[^A-Za-z0-9_]', '_', regex=True)\n",
    "\n",
    "    team_cols = [c for c in data.columns if c.startswith('team_')]\n",
    "    opp_cols = [c for c in data.columns if c.startswith('opponent_')]\n",
    "    formula = \"goals ~ home + \" + \" + \".join(team_cols + opp_cols)\n",
    "\n",
    "    model = smf.glm(formula=formula, data=data, family=sm.families.Poisson()).fit()\n",
    "    return model\n",
    "\n",
    "# --- Ratings extrahieren ---\n",
    "def extract_team_strengths(model):\n",
    "    params = model.params\n",
    "    off = {k.replace('team_', ''): v for k, v in params.items() if k.startswith('team_')}\n",
    "    deff = {k.replace('opponent_', ''): -v for k, v in params.items() if k.startswith('opponent_')}\n",
    "    teams = sorted(set(off) | set(deff))\n",
    "    return pd.DataFrame({\n",
    "        'team': teams,\n",
    "        'offense': [off.get(t, 0) for t in teams],\n",
    "        'defense': [deff.get(t, 0) for t in teams]\n",
    "    })\n",
    "\n",
    "# --- Plot ---\n",
    "def plot_team_strengths(df_strength):\n",
    "    plt.figure(figsize=(10, 7))\n",
    "    sns.scatterplot(x='defense', y='offense', data=df_strength)\n",
    "    for _, row in df_strength.iterrows():\n",
    "        plt.text(row['defense'], row['offense'], row['team'], fontsize=9, ha='left', va='center')\n",
    "    plt.axhline(df_strength['offense'].mean(), linestyle='--', color='gray', label='Ø Angriff')\n",
    "    plt.axvline(df_strength['defense'].mean(), linestyle='--', color='gray', label='Ø Abwehr')\n",
    "    plt.xlabel('Defensivschwäche (höher = schlechter)')\n",
    "    plt.ylabel('Offensivstärke (höher = besser)')\n",
    "    plt.title('Poisson-basierte Teamstärken')\n",
    "    plt.grid(True, linestyle='--', alpha=0.5)\n",
    "    plt.legend()\n",
    "    plt.tight_layout()\n",
    "    plt.show()\n",
    "\n",
    "# --- Ausführung ---\n",
    "model = fit_poisson_team_model(df_model)\n",
    "df_strength = extract_team_strengths(model)\n",
    "plot_team_strengths(df_strength)\n"
   ]
  },
  {
   "cell_type": "code",
   "execution_count": null,
   "metadata": {},
   "outputs": [
    {
     "ename": "AttributeError",
     "evalue": "module 'statsmodels.formula.api' has no attribute 'families'",
     "output_type": "error",
     "traceback": [
      "\u001b[31m---------------------------------------------------------------------------\u001b[39m",
      "\u001b[31mAttributeError\u001b[39m                            Traceback (most recent call last)",
      "\u001b[36mCell\u001b[39m\u001b[36m \u001b[39m\u001b[32mIn[42]\u001b[39m\u001b[32m, line 91\u001b[39m\n\u001b[32m     88\u001b[39m     \u001b[38;5;28;01mreturn\u001b[39;00m pd.DataFrame({\u001b[33m'\u001b[39m\u001b[33mteam\u001b[39m\u001b[33m'\u001b[39m: \u001b[38;5;28mlist\u001b[39m(pts.keys()), \u001b[33m'\u001b[39m\u001b[33mexpected_points\u001b[39m\u001b[33m'\u001b[39m: \u001b[38;5;28mlist\u001b[39m(pts.values())}).sort_values(\u001b[33m'\u001b[39m\u001b[33mexpected_points\u001b[39m\u001b[33m'\u001b[39m, ascending=\u001b[38;5;28;01mFalse\u001b[39;00m)\n\u001b[32m     90\u001b[39m \u001b[38;5;66;03m# --- Run everything ---\u001b[39;00m\n\u001b[32m---> \u001b[39m\u001b[32m91\u001b[39m model = \u001b[43mbuild_poisson_model\u001b[49m\u001b[43m(\u001b[49m\u001b[43mdf_model\u001b[49m\u001b[43m)\u001b[49m\n\u001b[32m     92\u001b[39m teams = \u001b[38;5;28msorted\u001b[39m(df_model[\u001b[33m'\u001b[39m\u001b[33mteam_home_abbr\u001b[39m\u001b[33m'\u001b[39m].unique())\n\u001b[32m     93\u001b[39m df_fixtures = predict_all_matchups(teams, model)\n",
      "\u001b[36mCell\u001b[39m\u001b[36m \u001b[39m\u001b[32mIn[42]\u001b[39m\u001b[32m, line 26\u001b[39m, in \u001b[36mbuild_poisson_model\u001b[39m\u001b[34m(df_model)\u001b[39m\n\u001b[32m     23\u001b[39m df_all[\u001b[33m'\u001b[39m\u001b[33mopponent\u001b[39m\u001b[33m'\u001b[39m] = pd.Categorical(df_all[\u001b[33m'\u001b[39m\u001b[33mopponent\u001b[39m\u001b[33m'\u001b[39m], categories=\u001b[38;5;28msorted\u001b[39m(df_model[\u001b[33m'\u001b[39m\u001b[33mteam_home_abbr\u001b[39m\u001b[33m'\u001b[39m].unique()))\n\u001b[32m     25\u001b[39m formula = \u001b[33m\"\u001b[39m\u001b[33mgoals ~ home + C(team, Treatment(reference=\u001b[39m\u001b[33m'\u001b[39m\u001b[33mRNL\u001b[39m\u001b[33m'\u001b[39m\u001b[33m)) + C(opponent, Treatment(reference=\u001b[39m\u001b[33m'\u001b[39m\u001b[33mRNL\u001b[39m\u001b[33m'\u001b[39m\u001b[33m))\u001b[39m\u001b[33m\"\u001b[39m\n\u001b[32m---> \u001b[39m\u001b[32m26\u001b[39m model = smf.glm(formula=formula, data=df_all, family=\u001b[43msmf\u001b[49m\u001b[43m.\u001b[49m\u001b[43mfamilies\u001b[49m.Poisson()).fit()\n\u001b[32m     27\u001b[39m \u001b[38;5;28;01mreturn\u001b[39;00m model\n",
      "\u001b[31mAttributeError\u001b[39m: module 'statsmodels.formula.api' has no attribute 'families'"
     ]
    }
   ],
   "source": [
    "import pandas as pd\n",
    "import numpy as np\n",
    "import statsmodels.formula.api as smf\n",
    "from patsy.contrasts import Treatment\n",
    "from scipy.stats import poisson\n",
    "from collections import defaultdict\n",
    "import itertools\n",
    "import statsmodels.api as sm\n",
    "\n",
    "# --- Step 1: Prepare team-level dataset ---\n",
    "def build_poisson_model(df_model):\n",
    "    home = df_model[['team_home_abbr', 'team_away_abbr', 'score_home']].copy()\n",
    "    home.columns = ['team', 'opponent', 'goals']\n",
    "    home['home'] = 1\n",
    "\n",
    "    away = df_model[['team_away_abbr', 'team_home_abbr', 'score_away']].copy()\n",
    "    away.columns = ['team', 'opponent', 'goals']\n",
    "    away['home'] = 0\n",
    "\n",
    "    df_all = pd.concat([home, away], ignore_index=True)\n",
    "\n",
    "    # Set fixed reference team (e.g., RNL)\n",
    "    df_all['team'] = pd.Categorical(df_all['team'], categories=sorted(df_model['team_home_abbr'].unique()))\n",
    "    df_all['opponent'] = pd.Categorical(df_all['opponent'], categories=sorted(df_model['team_home_abbr'].unique()))\n",
    "\n",
    "    formula = \"goals ~ home + C(team, Treatment(reference='RNL')) + C(opponent, Treatment(reference='RNL'))\"\n",
    "    model = smf.glm(formula=formula, data=df_all, family=sm.families.Poisson()).fit()\n",
    "    return model\n",
    "\n",
    "# --- Step 2: Predict expected goals for team matchups ---\n",
    "def expected_goals(team1, team2, model):\n",
    "    params = model.params\n",
    "    intercept = params.get(\"Intercept\", 0.0)\n",
    "\n",
    "    atk_key = f\"C(team, Treatment(reference='RNL'))[T.{team1}]\"\n",
    "    def_key = f\"C(opponent, Treatment(reference='RNL'))[T.{team2}]\"\n",
    "    atk1 = params.get(atk_key, 0.0)\n",
    "    def2 = params.get(def_key, 0.0)\n",
    "    mu1 = np.exp(intercept + atk1 + def2 + 1.0)\n",
    "\n",
    "    atk_key = f\"C(team, Treatment(reference='RNL'))[T.{team2}]\"\n",
    "    def_key = f\"C(opponent, Treatment(reference='RNL'))[T.{team1}]\"\n",
    "    atk2 = params.get(atk_key, 0.0)\n",
    "    def1 = params.get(def_key, 0.0)\n",
    "    mu2 = np.exp(intercept + atk2 + def1 + 0.0)\n",
    "\n",
    "    return mu1, mu2\n",
    "\n",
    "# --- Step 3: Simulate match outcome probabilities ---\n",
    "def simulate_match(mu1, mu2, max_goals=50):\n",
    "    probs = np.zeros((max_goals, max_goals))\n",
    "    for x in range(max_goals):\n",
    "        for y in range(max_goals):\n",
    "            probs[x, y] = poisson.pmf(x, mu1) * poisson.pmf(y, mu2)\n",
    "\n",
    "    p_home_win = np.sum(np.tril(probs, -1))\n",
    "    p_draw = np.sum(np.diag(probs))\n",
    "    p_away_win = np.sum(np.triu(probs, 1))\n",
    "\n",
    "    return {\n",
    "        'home_win_prob': p_home_win,\n",
    "        'draw_prob': p_draw,\n",
    "        'away_win_prob': p_away_win\n",
    "    }\n",
    "\n",
    "# --- Step 4: Predict all fixtures ---\n",
    "def predict_all_matchups(teams, model):\n",
    "    fixtures = []\n",
    "    for home, away in itertools.permutations(teams, 2):\n",
    "        mu_home, mu_away = expected_goals(home, away, model)\n",
    "        probs = simulate_match(mu_home, mu_away)\n",
    "\n",
    "        fixtures.append({\n",
    "            'home': home,\n",
    "            'away': away,\n",
    "            'exp_goals_home': mu_home,\n",
    "            'exp_goals_away': mu_away,\n",
    "            **probs\n",
    "        })\n",
    "\n",
    "    return pd.DataFrame(fixtures)\n",
    "\n",
    "# --- Step 5: Expected points table ---\n",
    "def expected_points_table(fixtures_df):\n",
    "    pts = defaultdict(float)\n",
    "    for _, row in fixtures_df.iterrows():\n",
    "        pts[row['home']] += 2 * row['home_win_prob'] + 1 * row['draw_prob']\n",
    "        pts[row['away']] += 2 * row['away_win_prob'] + 1 * row['draw_prob']\n",
    "    return pd.DataFrame({'team': list(pts.keys()), 'expected_points': list(pts.values())}).sort_values('expected_points', ascending=False)\n",
    "\n",
    "# --- Run everything ---\n",
    "model = build_poisson_model(df_model)\n",
    "teams = sorted(df_model['team_home_abbr'].unique())\n",
    "df_fixtures = predict_all_matchups(teams, model)\n",
    "df_exp_pts = expected_points_table(df_fixtures)\n",
    "\n",
    "# --- Display ---\n",
    "print(\"🔢 Top 10 matchups with highest home win probability:\")\n",
    "display(df_fixtures.sort_values('home_win_prob', ascending=False).head(10))\n",
    "\n",
    "print(\"\\n📊 Expected Points Table:\")\n",
    "display(df_exp_pts)\n"
   ]
  },
  {
   "cell_type": "code",
   "execution_count": null,
   "metadata": {},
   "outputs": [
    {
     "data": {
      "image/png": "[encoded data removed]",
      "text/plain": [
       "<Figure size 1200x600 with 1 Axes>"
      ]
     },
     "metadata": {},
     "output_type": "display_data"
    }
   ],
   "source": [
    "from collections import defaultdict\n",
    "\n",
    "def expected_score(r1, r2):\n",
    "    return 1 / (1 + 10 ** ((r2 - r1) / 400))\n",
    "\n",
    "def update_elo(r, expected, actual, k=20):\n",
    "    return r + k * (actual - expected)\n",
    "\n",
    "def compute_elo_predictions(\n",
    "    df: pd.DataFrame,\n",
    "    k: float = 20,\n",
    "    initial: float = 1500,\n",
    "    home_adv: float = 0\n",
    ") -> pd.DataFrame:\n",
    "    elo = defaultdict(lambda: initial)\n",
    "    predictions = []\n",
    "\n",
    "    for _, row in df.sort_values('gameday').iterrows():\n",
    "        day = int(row['gameday'])\n",
    "        home, away = row['team_home_name'], row['team_away_name']\n",
    "        s_h, s_a = row['score_home'], row['score_away']\n",
    "\n",
    "        actual = 1.0 if s_h > s_a else 0.5 if s_h == s_a else 0.0\n",
    "\n",
    "        r_h = elo[home] + home_adv\n",
    "        r_a = elo[away]\n",
    "        expected = expected_score(r_h, r_a)\n",
    "\n",
    "        predictions.append({\n",
    "            'gameday': day,\n",
    "            'team_home': home,\n",
    "            'team_away': away,\n",
    "            'elo_home': r_h - home_adv,\n",
    "            'elo_away': r_a,\n",
    "            'expected_home_win_prob': expected,\n",
    "            'actual_result': actual\n",
    "        })\n",
    "\n",
    "        elo[home] = update_elo(r_h, expected, actual, k) - home_adv\n",
    "        elo[away] = update_elo(r_a, 1 - expected, 1 - actual, k)\n",
    "\n",
    "    return pd.DataFrame(predictions)\n",
    "\n",
    "def plot_elo(df_pred):\n",
    "    # Sort teams by their highest Elo rating\n",
    "    sorted_teams = df_pred.groupby('team_home')['elo_home'].max().sort_values(ascending=False).index\n",
    "\n",
    "    plt.figure(figsize=(12, 6))\n",
    "    for team in sorted_teams:\n",
    "        team_elo = df_pred[df_pred['team_home'] == team][['gameday', 'elo_home']].drop_duplicates()\n",
    "        plt.plot(team_elo['gameday'], team_elo['elo_home'], label=team)\n",
    "    plt.title(\"Elo Ratings Over Time (Sorted by Highest Elo)\")\n",
    "    plt.xlabel(\"Gameday\")\n",
    "    plt.ylabel(\"Elo Rating\")\n",
    "    plt.legend(loc='upper left', bbox_to_anchor=(1, 1))\n",
    "    plt.grid(True, linestyle='--', alpha=0.6)\n",
    "    plt.tight_layout()\n",
    "    plt.show()\n",
    "\n",
    "# --- Hier wird df_pred erzeugt ---\n",
    "df_pred = compute_elo_predictions(df, k=20, initial=1500, home_adv=50)\n",
    "plot_elo(df_pred)\n",
    "\n"
   ]
  },
  {
   "cell_type": "code",
   "execution_count": 23,
   "metadata": {},
   "outputs": [
    {
     "name": "stdout",
     "output_type": "stream",
     "text": [
      "Elo Prediction Evaluation\n",
      "\n",
      "ROC AUC:        0.823  (Discrimination)\n",
      "LogLoss:        0.583  (Probability Quality)\n",
      "Brier Score:    0.197  (Quadratic Error)\n",
      "ECE:            0.114  (Calibration Quality)\n"
     ]
    },
    {
     "name": "stderr",
     "output_type": "stream",
     "text": [
      "C:\\Users\\madam\\AppData\\Local\\Temp\\ipykernel_23308\\206590043.py:20: FutureWarning: The default of observed=False is deprecated and will be changed to True in a future version of pandas. Pass observed=False to retain current behavior or observed=True to adopt the future default and silence this warning.\n",
      "  grouped = df.groupby('prob_bin')\n"
     ]
    },
    {
     "data": {
      "image/png": "[encoded data removed]",
      "text/plain": [
       "<Figure size 600x600 with 1 Axes>"
      ]
     },
     "metadata": {},
     "output_type": "display_data"
    }
   ],
   "source": [
    "import numpy as np\n",
    "import pandas as pd\n",
    "import matplotlib.pyplot as plt\n",
    "import seaborn as sns\n",
    "from sklearn.metrics import roc_auc_score, log_loss, brier_score_loss\n",
    "\n",
    "# Zielvariable binär kodieren (nur Heimsiege vs. keine Heimsiege)\n",
    "y_true = (df_pred['actual_result'] == 1.0).astype(int)\n",
    "y_prob = df_pred['expected_home_win_prob']\n",
    "\n",
    "# === Klassifikationsmetriken ===\n",
    "roc = roc_auc_score(y_true, y_prob)\n",
    "ll = log_loss(y_true, y_prob)\n",
    "brier = brier_score_loss(y_true, y_prob)\n",
    "\n",
    "# === Expected Calibration Error (ECE) ===\n",
    "def compute_ece(df, n_bins=10):\n",
    "    bins = np.linspace(0, 1, n_bins + 1)\n",
    "    df['prob_bin'] = pd.cut(df['expected_home_win_prob'], bins=bins)\n",
    "    grouped = df.groupby('prob_bin')\n",
    "    bin_conf = grouped['expected_home_win_prob'].mean()\n",
    "    bin_acc = grouped['actual_result'].mean()\n",
    "    bin_size = grouped.size().values\n",
    "    ece = np.sum(np.abs(bin_conf - bin_acc) * bin_size) / bin_size.sum()\n",
    "    return ece, bin_conf, bin_acc, bins\n",
    "\n",
    "ece, bin_conf, bin_acc, bins = compute_ece(df_pred)\n",
    "\n",
    "# === Metriken ausgeben ===\n",
    "print(\"Elo Prediction Evaluation\\n\")\n",
    "print(f\"ROC AUC:        {roc:.3f}  (Discrimination)\")\n",
    "print(f\"LogLoss:        {ll:.3f}  (Probability Quality)\")\n",
    "print(f\"Brier Score:    {brier:.3f}  (Quadratic Error)\")\n",
    "print(f\"ECE:            {ece:.3f}  (Calibration Quality)\")\n",
    "\n",
    "# Reliability Diagram\n",
    "bin_centers = bins[:-1] + 0.05\n",
    "\n",
    "plt.figure(figsize=(6, 6))\n",
    "plt.plot(bin_centers, bin_acc, marker='o', label='Elo Calibration', color='red')\n",
    "plt.plot([0, 1], [0, 1], 'k--', label='Perfect Calibration')\n",
    "plt.xlabel('Predicted Probability (Home Win)')\n",
    "plt.ylabel('Actual Win Rate')\n",
    "plt.title('Reliability Diagram (Calibration)')\n",
    "plt.grid(True, linestyle='--', alpha=0.6)\n",
    "plt.legend()\n",
    "plt.tight_layout()\n",
    "plt.show()\n"
   ]
  },
  {
   "cell_type": "code",
   "execution_count": 31,
   "metadata": {},
   "outputs": [
    {
     "name": "stdout",
     "output_type": "stream",
     "text": [
      "\n",
      "🔴 Elo Original\n",
      "  ROC AUC:     0.823\n",
      "  LogLoss:     0.583\n",
      "  Brier Score: 0.197\n",
      "\n",
      "🟢 Platt Scaling\n",
      "  ROC AUC:     0.823\n",
      "  LogLoss:     0.571\n",
      "  Brier Score: 0.192\n"
     ]
    },
    {
     "data": {
      "image/png": "[encoded data removed]",
      "text/plain": [
       "<Figure size 700x600 with 1 Axes>"
      ]
     },
     "metadata": {},
     "output_type": "display_data"
    }
   ],
   "source": [
    "import numpy as np\n",
    "import pandas as pd\n",
    "import matplotlib.pyplot as plt\n",
    "import seaborn as sns\n",
    "from sklearn.metrics import roc_auc_score, log_loss, brier_score_loss\n",
    "from sklearn.linear_model import LogisticRegression\n",
    "from sklearn.calibration import calibration_curve\n",
    "\n",
    "# Zielvariable binär kodieren\n",
    "y_true = (df_pred['actual_result'] == 1.0).astype(int)\n",
    "y_prob = df_pred['expected_home_win_prob'].values.reshape(-1, 1)\n",
    "\n",
    "# === Platt Scaling (Logistische Nachkalibrierung) ===\n",
    "platt = LogisticRegression(solver='lbfgs')\n",
    "platt.fit(y_prob, y_true)\n",
    "y_prob_cal = platt.predict_proba(y_prob)[:, 1]\n",
    "\n",
    "# === Metriken Original vs. Kalibriert ===\n",
    "def report_metrics(y_true, y_pred, label):\n",
    "    roc = roc_auc_score(y_true, y_pred)\n",
    "    ll = log_loss(y_true, y_pred)\n",
    "    brier = brier_score_loss(y_true, y_pred)\n",
    "    print(f\"\\n{label}\")\n",
    "    print(f\"  ROC AUC:     {roc:.3f}\")\n",
    "    print(f\"  LogLoss:     {ll:.3f}\")\n",
    "    print(f\"  Brier Score: {brier:.3f}\")\n",
    "\n",
    "report_metrics(y_true, y_prob.flatten(), \"🔴 Elo Original\")\n",
    "report_metrics(y_true, y_prob_cal, \"🟢 Platt Scaling\")\n",
    "\n",
    "# === Calibration Data für beide Varianten ===\n",
    "prob_true_orig, prob_pred_orig = calibration_curve(y_true, y_prob.flatten(), n_bins=10, strategy='uniform')\n",
    "prob_true_cal, prob_pred_cal = calibration_curve(y_true, y_prob_cal, n_bins=10, strategy='uniform')\n",
    "\n",
    "# === Plot ===\n",
    "plt.figure(figsize=(7, 6))\n",
    "plt.plot(prob_pred_orig, prob_true_orig, 'o-', label='Elo Original', color='red')\n",
    "plt.plot(prob_pred_cal, prob_true_cal, 'o-', label='Platt Scaled', color='green')\n",
    "plt.plot([0, 1], [0, 1], 'k--', label='Perfect Calibration')\n",
    "\n",
    "plt.xlabel('Predicted Probability (Home Win)')\n",
    "plt.ylabel('Actual Win Rate')\n",
    "plt.title('Reliability Diagram: Original vs. Calibrated')\n",
    "plt.grid(True, linestyle='--', alpha=0.6)\n",
    "plt.legend()\n",
    "plt.tight_layout()\n",
    "plt.show()\n"
   ]
  },
  {
   "cell_type": "code",
   "execution_count": 24,
   "metadata": {},
   "outputs": [
    {
     "data": {
      "image/png": "[encoded data removed]",
      "text/plain": [
       "<Figure size 1500x500 with 2 Axes>"
      ]
     },
     "metadata": {},
     "output_type": "display_data"
    }
   ],
   "source": [
    "# Histogram of 'data.eventType' and 'data.subType'\n",
    "fig, ax = plt.subplots(1, 2, figsize=(15, 5))\n",
    "df[\"data.eventType\"].value_counts().plot(kind=\"barh\", ax=ax[0])\n",
    "df[\"data.subType\"].value_counts().plot(kind=\"barh\", ax=ax[1])\n",
    "ax[0].set_title(\"data.eventType\")\n",
    "ax[1].set_title(\"data.subType\")\n",
    "ax[0].set_ylabel(\"Event Type\")\n",
    "ax[1].set_ylabel(\"Sub Type\")\n",
    "ax[0].set_xlabel(\"Count\")\n",
    "ax[1].set_xlabel(\"Count\")\n",
    "plt.tight_layout()\n",
    "# plt.savefig(\"eventType_subType.png\")\n",
    "plt.show()"
   ]
  },
  {
   "cell_type": "code",
   "execution_count": 25,
   "metadata": {},
   "outputs": [
    {
     "data": {
      "image/png": "[encoded data removed]",
      "text/plain": [
       "<Figure size 1000x600 with 1 Axes>"
      ]
     },
     "metadata": {},
     "output_type": "display_data"
    }
   ],
   "source": [
    "# Display unique values of fixtureId per gameday\n",
    "def unique_fixtureid_per_gameday(df):\n",
    "    fixtureid_counts = df.groupby(\"gameday\")[\"fixtureId\"].nunique()\n",
    "    return fixtureid_counts\n",
    "\n",
    "fixtureid_counts = unique_fixtureid_per_gameday(df)\n",
    "fixtureid_counts = fixtureid_counts.reset_index()\n",
    "fixtureid_counts.columns = [\"data.gameday\", \"unique_fixtureid\"]\n",
    "\n",
    "# Plot using Matplotlib\n",
    "fig, ax = plt.subplots(figsize=(10, 6))\n",
    "ax.bar(fixtureid_counts[\"data.gameday\"], fixtureid_counts[\"unique_fixtureid\"], color=\"skyblue\")\n",
    "ax.set_title(\"Unique Fixture ID per Gameday\", fontsize=14)\n",
    "ax.set_xlabel(\"Gameday\", fontsize=12)\n",
    "ax.set_ylabel(\"Unique Fixture ID\", fontsize=12)\n",
    "plt.xticks(rotation=45)\n",
    "plt.tight_layout()\n",
    "plt.show()\n"
   ]
  },
  {
   "cell_type": "code",
   "execution_count": 26,
   "metadata": {},
   "outputs": [
    {
     "data": {
      "application/vnd.plotly.v1+json": {
       "config": {
        "plotlyServerURL": "https://plot.ly"
       },
       "data": [
        {
         "link": {
          "source": {
           "bdata": "AAE=",
           "dtype": "i1"
          },
          "target": {
           "bdata": "AQI=",
           "dtype": "i1"
          },
          "value": {
           "bdata": "MAEwAQ==",
           "dtype": "i2"
          }
         },
         "node": {
          "label": [
           "sport",
           "fixture",
           "end"
          ],
          "line": {
           "color": "black",
           "width": 0.5
          },
          "pad": 15,
          "thickness": 20
         },
         "type": "sankey"
        }
       ],
       "layout": {
        "font": {
         "size": 10
        },
        "height": 800,
        "template": {
         "data": {
          "bar": [
           {
            "error_x": {
             "color": "#2a3f5f"
            },
            "error_y": {
             "color": "#2a3f5f"
            },
            "marker": {
             "line": {
              "color": "#E5ECF6",
              "width": 0.5
             },
             "pattern": {
              "fillmode": "overlay",
              "size": 10,
              "solidity": 0.2
             }
            },
            "type": "bar"
           }
          ],
          "barpolar": [
           {
            "marker": {
             "line": {
              "color": "#E5ECF6",
              "width": 0.5
             },
             "pattern": {
              "fillmode": "overlay",
              "size": 10,
              "solidity": 0.2
             }
            },
            "type": "barpolar"
           }
          ],
          "carpet": [
           {
            "aaxis": {
             "endlinecolor": "#2a3f5f",
             "gridcolor": "white",
             "linecolor": "white",
             "minorgridcolor": "white",
             "startlinecolor": "#2a3f5f"
            },
            "baxis": {
             "endlinecolor": "#2a3f5f",
             "gridcolor": "white",
             "linecolor": "white",
             "minorgridcolor": "white",
             "startlinecolor": "#2a3f5f"
            },
            "type": "carpet"
           }
          ],
          "choropleth": [
           {
            "colorbar": {
             "outlinewidth": 0,
             "ticks": ""
            },
            "type": "choropleth"
           }
          ],
          "contour": [
           {
            "colorbar": {
             "outlinewidth": 0,
             "ticks": ""
            },
            "colorscale": [
             [
              0,
              "#0d0887"
             ],
             [
              0.1111111111111111,
              "#46039f"
             ],
             [
              0.2222222222222222,
              "#7201a8"
             ],
             [
              0.3333333333333333,
              "#9c179e"
             ],
             [
              0.4444444444444444,
              "#bd3786"
             ],
             [
              0.5555555555555556,
              "#d8576b"
             ],
             [
              0.6666666666666666,
              "#ed7953"
             ],
             [
              0.7777777777777778,
              "#fb9f3a"
             ],
             [
              0.8888888888888888,
              "#fdca26"
             ],
             [
              1,
              "#f0f921"
             ]
            ],
            "type": "contour"
           }
          ],
          "contourcarpet": [
           {
            "colorbar": {
             "outlinewidth": 0,
             "ticks": ""
            },
            "type": "contourcarpet"
           }
          ],
          "heatmap": [
           {
            "colorbar": {
             "outlinewidth": 0,
             "ticks": ""
            },
            "colorscale": [
             [
              0,
              "#0d0887"
             ],
             [
              0.1111111111111111,
              "#46039f"
             ],
             [
              0.2222222222222222,
              "#7201a8"
             ],
             [
              0.3333333333333333,
              "#9c179e"
             ],
             [
              0.4444444444444444,
              "#bd3786"
             ],
             [
              0.5555555555555556,
              "#d8576b"
             ],
             [
              0.6666666666666666,
              "#ed7953"
             ],
             [
              0.7777777777777778,
              "#fb9f3a"
             ],
             [
              0.8888888888888888,
              "#fdca26"
             ],
             [
              1,
              "#f0f921"
             ]
            ],
            "type": "heatmap"
           }
          ],
          "histogram": [
           {
            "marker": {
             "pattern": {
              "fillmode": "overlay",
              "size": 10,
              "solidity": 0.2
             }
            },
            "type": "histogram"
           }
          ],
          "histogram2d": [
           {
            "colorbar": {
             "outlinewidth": 0,
             "ticks": ""
            },
            "colorscale": [
             [
              0,
              "#0d0887"
             ],
             [
              0.1111111111111111,
              "#46039f"
             ],
             [
              0.2222222222222222,
              "#7201a8"
             ],
             [
              0.3333333333333333,
              "#9c179e"
             ],
             [
              0.4444444444444444,
              "#bd3786"
             ],
             [
              0.5555555555555556,
              "#d8576b"
             ],
             [
              0.6666666666666666,
              "#ed7953"
             ],
             [
              0.7777777777777778,
              "#fb9f3a"
             ],
             [
              0.8888888888888888,
              "#fdca26"
             ],
             [
              1,
              "#f0f921"
             ]
            ],
            "type": "histogram2d"
           }
          ],
          "histogram2dcontour": [
           {
            "colorbar": {
             "outlinewidth": 0,
             "ticks": ""
            },
            "colorscale": [
             [
              0,
              "#0d0887"
             ],
             [
              0.1111111111111111,
              "#46039f"
             ],
             [
              0.2222222222222222,
              "#7201a8"
             ],
             [
              0.3333333333333333,
              "#9c179e"
             ],
             [
              0.4444444444444444,
              "#bd3786"
             ],
             [
              0.5555555555555556,
              "#d8576b"
             ],
             [
              0.6666666666666666,
              "#ed7953"
             ],
             [
              0.7777777777777778,
              "#fb9f3a"
             ],
             [
              0.8888888888888888,
              "#fdca26"
             ],
             [
              1,
              "#f0f921"
             ]
            ],
            "type": "histogram2dcontour"
           }
          ],
          "mesh3d": [
           {
            "colorbar": {
             "outlinewidth": 0,
             "ticks": ""
            },
            "type": "mesh3d"
           }
          ],
          "parcoords": [
           {
            "line": {
             "colorbar": {
              "outlinewidth": 0,
              "ticks": ""
             }
            },
            "type": "parcoords"
           }
          ],
          "pie": [
           {
            "automargin": true,
            "type": "pie"
           }
          ],
          "scatter": [
           {
            "fillpattern": {
             "fillmode": "overlay",
             "size": 10,
             "solidity": 0.2
            },
            "type": "scatter"
           }
          ],
          "scatter3d": [
           {
            "line": {
             "colorbar": {
              "outlinewidth": 0,
              "ticks": ""
             }
            },
            "marker": {
             "colorbar": {
              "outlinewidth": 0,
              "ticks": ""
             }
            },
            "type": "scatter3d"
           }
          ],
          "scattercarpet": [
           {
            "marker": {
             "colorbar": {
              "outlinewidth": 0,
              "ticks": ""
             }
            },
            "type": "scattercarpet"
           }
          ],
          "scattergeo": [
           {
            "marker": {
             "colorbar": {
              "outlinewidth": 0,
              "ticks": ""
             }
            },
            "type": "scattergeo"
           }
          ],
          "scattergl": [
           {
            "marker": {
             "colorbar": {
              "outlinewidth": 0,
              "ticks": ""
             }
            },
            "type": "scattergl"
           }
          ],
          "scattermap": [
           {
            "marker": {
             "colorbar": {
              "outlinewidth": 0,
              "ticks": ""
             }
            },
            "type": "scattermap"
           }
          ],
          "scattermapbox": [
           {
            "marker": {
             "colorbar": {
              "outlinewidth": 0,
              "ticks": ""
             }
            },
            "type": "scattermapbox"
           }
          ],
          "scatterpolar": [
           {
            "marker": {
             "colorbar": {
              "outlinewidth": 0,
              "ticks": ""
             }
            },
            "type": "scatterpolar"
           }
          ],
          "scatterpolargl": [
           {
            "marker": {
             "colorbar": {
              "outlinewidth": 0,
              "ticks": ""
             }
            },
            "type": "scatterpolargl"
           }
          ],
          "scatterternary": [
           {
            "marker": {
             "colorbar": {
              "outlinewidth": 0,
              "ticks": ""
             }
            },
            "type": "scatterternary"
           }
          ],
          "surface": [
           {
            "colorbar": {
             "outlinewidth": 0,
             "ticks": ""
            },
            "colorscale": [
             [
              0,
              "#0d0887"
             ],
             [
              0.1111111111111111,
              "#46039f"
             ],
             [
              0.2222222222222222,
              "#7201a8"
             ],
             [
              0.3333333333333333,
              "#9c179e"
             ],
             [
              0.4444444444444444,
              "#bd3786"
             ],
             [
              0.5555555555555556,
              "#d8576b"
             ],
             [
              0.6666666666666666,
              "#ed7953"
             ],
             [
              0.7777777777777778,
              "#fb9f3a"
             ],
             [
              0.8888888888888888,
              "#fdca26"
             ],
             [
              1,
              "#f0f921"
             ]
            ],
            "type": "surface"
           }
          ],
          "table": [
           {
            "cells": {
             "fill": {
              "color": "#EBF0F8"
             },
             "line": {
              "color": "white"
             }
            },
            "header": {
             "fill": {
              "color": "#C8D4E3"
             },
             "line": {
              "color": "white"
             }
            },
            "type": "table"
           }
          ]
         },
         "layout": {
          "annotationdefaults": {
           "arrowcolor": "#2a3f5f",
           "arrowhead": 0,
           "arrowwidth": 1
          },
          "autotypenumbers": "strict",
          "coloraxis": {
           "colorbar": {
            "outlinewidth": 0,
            "ticks": ""
           }
          },
          "colorscale": {
           "diverging": [
            [
             0,
             "#8e0152"
            ],
            [
             0.1,
             "#c51b7d"
            ],
            [
             0.2,
             "#de77ae"
            ],
            [
             0.3,
             "#f1b6da"
            ],
            [
             0.4,
             "#fde0ef"
            ],
            [
             0.5,
             "#f7f7f7"
            ],
            [
             0.6,
             "#e6f5d0"
            ],
            [
             0.7,
             "#b8e186"
            ],
            [
             0.8,
             "#7fbc41"
            ],
            [
             0.9,
             "#4d9221"
            ],
            [
             1,
             "#276419"
            ]
           ],
           "sequential": [
            [
             0,
             "#0d0887"
            ],
            [
             0.1111111111111111,
             "#46039f"
            ],
            [
             0.2222222222222222,
             "#7201a8"
            ],
            [
             0.3333333333333333,
             "#9c179e"
            ],
            [
             0.4444444444444444,
             "#bd3786"
            ],
            [
             0.5555555555555556,
             "#d8576b"
            ],
            [
             0.6666666666666666,
             "#ed7953"
            ],
            [
             0.7777777777777778,
             "#fb9f3a"
            ],
            [
             0.8888888888888888,
             "#fdca26"
            ],
            [
             1,
             "#f0f921"
            ]
           ],
           "sequentialminus": [
            [
             0,
             "#0d0887"
            ],
            [
             0.1111111111111111,
             "#46039f"
            ],
            [
             0.2222222222222222,
             "#7201a8"
            ],
            [
             0.3333333333333333,
             "#9c179e"
            ],
            [
             0.4444444444444444,
             "#bd3786"
            ],
            [
             0.5555555555555556,
             "#d8576b"
            ],
            [
             0.6666666666666666,
             "#ed7953"
            ],
            [
             0.7777777777777778,
             "#fb9f3a"
            ],
            [
             0.8888888888888888,
             "#fdca26"
            ],
            [
             1,
             "#f0f921"
            ]
           ]
          },
          "colorway": [
           "#636efa",
           "#EF553B",
           "#00cc96",
           "#ab63fa",
           "#FFA15A",
           "#19d3f3",
           "#FF6692",
           "#B6E880",
           "#FF97FF",
           "#FECB52"
          ],
          "font": {
           "color": "#2a3f5f"
          },
          "geo": {
           "bgcolor": "white",
           "lakecolor": "white",
           "landcolor": "#E5ECF6",
           "showlakes": true,
           "showland": true,
           "subunitcolor": "white"
          },
          "hoverlabel": {
           "align": "left"
          },
          "hovermode": "closest",
          "mapbox": {
           "style": "light"
          },
          "paper_bgcolor": "white",
          "plot_bgcolor": "#E5ECF6",
          "polar": {
           "angularaxis": {
            "gridcolor": "white",
            "linecolor": "white",
            "ticks": ""
           },
           "bgcolor": "#E5ECF6",
           "radialaxis": {
            "gridcolor": "white",
            "linecolor": "white",
            "ticks": ""
           }
          },
          "scene": {
           "xaxis": {
            "backgroundcolor": "#E5ECF6",
            "gridcolor": "white",
            "gridwidth": 2,
            "linecolor": "white",
            "showbackground": true,
            "ticks": "",
            "zerolinecolor": "white"
           },
           "yaxis": {
            "backgroundcolor": "#E5ECF6",
            "gridcolor": "white",
            "gridwidth": 2,
            "linecolor": "white",
            "showbackground": true,
            "ticks": "",
            "zerolinecolor": "white"
           },
           "zaxis": {
            "backgroundcolor": "#E5ECF6",
            "gridcolor": "white",
            "gridwidth": 2,
            "linecolor": "white",
            "showbackground": true,
            "ticks": "",
            "zerolinecolor": "white"
           }
          },
          "shapedefaults": {
           "line": {
            "color": "#2a3f5f"
           }
          },
          "ternary": {
           "aaxis": {
            "gridcolor": "white",
            "linecolor": "white",
            "ticks": ""
           },
           "baxis": {
            "gridcolor": "white",
            "linecolor": "white",
            "ticks": ""
           },
           "bgcolor": "#E5ECF6",
           "caxis": {
            "gridcolor": "white",
            "linecolor": "white",
            "ticks": ""
           }
          },
          "title": {
           "x": 0.05
          },
          "xaxis": {
           "automargin": true,
           "gridcolor": "white",
           "linecolor": "white",
           "ticks": "",
           "title": {
            "standoff": 15
           },
           "zerolinecolor": "white",
           "zerolinewidth": 2
          },
          "yaxis": {
           "automargin": true,
           "gridcolor": "white",
           "linecolor": "white",
           "ticks": "",
           "title": {
            "standoff": 15
           },
           "zerolinecolor": "white",
           "zerolinewidth": 2
          }
         }
        },
        "title": {
         "text": "Type → EventType → SubType Flow"
        },
        "width": 700
       }
      }
     },
     "metadata": {},
     "output_type": "display_data"
    }
   ],
   "source": [
    "import pandas as pd\n",
    "import plotly.graph_objects as go\n",
    "\n",
    "# Count occurrences\n",
    "counts = df.groupby([\"data.class\", \"data.eventType\", \"data.subType\"]).size().reset_index(name=\"count\")\n",
    "\n",
    "# Collect all unique labels\n",
    "labels = pd.concat([counts[\"data.class\"], counts[\"data.eventType\"], counts[\"data.subType\"]]).unique().tolist()\n",
    "label_indices = {label: i for i, label in enumerate(labels)}\n",
    "\n",
    "# First flow: type → eventType\n",
    "sources_type_event = counts[\"data.class\"].map(label_indices)\n",
    "targets_type_event = counts[\"data.eventType\"].map(label_indices)\n",
    "values_type_event = counts[\"count\"]\n",
    "\n",
    "# Second flow: eventType → subType\n",
    "sources_event_sub = counts[\"data.eventType\"].map(label_indices)\n",
    "targets_event_sub = counts[\"data.subType\"].map(label_indices)\n",
    "values_event_sub = counts[\"count\"]\n",
    "\n",
    "# Combine both flows\n",
    "sources = pd.concat([sources_type_event, sources_event_sub])\n",
    "targets = pd.concat([targets_type_event, targets_event_sub])\n",
    "values = pd.concat([values_type_event, values_event_sub])\n",
    "\n",
    "# Plot Sankey\n",
    "fig = go.Figure(data=[go.Sankey(\n",
    "    node=dict(\n",
    "        pad=15,\n",
    "        thickness=20,\n",
    "        label=labels,\n",
    "        line=dict(color=\"black\", width=0.5)\n",
    "    ),\n",
    "    link=dict(\n",
    "        source=sources,\n",
    "        target=targets,\n",
    "        value=values\n",
    "    )\n",
    ")])\n",
    "\n",
    "fig.update_layout(\n",
    "    title_text=\"Type → EventType → SubType Flow\",\n",
    "    font_size=10,\n",
    "    height=800,\n",
    "    width=700\n",
    ")\n",
    "fig.show()\n"
   ]
  },
  {
   "cell_type": "code",
   "execution_count": 27,
   "metadata": {},
   "outputs": [
    {
     "data": {
      "application/vnd.plotly.v1+json": {
       "config": {
        "plotlyServerURL": "https://plot.ly"
       },
       "data": [
        {
         "branchvalues": "total",
         "domain": {
          "x": [
           0,
           1
          ],
          "y": [
           0,
           1
          ]
         },
         "hovertemplate": "labels=%{label}<br>count=%{value}<br>parent=%{parent}<br>id=%{id}<extra></extra>",
         "ids": [
          "sport/fixture/end",
          "sport/fixture",
          "sport"
         ],
         "labels": [
          "end",
          "fixture",
          "sport"
         ],
         "name": "",
         "parents": [
          "sport/fixture",
          "sport",
          ""
         ],
         "type": "sunburst",
         "values": {
          "bdata": "MAEwATAB",
          "dtype": "i2"
         }
        }
       ],
       "layout": {
        "legend": {
         "tracegroupgap": 0
        },
        "margin": {
         "b": 10,
         "l": 10,
         "r": 10,
         "t": 40
        },
        "template": {
         "data": {
          "bar": [
           {
            "error_x": {
             "color": "#2a3f5f"
            },
            "error_y": {
             "color": "#2a3f5f"
            },
            "marker": {
             "line": {
              "color": "#E5ECF6",
              "width": 0.5
             },
             "pattern": {
              "fillmode": "overlay",
              "size": 10,
              "solidity": 0.2
             }
            },
            "type": "bar"
           }
          ],
          "barpolar": [
           {
            "marker": {
             "line": {
              "color": "#E5ECF6",
              "width": 0.5
             },
             "pattern": {
              "fillmode": "overlay",
              "size": 10,
              "solidity": 0.2
             }
            },
            "type": "barpolar"
           }
          ],
          "carpet": [
           {
            "aaxis": {
             "endlinecolor": "#2a3f5f",
             "gridcolor": "white",
             "linecolor": "white",
             "minorgridcolor": "white",
             "startlinecolor": "#2a3f5f"
            },
            "baxis": {
             "endlinecolor": "#2a3f5f",
             "gridcolor": "white",
             "linecolor": "white",
             "minorgridcolor": "white",
             "startlinecolor": "#2a3f5f"
            },
            "type": "carpet"
           }
          ],
          "choropleth": [
           {
            "colorbar": {
             "outlinewidth": 0,
             "ticks": ""
            },
            "type": "choropleth"
           }
          ],
          "contour": [
           {
            "colorbar": {
             "outlinewidth": 0,
             "ticks": ""
            },
            "colorscale": [
             [
              0,
              "#0d0887"
             ],
             [
              0.1111111111111111,
              "#46039f"
             ],
             [
              0.2222222222222222,
              "#7201a8"
             ],
             [
              0.3333333333333333,
              "#9c179e"
             ],
             [
              0.4444444444444444,
              "#bd3786"
             ],
             [
              0.5555555555555556,
              "#d8576b"
             ],
             [
              0.6666666666666666,
              "#ed7953"
             ],
             [
              0.7777777777777778,
              "#fb9f3a"
             ],
             [
              0.8888888888888888,
              "#fdca26"
             ],
             [
              1,
              "#f0f921"
             ]
            ],
            "type": "contour"
           }
          ],
          "contourcarpet": [
           {
            "colorbar": {
             "outlinewidth": 0,
             "ticks": ""
            },
            "type": "contourcarpet"
           }
          ],
          "heatmap": [
           {
            "colorbar": {
             "outlinewidth": 0,
             "ticks": ""
            },
            "colorscale": [
             [
              0,
              "#0d0887"
             ],
             [
              0.1111111111111111,
              "#46039f"
             ],
             [
              0.2222222222222222,
              "#7201a8"
             ],
             [
              0.3333333333333333,
              "#9c179e"
             ],
             [
              0.4444444444444444,
              "#bd3786"
             ],
             [
              0.5555555555555556,
              "#d8576b"
             ],
             [
              0.6666666666666666,
              "#ed7953"
             ],
             [
              0.7777777777777778,
              "#fb9f3a"
             ],
             [
              0.8888888888888888,
              "#fdca26"
             ],
             [
              1,
              "#f0f921"
             ]
            ],
            "type": "heatmap"
           }
          ],
          "histogram": [
           {
            "marker": {
             "pattern": {
              "fillmode": "overlay",
              "size": 10,
              "solidity": 0.2
             }
            },
            "type": "histogram"
           }
          ],
          "histogram2d": [
           {
            "colorbar": {
             "outlinewidth": 0,
             "ticks": ""
            },
            "colorscale": [
             [
              0,
              "#0d0887"
             ],
             [
              0.1111111111111111,
              "#46039f"
             ],
             [
              0.2222222222222222,
              "#7201a8"
             ],
             [
              0.3333333333333333,
              "#9c179e"
             ],
             [
              0.4444444444444444,
              "#bd3786"
             ],
             [
              0.5555555555555556,
              "#d8576b"
             ],
             [
              0.6666666666666666,
              "#ed7953"
             ],
             [
              0.7777777777777778,
              "#fb9f3a"
             ],
             [
              0.8888888888888888,
              "#fdca26"
             ],
             [
              1,
              "#f0f921"
             ]
            ],
            "type": "histogram2d"
           }
          ],
          "histogram2dcontour": [
           {
            "colorbar": {
             "outlinewidth": 0,
             "ticks": ""
            },
            "colorscale": [
             [
              0,
              "#0d0887"
             ],
             [
              0.1111111111111111,
              "#46039f"
             ],
             [
              0.2222222222222222,
              "#7201a8"
             ],
             [
              0.3333333333333333,
              "#9c179e"
             ],
             [
              0.4444444444444444,
              "#bd3786"
             ],
             [
              0.5555555555555556,
              "#d8576b"
             ],
             [
              0.6666666666666666,
              "#ed7953"
             ],
             [
              0.7777777777777778,
              "#fb9f3a"
             ],
             [
              0.8888888888888888,
              "#fdca26"
             ],
             [
              1,
              "#f0f921"
             ]
            ],
            "type": "histogram2dcontour"
           }
          ],
          "mesh3d": [
           {
            "colorbar": {
             "outlinewidth": 0,
             "ticks": ""
            },
            "type": "mesh3d"
           }
          ],
          "parcoords": [
           {
            "line": {
             "colorbar": {
              "outlinewidth": 0,
              "ticks": ""
             }
            },
            "type": "parcoords"
           }
          ],
          "pie": [
           {
            "automargin": true,
            "type": "pie"
           }
          ],
          "scatter": [
           {
            "fillpattern": {
             "fillmode": "overlay",
             "size": 10,
             "solidity": 0.2
            },
            "type": "scatter"
           }
          ],
          "scatter3d": [
           {
            "line": {
             "colorbar": {
              "outlinewidth": 0,
              "ticks": ""
             }
            },
            "marker": {
             "colorbar": {
              "outlinewidth": 0,
              "ticks": ""
             }
            },
            "type": "scatter3d"
           }
          ],
          "scattercarpet": [
           {
            "marker": {
             "colorbar": {
              "outlinewidth": 0,
              "ticks": ""
             }
            },
            "type": "scattercarpet"
           }
          ],
          "scattergeo": [
           {
            "marker": {
             "colorbar": {
              "outlinewidth": 0,
              "ticks": ""
             }
            },
            "type": "scattergeo"
           }
          ],
          "scattergl": [
           {
            "marker": {
             "colorbar": {
              "outlinewidth": 0,
              "ticks": ""
             }
            },
            "type": "scattergl"
           }
          ],
          "scattermap": [
           {
            "marker": {
             "colorbar": {
              "outlinewidth": 0,
              "ticks": ""
             }
            },
            "type": "scattermap"
           }
          ],
          "scattermapbox": [
           {
            "marker": {
             "colorbar": {
              "outlinewidth": 0,
              "ticks": ""
             }
            },
            "type": "scattermapbox"
           }
          ],
          "scatterpolar": [
           {
            "marker": {
             "colorbar": {
              "outlinewidth": 0,
              "ticks": ""
             }
            },
            "type": "scatterpolar"
           }
          ],
          "scatterpolargl": [
           {
            "marker": {
             "colorbar": {
              "outlinewidth": 0,
              "ticks": ""
             }
            },
            "type": "scatterpolargl"
           }
          ],
          "scatterternary": [
           {
            "marker": {
             "colorbar": {
              "outlinewidth": 0,
              "ticks": ""
             }
            },
            "type": "scatterternary"
           }
          ],
          "surface": [
           {
            "colorbar": {
             "outlinewidth": 0,
             "ticks": ""
            },
            "colorscale": [
             [
              0,
              "#0d0887"
             ],
             [
              0.1111111111111111,
              "#46039f"
             ],
             [
              0.2222222222222222,
              "#7201a8"
             ],
             [
              0.3333333333333333,
              "#9c179e"
             ],
             [
              0.4444444444444444,
              "#bd3786"
             ],
             [
              0.5555555555555556,
              "#d8576b"
             ],
             [
              0.6666666666666666,
              "#ed7953"
             ],
             [
              0.7777777777777778,
              "#fb9f3a"
             ],
             [
              0.8888888888888888,
              "#fdca26"
             ],
             [
              1,
              "#f0f921"
             ]
            ],
            "type": "surface"
           }
          ],
          "table": [
           {
            "cells": {
             "fill": {
              "color": "#EBF0F8"
             },
             "line": {
              "color": "white"
             }
            },
            "header": {
             "fill": {
              "color": "#C8D4E3"
             },
             "line": {
              "color": "white"
             }
            },
            "type": "table"
           }
          ]
         },
         "layout": {
          "annotationdefaults": {
           "arrowcolor": "#2a3f5f",
           "arrowhead": 0,
           "arrowwidth": 1
          },
          "autotypenumbers": "strict",
          "coloraxis": {
           "colorbar": {
            "outlinewidth": 0,
            "ticks": ""
           }
          },
          "colorscale": {
           "diverging": [
            [
             0,
             "#8e0152"
            ],
            [
             0.1,
             "#c51b7d"
            ],
            [
             0.2,
             "#de77ae"
            ],
            [
             0.3,
             "#f1b6da"
            ],
            [
             0.4,
             "#fde0ef"
            ],
            [
             0.5,
             "#f7f7f7"
            ],
            [
             0.6,
             "#e6f5d0"
            ],
            [
             0.7,
             "#b8e186"
            ],
            [
             0.8,
             "#7fbc41"
            ],
            [
             0.9,
             "#4d9221"
            ],
            [
             1,
             "#276419"
            ]
           ],
           "sequential": [
            [
             0,
             "#0d0887"
            ],
            [
             0.1111111111111111,
             "#46039f"
            ],
            [
             0.2222222222222222,
             "#7201a8"
            ],
            [
             0.3333333333333333,
             "#9c179e"
            ],
            [
             0.4444444444444444,
             "#bd3786"
            ],
            [
             0.5555555555555556,
             "#d8576b"
            ],
            [
             0.6666666666666666,
             "#ed7953"
            ],
            [
             0.7777777777777778,
             "#fb9f3a"
            ],
            [
             0.8888888888888888,
             "#fdca26"
            ],
            [
             1,
             "#f0f921"
            ]
           ],
           "sequentialminus": [
            [
             0,
             "#0d0887"
            ],
            [
             0.1111111111111111,
             "#46039f"
            ],
            [
             0.2222222222222222,
             "#7201a8"
            ],
            [
             0.3333333333333333,
             "#9c179e"
            ],
            [
             0.4444444444444444,
             "#bd3786"
            ],
            [
             0.5555555555555556,
             "#d8576b"
            ],
            [
             0.6666666666666666,
             "#ed7953"
            ],
            [
             0.7777777777777778,
             "#fb9f3a"
            ],
            [
             0.8888888888888888,
             "#fdca26"
            ],
            [
             1,
             "#f0f921"
            ]
           ]
          },
          "colorway": [
           "#636efa",
           "#EF553B",
           "#00cc96",
           "#ab63fa",
           "#FFA15A",
           "#19d3f3",
           "#FF6692",
           "#B6E880",
           "#FF97FF",
           "#FECB52"
          ],
          "font": {
           "color": "#2a3f5f"
          },
          "geo": {
           "bgcolor": "white",
           "lakecolor": "white",
           "landcolor": "#E5ECF6",
           "showlakes": true,
           "showland": true,
           "subunitcolor": "white"
          },
          "hoverlabel": {
           "align": "left"
          },
          "hovermode": "closest",
          "mapbox": {
           "style": "light"
          },
          "paper_bgcolor": "white",
          "plot_bgcolor": "#E5ECF6",
          "polar": {
           "angularaxis": {
            "gridcolor": "white",
            "linecolor": "white",
            "ticks": ""
           },
           "bgcolor": "#E5ECF6",
           "radialaxis": {
            "gridcolor": "white",
            "linecolor": "white",
            "ticks": ""
           }
          },
          "scene": {
           "xaxis": {
            "backgroundcolor": "#E5ECF6",
            "gridcolor": "white",
            "gridwidth": 2,
            "linecolor": "white",
            "showbackground": true,
            "ticks": "",
            "zerolinecolor": "white"
           },
           "yaxis": {
            "backgroundcolor": "#E5ECF6",
            "gridcolor": "white",
            "gridwidth": 2,
            "linecolor": "white",
            "showbackground": true,
            "ticks": "",
            "zerolinecolor": "white"
           },
           "zaxis": {
            "backgroundcolor": "#E5ECF6",
            "gridcolor": "white",
            "gridwidth": 2,
            "linecolor": "white",
            "showbackground": true,
            "ticks": "",
            "zerolinecolor": "white"
           }
          },
          "shapedefaults": {
           "line": {
            "color": "#2a3f5f"
           }
          },
          "ternary": {
           "aaxis": {
            "gridcolor": "white",
            "linecolor": "white",
            "ticks": ""
           },
           "baxis": {
            "gridcolor": "white",
            "linecolor": "white",
            "ticks": ""
           },
           "bgcolor": "#E5ECF6",
           "caxis": {
            "gridcolor": "white",
            "linecolor": "white",
            "ticks": ""
           }
          },
          "title": {
           "x": 0.05
          },
          "xaxis": {
           "automargin": true,
           "gridcolor": "white",
           "linecolor": "white",
           "ticks": "",
           "title": {
            "standoff": 15
           },
           "zerolinecolor": "white",
           "zerolinewidth": 2
          },
          "yaxis": {
           "automargin": true,
           "gridcolor": "white",
           "linecolor": "white",
           "ticks": "",
           "title": {
            "standoff": 15
           },
           "zerolinecolor": "white",
           "zerolinewidth": 2
          }
         }
        },
        "title": {
         "text": "Class → EventType → SubType Hierarchy"
        }
       }
      }
     },
     "metadata": {},
     "output_type": "display_data"
    },
    {
     "data": {
      "application/vnd.plotly.v1+json": {
       "config": {
        "plotlyServerURL": "https://plot.ly"
       },
       "data": [
        {
         "branchvalues": "total",
         "domain": {
          "x": [
           0,
           1
          ],
          "y": [
           0,
           1
          ]
         },
         "hovertemplate": "labels=%{label}<br>count=%{value}<br>parent=%{parent}<br>id=%{id}<extra></extra>",
         "ids": [
          "sport/fixture/end",
          "sport/fixture",
          "sport"
         ],
         "labels": [
          "end",
          "fixture",
          "sport"
         ],
         "name": "",
         "parents": [
          "sport/fixture",
          "sport",
          ""
         ],
         "type": "treemap",
         "values": {
          "bdata": "MAEwATAB",
          "dtype": "i2"
         }
        }
       ],
       "layout": {
        "legend": {
         "tracegroupgap": 0
        },
        "margin": {
         "b": 10,
         "l": 10,
         "r": 10,
         "t": 40
        },
        "template": {
         "data": {
          "bar": [
           {
            "error_x": {
             "color": "#2a3f5f"
            },
            "error_y": {
             "color": "#2a3f5f"
            },
            "marker": {
             "line": {
              "color": "#E5ECF6",
              "width": 0.5
             },
             "pattern": {
              "fillmode": "overlay",
              "size": 10,
              "solidity": 0.2
             }
            },
            "type": "bar"
           }
          ],
          "barpolar": [
           {
            "marker": {
             "line": {
              "color": "#E5ECF6",
              "width": 0.5
             },
             "pattern": {
              "fillmode": "overlay",
              "size": 10,
              "solidity": 0.2
             }
            },
            "type": "barpolar"
           }
          ],
          "carpet": [
           {
            "aaxis": {
             "endlinecolor": "#2a3f5f",
             "gridcolor": "white",
             "linecolor": "white",
             "minorgridcolor": "white",
             "startlinecolor": "#2a3f5f"
            },
            "baxis": {
             "endlinecolor": "#2a3f5f",
             "gridcolor": "white",
             "linecolor": "white",
             "minorgridcolor": "white",
             "startlinecolor": "#2a3f5f"
            },
            "type": "carpet"
           }
          ],
          "choropleth": [
           {
            "colorbar": {
             "outlinewidth": 0,
             "ticks": ""
            },
            "type": "choropleth"
           }
          ],
          "contour": [
           {
            "colorbar": {
             "outlinewidth": 0,
             "ticks": ""
            },
            "colorscale": [
             [
              0,
              "#0d0887"
             ],
             [
              0.1111111111111111,
              "#46039f"
             ],
             [
              0.2222222222222222,
              "#7201a8"
             ],
             [
              0.3333333333333333,
              "#9c179e"
             ],
             [
              0.4444444444444444,
              "#bd3786"
             ],
             [
              0.5555555555555556,
              "#d8576b"
             ],
             [
              0.6666666666666666,
              "#ed7953"
             ],
             [
              0.7777777777777778,
              "#fb9f3a"
             ],
             [
              0.8888888888888888,
              "#fdca26"
             ],
             [
              1,
              "#f0f921"
             ]
            ],
            "type": "contour"
           }
          ],
          "contourcarpet": [
           {
            "colorbar": {
             "outlinewidth": 0,
             "ticks": ""
            },
            "type": "contourcarpet"
           }
          ],
          "heatmap": [
           {
            "colorbar": {
             "outlinewidth": 0,
             "ticks": ""
            },
            "colorscale": [
             [
              0,
              "#0d0887"
             ],
             [
              0.1111111111111111,
              "#46039f"
             ],
             [
              0.2222222222222222,
              "#7201a8"
             ],
             [
              0.3333333333333333,
              "#9c179e"
             ],
             [
              0.4444444444444444,
              "#bd3786"
             ],
             [
              0.5555555555555556,
              "#d8576b"
             ],
             [
              0.6666666666666666,
              "#ed7953"
             ],
             [
              0.7777777777777778,
              "#fb9f3a"
             ],
             [
              0.8888888888888888,
              "#fdca26"
             ],
             [
              1,
              "#f0f921"
             ]
            ],
            "type": "heatmap"
           }
          ],
          "histogram": [
           {
            "marker": {
             "pattern": {
              "fillmode": "overlay",
              "size": 10,
              "solidity": 0.2
             }
            },
            "type": "histogram"
           }
          ],
          "histogram2d": [
           {
            "colorbar": {
             "outlinewidth": 0,
             "ticks": ""
            },
            "colorscale": [
             [
              0,
              "#0d0887"
             ],
             [
              0.1111111111111111,
              "#46039f"
             ],
             [
              0.2222222222222222,
              "#7201a8"
             ],
             [
              0.3333333333333333,
              "#9c179e"
             ],
             [
              0.4444444444444444,
              "#bd3786"
             ],
             [
              0.5555555555555556,
              "#d8576b"
             ],
             [
              0.6666666666666666,
              "#ed7953"
             ],
             [
              0.7777777777777778,
              "#fb9f3a"
             ],
             [
              0.8888888888888888,
              "#fdca26"
             ],
             [
              1,
              "#f0f921"
             ]
            ],
            "type": "histogram2d"
           }
          ],
          "histogram2dcontour": [
           {
            "colorbar": {
             "outlinewidth": 0,
             "ticks": ""
            },
            "colorscale": [
             [
              0,
              "#0d0887"
             ],
             [
              0.1111111111111111,
              "#46039f"
             ],
             [
              0.2222222222222222,
              "#7201a8"
             ],
             [
              0.3333333333333333,
              "#9c179e"
             ],
             [
              0.4444444444444444,
              "#bd3786"
             ],
             [
              0.5555555555555556,
              "#d8576b"
             ],
             [
              0.6666666666666666,
              "#ed7953"
             ],
             [
              0.7777777777777778,
              "#fb9f3a"
             ],
             [
              0.8888888888888888,
              "#fdca26"
             ],
             [
              1,
              "#f0f921"
             ]
            ],
            "type": "histogram2dcontour"
           }
          ],
          "mesh3d": [
           {
            "colorbar": {
             "outlinewidth": 0,
             "ticks": ""
            },
            "type": "mesh3d"
           }
          ],
          "parcoords": [
           {
            "line": {
             "colorbar": {
              "outlinewidth": 0,
              "ticks": ""
             }
            },
            "type": "parcoords"
           }
          ],
          "pie": [
           {
            "automargin": true,
            "type": "pie"
           }
          ],
          "scatter": [
           {
            "fillpattern": {
             "fillmode": "overlay",
             "size": 10,
             "solidity": 0.2
            },
            "type": "scatter"
           }
          ],
          "scatter3d": [
           {
            "line": {
             "colorbar": {
              "outlinewidth": 0,
              "ticks": ""
             }
            },
            "marker": {
             "colorbar": {
              "outlinewidth": 0,
              "ticks": ""
             }
            },
            "type": "scatter3d"
           }
          ],
          "scattercarpet": [
           {
            "marker": {
             "colorbar": {
              "outlinewidth": 0,
              "ticks": ""
             }
            },
            "type": "scattercarpet"
           }
          ],
          "scattergeo": [
           {
            "marker": {
             "colorbar": {
              "outlinewidth": 0,
              "ticks": ""
             }
            },
            "type": "scattergeo"
           }
          ],
          "scattergl": [
           {
            "marker": {
             "colorbar": {
              "outlinewidth": 0,
              "ticks": ""
             }
            },
            "type": "scattergl"
           }
          ],
          "scattermap": [
           {
            "marker": {
             "colorbar": {
              "outlinewidth": 0,
              "ticks": ""
             }
            },
            "type": "scattermap"
           }
          ],
          "scattermapbox": [
           {
            "marker": {
             "colorbar": {
              "outlinewidth": 0,
              "ticks": ""
             }
            },
            "type": "scattermapbox"
           }
          ],
          "scatterpolar": [
           {
            "marker": {
             "colorbar": {
              "outlinewidth": 0,
              "ticks": ""
             }
            },
            "type": "scatterpolar"
           }
          ],
          "scatterpolargl": [
           {
            "marker": {
             "colorbar": {
              "outlinewidth": 0,
              "ticks": ""
             }
            },
            "type": "scatterpolargl"
           }
          ],
          "scatterternary": [
           {
            "marker": {
             "colorbar": {
              "outlinewidth": 0,
              "ticks": ""
             }
            },
            "type": "scatterternary"
           }
          ],
          "surface": [
           {
            "colorbar": {
             "outlinewidth": 0,
             "ticks": ""
            },
            "colorscale": [
             [
              0,
              "#0d0887"
             ],
             [
              0.1111111111111111,
              "#46039f"
             ],
             [
              0.2222222222222222,
              "#7201a8"
             ],
             [
              0.3333333333333333,
              "#9c179e"
             ],
             [
              0.4444444444444444,
              "#bd3786"
             ],
             [
              0.5555555555555556,
              "#d8576b"
             ],
             [
              0.6666666666666666,
              "#ed7953"
             ],
             [
              0.7777777777777778,
              "#fb9f3a"
             ],
             [
              0.8888888888888888,
              "#fdca26"
             ],
             [
              1,
              "#f0f921"
             ]
            ],
            "type": "surface"
           }
          ],
          "table": [
           {
            "cells": {
             "fill": {
              "color": "#EBF0F8"
             },
             "line": {
              "color": "white"
             }
            },
            "header": {
             "fill": {
              "color": "#C8D4E3"
             },
             "line": {
              "color": "white"
             }
            },
            "type": "table"
           }
          ]
         },
         "layout": {
          "annotationdefaults": {
           "arrowcolor": "#2a3f5f",
           "arrowhead": 0,
           "arrowwidth": 1
          },
          "autotypenumbers": "strict",
          "coloraxis": {
           "colorbar": {
            "outlinewidth": 0,
            "ticks": ""
           }
          },
          "colorscale": {
           "diverging": [
            [
             0,
             "#8e0152"
            ],
            [
             0.1,
             "#c51b7d"
            ],
            [
             0.2,
             "#de77ae"
            ],
            [
             0.3,
             "#f1b6da"
            ],
            [
             0.4,
             "#fde0ef"
            ],
            [
             0.5,
             "#f7f7f7"
            ],
            [
             0.6,
             "#e6f5d0"
            ],
            [
             0.7,
             "#b8e186"
            ],
            [
             0.8,
             "#7fbc41"
            ],
            [
             0.9,
             "#4d9221"
            ],
            [
             1,
             "#276419"
            ]
           ],
           "sequential": [
            [
             0,
             "#0d0887"
            ],
            [
             0.1111111111111111,
             "#46039f"
            ],
            [
             0.2222222222222222,
             "#7201a8"
            ],
            [
             0.3333333333333333,
             "#9c179e"
            ],
            [
             0.4444444444444444,
             "#bd3786"
            ],
            [
             0.5555555555555556,
             "#d8576b"
            ],
            [
             0.6666666666666666,
             "#ed7953"
            ],
            [
             0.7777777777777778,
             "#fb9f3a"
            ],
            [
             0.8888888888888888,
             "#fdca26"
            ],
            [
             1,
             "#f0f921"
            ]
           ],
           "sequentialminus": [
            [
             0,
             "#0d0887"
            ],
            [
             0.1111111111111111,
             "#46039f"
            ],
            [
             0.2222222222222222,
             "#7201a8"
            ],
            [
             0.3333333333333333,
             "#9c179e"
            ],
            [
             0.4444444444444444,
             "#bd3786"
            ],
            [
             0.5555555555555556,
             "#d8576b"
            ],
            [
             0.6666666666666666,
             "#ed7953"
            ],
            [
             0.7777777777777778,
             "#fb9f3a"
            ],
            [
             0.8888888888888888,
             "#fdca26"
            ],
            [
             1,
             "#f0f921"
            ]
           ]
          },
          "colorway": [
           "#636efa",
           "#EF553B",
           "#00cc96",
           "#ab63fa",
           "#FFA15A",
           "#19d3f3",
           "#FF6692",
           "#B6E880",
           "#FF97FF",
           "#FECB52"
          ],
          "font": {
           "color": "#2a3f5f"
          },
          "geo": {
           "bgcolor": "white",
           "lakecolor": "white",
           "landcolor": "#E5ECF6",
           "showlakes": true,
           "showland": true,
           "subunitcolor": "white"
          },
          "hoverlabel": {
           "align": "left"
          },
          "hovermode": "closest",
          "mapbox": {
           "style": "light"
          },
          "paper_bgcolor": "white",
          "plot_bgcolor": "#E5ECF6",
          "polar": {
           "angularaxis": {
            "gridcolor": "white",
            "linecolor": "white",
            "ticks": ""
           },
           "bgcolor": "#E5ECF6",
           "radialaxis": {
            "gridcolor": "white",
            "linecolor": "white",
            "ticks": ""
           }
          },
          "scene": {
           "xaxis": {
            "backgroundcolor": "#E5ECF6",
            "gridcolor": "white",
            "gridwidth": 2,
            "linecolor": "white",
            "showbackground": true,
            "ticks": "",
            "zerolinecolor": "white"
           },
           "yaxis": {
            "backgroundcolor": "#E5ECF6",
            "gridcolor": "white",
            "gridwidth": 2,
            "linecolor": "white",
            "showbackground": true,
            "ticks": "",
            "zerolinecolor": "white"
           },
           "zaxis": {
            "backgroundcolor": "#E5ECF6",
            "gridcolor": "white",
            "gridwidth": 2,
            "linecolor": "white",
            "showbackground": true,
            "ticks": "",
            "zerolinecolor": "white"
           }
          },
          "shapedefaults": {
           "line": {
            "color": "#2a3f5f"
           }
          },
          "ternary": {
           "aaxis": {
            "gridcolor": "white",
            "linecolor": "white",
            "ticks": ""
           },
           "baxis": {
            "gridcolor": "white",
            "linecolor": "white",
            "ticks": ""
           },
           "bgcolor": "#E5ECF6",
           "caxis": {
            "gridcolor": "white",
            "linecolor": "white",
            "ticks": ""
           }
          },
          "title": {
           "x": 0.05
          },
          "xaxis": {
           "automargin": true,
           "gridcolor": "white",
           "linecolor": "white",
           "ticks": "",
           "title": {
            "standoff": 15
           },
           "zerolinecolor": "white",
           "zerolinewidth": 2
          },
          "yaxis": {
           "automargin": true,
           "gridcolor": "white",
           "linecolor": "white",
           "ticks": "",
           "title": {
            "standoff": 15
           },
           "zerolinecolor": "white",
           "zerolinewidth": 2
          }
         }
        },
        "title": {
         "text": "Class → EventType → SubType Treemap"
        }
       }
      }
     },
     "metadata": {},
     "output_type": "display_data"
    },
    {
     "data": {
      "application/vnd.plotly.v1+json": {
       "config": {
        "plotlyServerURL": "https://plot.ly"
       },
       "data": [
        {
         "branchvalues": "total",
         "domain": {
          "x": [
           0,
           1
          ],
          "y": [
           0,
           1
          ]
         },
         "hovertemplate": "labels=%{label}<br>count=%{value}<br>parent=%{parent}<br>id=%{id}<extra></extra>",
         "ids": [
          "sport/fixture/end",
          "sport/fixture",
          "sport"
         ],
         "labels": [
          "end",
          "fixture",
          "sport"
         ],
         "name": "",
         "parents": [
          "sport/fixture",
          "sport",
          ""
         ],
         "type": "icicle",
         "values": {
          "bdata": "MAEwATAB",
          "dtype": "i2"
         }
        }
       ],
       "layout": {
        "legend": {
         "tracegroupgap": 0
        },
        "margin": {
         "b": 10,
         "l": 10,
         "r": 10,
         "t": 40
        },
        "template": {
         "data": {
          "bar": [
           {
            "error_x": {
             "color": "#2a3f5f"
            },
            "error_y": {
             "color": "#2a3f5f"
            },
            "marker": {
             "line": {
              "color": "#E5ECF6",
              "width": 0.5
             },
             "pattern": {
              "fillmode": "overlay",
              "size": 10,
              "solidity": 0.2
             }
            },
            "type": "bar"
           }
          ],
          "barpolar": [
           {
            "marker": {
             "line": {
              "color": "#E5ECF6",
              "width": 0.5
             },
             "pattern": {
              "fillmode": "overlay",
              "size": 10,
              "solidity": 0.2
             }
            },
            "type": "barpolar"
           }
          ],
          "carpet": [
           {
            "aaxis": {
             "endlinecolor": "#2a3f5f",
             "gridcolor": "white",
             "linecolor": "white",
             "minorgridcolor": "white",
             "startlinecolor": "#2a3f5f"
            },
            "baxis": {
             "endlinecolor": "#2a3f5f",
             "gridcolor": "white",
             "linecolor": "white",
             "minorgridcolor": "white",
             "startlinecolor": "#2a3f5f"
            },
            "type": "carpet"
           }
          ],
          "choropleth": [
           {
            "colorbar": {
             "outlinewidth": 0,
             "ticks": ""
            },
            "type": "choropleth"
           }
          ],
          "contour": [
           {
            "colorbar": {
             "outlinewidth": 0,
             "ticks": ""
            },
            "colorscale": [
             [
              0,
              "#0d0887"
             ],
             [
              0.1111111111111111,
              "#46039f"
             ],
             [
              0.2222222222222222,
              "#7201a8"
             ],
             [
              0.3333333333333333,
              "#9c179e"
             ],
             [
              0.4444444444444444,
              "#bd3786"
             ],
             [
              0.5555555555555556,
              "#d8576b"
             ],
             [
              0.6666666666666666,
              "#ed7953"
             ],
             [
              0.7777777777777778,
              "#fb9f3a"
             ],
             [
              0.8888888888888888,
              "#fdca26"
             ],
             [
              1,
              "#f0f921"
             ]
            ],
            "type": "contour"
           }
          ],
          "contourcarpet": [
           {
            "colorbar": {
             "outlinewidth": 0,
             "ticks": ""
            },
            "type": "contourcarpet"
           }
          ],
          "heatmap": [
           {
            "colorbar": {
             "outlinewidth": 0,
             "ticks": ""
            },
            "colorscale": [
             [
              0,
              "#0d0887"
             ],
             [
              0.1111111111111111,
              "#46039f"
             ],
             [
              0.2222222222222222,
              "#7201a8"
             ],
             [
              0.3333333333333333,
              "#9c179e"
             ],
             [
              0.4444444444444444,
              "#bd3786"
             ],
             [
              0.5555555555555556,
              "#d8576b"
             ],
             [
              0.6666666666666666,
              "#ed7953"
             ],
             [
              0.7777777777777778,
              "#fb9f3a"
             ],
             [
              0.8888888888888888,
              "#fdca26"
             ],
             [
              1,
              "#f0f921"
             ]
            ],
            "type": "heatmap"
           }
          ],
          "histogram": [
           {
            "marker": {
             "pattern": {
              "fillmode": "overlay",
              "size": 10,
              "solidity": 0.2
             }
            },
            "type": "histogram"
           }
          ],
          "histogram2d": [
           {
            "colorbar": {
             "outlinewidth": 0,
             "ticks": ""
            },
            "colorscale": [
             [
              0,
              "#0d0887"
             ],
             [
              0.1111111111111111,
              "#46039f"
             ],
             [
              0.2222222222222222,
              "#7201a8"
             ],
             [
              0.3333333333333333,
              "#9c179e"
             ],
             [
              0.4444444444444444,
              "#bd3786"
             ],
             [
              0.5555555555555556,
              "#d8576b"
             ],
             [
              0.6666666666666666,
              "#ed7953"
             ],
             [
              0.7777777777777778,
              "#fb9f3a"
             ],
             [
              0.8888888888888888,
              "#fdca26"
             ],
             [
              1,
              "#f0f921"
             ]
            ],
            "type": "histogram2d"
           }
          ],
          "histogram2dcontour": [
           {
            "colorbar": {
             "outlinewidth": 0,
             "ticks": ""
            },
            "colorscale": [
             [
              0,
              "#0d0887"
             ],
             [
              0.1111111111111111,
              "#46039f"
             ],
             [
              0.2222222222222222,
              "#7201a8"
             ],
             [
              0.3333333333333333,
              "#9c179e"
             ],
             [
              0.4444444444444444,
              "#bd3786"
             ],
             [
              0.5555555555555556,
              "#d8576b"
             ],
             [
              0.6666666666666666,
              "#ed7953"
             ],
             [
              0.7777777777777778,
              "#fb9f3a"
             ],
             [
              0.8888888888888888,
              "#fdca26"
             ],
             [
              1,
              "#f0f921"
             ]
            ],
            "type": "histogram2dcontour"
           }
          ],
          "mesh3d": [
           {
            "colorbar": {
             "outlinewidth": 0,
             "ticks": ""
            },
            "type": "mesh3d"
           }
          ],
          "parcoords": [
           {
            "line": {
             "colorbar": {
              "outlinewidth": 0,
              "ticks": ""
             }
            },
            "type": "parcoords"
           }
          ],
          "pie": [
           {
            "automargin": true,
            "type": "pie"
           }
          ],
          "scatter": [
           {
            "fillpattern": {
             "fillmode": "overlay",
             "size": 10,
             "solidity": 0.2
            },
            "type": "scatter"
           }
          ],
          "scatter3d": [
           {
            "line": {
             "colorbar": {
              "outlinewidth": 0,
              "ticks": ""
             }
            },
            "marker": {
             "colorbar": {
              "outlinewidth": 0,
              "ticks": ""
             }
            },
            "type": "scatter3d"
           }
          ],
          "scattercarpet": [
           {
            "marker": {
             "colorbar": {
              "outlinewidth": 0,
              "ticks": ""
             }
            },
            "type": "scattercarpet"
           }
          ],
          "scattergeo": [
           {
            "marker": {
             "colorbar": {
              "outlinewidth": 0,
              "ticks": ""
             }
            },
            "type": "scattergeo"
           }
          ],
          "scattergl": [
           {
            "marker": {
             "colorbar": {
              "outlinewidth": 0,
              "ticks": ""
             }
            },
            "type": "scattergl"
           }
          ],
          "scattermap": [
           {
            "marker": {
             "colorbar": {
              "outlinewidth": 0,
              "ticks": ""
             }
            },
            "type": "scattermap"
           }
          ],
          "scattermapbox": [
           {
            "marker": {
             "colorbar": {
              "outlinewidth": 0,
              "ticks": ""
             }
            },
            "type": "scattermapbox"
           }
          ],
          "scatterpolar": [
           {
            "marker": {
             "colorbar": {
              "outlinewidth": 0,
              "ticks": ""
             }
            },
            "type": "scatterpolar"
           }
          ],
          "scatterpolargl": [
           {
            "marker": {
             "colorbar": {
              "outlinewidth": 0,
              "ticks": ""
             }
            },
            "type": "scatterpolargl"
           }
          ],
          "scatterternary": [
           {
            "marker": {
             "colorbar": {
              "outlinewidth": 0,
              "ticks": ""
             }
            },
            "type": "scatterternary"
           }
          ],
          "surface": [
           {
            "colorbar": {
             "outlinewidth": 0,
             "ticks": ""
            },
            "colorscale": [
             [
              0,
              "#0d0887"
             ],
             [
              0.1111111111111111,
              "#46039f"
             ],
             [
              0.2222222222222222,
              "#7201a8"
             ],
             [
              0.3333333333333333,
              "#9c179e"
             ],
             [
              0.4444444444444444,
              "#bd3786"
             ],
             [
              0.5555555555555556,
              "#d8576b"
             ],
             [
              0.6666666666666666,
              "#ed7953"
             ],
             [
              0.7777777777777778,
              "#fb9f3a"
             ],
             [
              0.8888888888888888,
              "#fdca26"
             ],
             [
              1,
              "#f0f921"
             ]
            ],
            "type": "surface"
           }
          ],
          "table": [
           {
            "cells": {
             "fill": {
              "color": "#EBF0F8"
             },
             "line": {
              "color": "white"
             }
            },
            "header": {
             "fill": {
              "color": "#C8D4E3"
             },
             "line": {
              "color": "white"
             }
            },
            "type": "table"
           }
          ]
         },
         "layout": {
          "annotationdefaults": {
           "arrowcolor": "#2a3f5f",
           "arrowhead": 0,
           "arrowwidth": 1
          },
          "autotypenumbers": "strict",
          "coloraxis": {
           "colorbar": {
            "outlinewidth": 0,
            "ticks": ""
           }
          },
          "colorscale": {
           "diverging": [
            [
             0,
             "#8e0152"
            ],
            [
             0.1,
             "#c51b7d"
            ],
            [
             0.2,
             "#de77ae"
            ],
            [
             0.3,
             "#f1b6da"
            ],
            [
             0.4,
             "#fde0ef"
            ],
            [
             0.5,
             "#f7f7f7"
            ],
            [
             0.6,
             "#e6f5d0"
            ],
            [
             0.7,
             "#b8e186"
            ],
            [
             0.8,
             "#7fbc41"
            ],
            [
             0.9,
             "#4d9221"
            ],
            [
             1,
             "#276419"
            ]
           ],
           "sequential": [
            [
             0,
             "#0d0887"
            ],
            [
             0.1111111111111111,
             "#46039f"
            ],
            [
             0.2222222222222222,
             "#7201a8"
            ],
            [
             0.3333333333333333,
             "#9c179e"
            ],
            [
             0.4444444444444444,
             "#bd3786"
            ],
            [
             0.5555555555555556,
             "#d8576b"
            ],
            [
             0.6666666666666666,
             "#ed7953"
            ],
            [
             0.7777777777777778,
             "#fb9f3a"
            ],
            [
             0.8888888888888888,
             "#fdca26"
            ],
            [
             1,
             "#f0f921"
            ]
           ],
           "sequentialminus": [
            [
             0,
             "#0d0887"
            ],
            [
             0.1111111111111111,
             "#46039f"
            ],
            [
             0.2222222222222222,
             "#7201a8"
            ],
            [
             0.3333333333333333,
             "#9c179e"
            ],
            [
             0.4444444444444444,
             "#bd3786"
            ],
            [
             0.5555555555555556,
             "#d8576b"
            ],
            [
             0.6666666666666666,
             "#ed7953"
            ],
            [
             0.7777777777777778,
             "#fb9f3a"
            ],
            [
             0.8888888888888888,
             "#fdca26"
            ],
            [
             1,
             "#f0f921"
            ]
           ]
          },
          "colorway": [
           "#636efa",
           "#EF553B",
           "#00cc96",
           "#ab63fa",
           "#FFA15A",
           "#19d3f3",
           "#FF6692",
           "#B6E880",
           "#FF97FF",
           "#FECB52"
          ],
          "font": {
           "color": "#2a3f5f"
          },
          "geo": {
           "bgcolor": "white",
           "lakecolor": "white",
           "landcolor": "#E5ECF6",
           "showlakes": true,
           "showland": true,
           "subunitcolor": "white"
          },
          "hoverlabel": {
           "align": "left"
          },
          "hovermode": "closest",
          "mapbox": {
           "style": "light"
          },
          "paper_bgcolor": "white",
          "plot_bgcolor": "#E5ECF6",
          "polar": {
           "angularaxis": {
            "gridcolor": "white",
            "linecolor": "white",
            "ticks": ""
           },
           "bgcolor": "#E5ECF6",
           "radialaxis": {
            "gridcolor": "white",
            "linecolor": "white",
            "ticks": ""
           }
          },
          "scene": {
           "xaxis": {
            "backgroundcolor": "#E5ECF6",
            "gridcolor": "white",
            "gridwidth": 2,
            "linecolor": "white",
            "showbackground": true,
            "ticks": "",
            "zerolinecolor": "white"
           },
           "yaxis": {
            "backgroundcolor": "#E5ECF6",
            "gridcolor": "white",
            "gridwidth": 2,
            "linecolor": "white",
            "showbackground": true,
            "ticks": "",
            "zerolinecolor": "white"
           },
           "zaxis": {
            "backgroundcolor": "#E5ECF6",
            "gridcolor": "white",
            "gridwidth": 2,
            "linecolor": "white",
            "showbackground": true,
            "ticks": "",
            "zerolinecolor": "white"
           }
          },
          "shapedefaults": {
           "line": {
            "color": "#2a3f5f"
           }
          },
          "ternary": {
           "aaxis": {
            "gridcolor": "white",
            "linecolor": "white",
            "ticks": ""
           },
           "baxis": {
            "gridcolor": "white",
            "linecolor": "white",
            "ticks": ""
           },
           "bgcolor": "#E5ECF6",
           "caxis": {
            "gridcolor": "white",
            "linecolor": "white",
            "ticks": ""
           }
          },
          "title": {
           "x": 0.05
          },
          "xaxis": {
           "automargin": true,
           "gridcolor": "white",
           "linecolor": "white",
           "ticks": "",
           "title": {
            "standoff": 15
           },
           "zerolinecolor": "white",
           "zerolinewidth": 2
          },
          "yaxis": {
           "automargin": true,
           "gridcolor": "white",
           "linecolor": "white",
           "ticks": "",
           "title": {
            "standoff": 15
           },
           "zerolinecolor": "white",
           "zerolinewidth": 2
          }
         }
        },
        "title": {
         "text": "Class → EventType → SubType Icicle"
        }
       }
      }
     },
     "metadata": {},
     "output_type": "display_data"
    }
   ],
   "source": [
    "import plotly.express as px\n",
    "\n",
    "df_filtered = df[[\"data.class\", \"data.eventType\", \"data.subType\"]].dropna()\n",
    "\n",
    "\n",
    "fig = px.sunburst(\n",
    "    df_filtered,\n",
    "    path=[\"data.class\", \"data.eventType\", \"data.subType\"],\n",
    "    values=None,  # or use a 'count' column if pre-aggregated\n",
    "    title=\"Class → EventType → SubType Hierarchy\"\n",
    ")\n",
    "fig.update_layout(margin=dict(t=40, l=10, r=10, b=10))\n",
    "fig.show()\n",
    "\n",
    "fig = px.treemap(\n",
    "    df_filtered,\n",
    "    path=[\"data.class\", \"data.eventType\", \"data.subType\"],\n",
    "    values=None,  # or 'count'\n",
    "    title=\"Class → EventType → SubType Treemap\"\n",
    ")\n",
    "fig.update_layout(margin=dict(t=40, l=10, r=10, b=10))\n",
    "fig.show()\n",
    "\n",
    "\n",
    "fig = px.icicle(\n",
    "    df_filtered,\n",
    "    path=[\"data.class\", \"data.eventType\", \"data.subType\"],\n",
    "    values=None,\n",
    "    title=\"Class → EventType → SubType Icicle\"\n",
    ")\n",
    "fig.update_layout(margin=dict(t=40, l=10, r=10, b=10))\n",
    "fig.show()\n",
    "\n"
   ]
  },
  {
   "cell_type": "code",
   "execution_count": 28,
   "metadata": {},
   "outputs": [
    {
     "name": "stderr",
     "output_type": "stream",
     "text": [
      "C:\\Users\\madam\\AppData\\Local\\Temp\\ipykernel_23308\\1848256278.py:2: FutureWarning:\n",
      "\n",
      "Downcasting object dtype arrays on .fillna, .ffill, .bfill is deprecated and will change in a future version. Call result.infer_objects(copy=False) instead. To opt-in to the future behavior, set `pd.set_option('future.no_silent_downcasting', True)`\n",
      "\n"
     ]
    },
    {
     "data": {
      "image/png": "[encoded data removed]",
      "text/plain": [
       "<Figure size 1000x600 with 1 Axes>"
      ]
     },
     "metadata": {},
     "output_type": "display_data"
    }
   ],
   "source": [
    "# Replace NaN values in 'data.success' with False (or any default value)\n",
    "df[\"data.success\"] = df[\"data.success\"].fillna(False)\n",
    "\n",
    "# Assign colors based on data.success\n",
    "colors = df[\"data.success\"].map({True: 'green', False: 'red'})\n",
    "\n",
    "# Plot data.x and data.y as a scatter plot with colors based on data.success\n",
    "plt.figure(figsize=(10, 6))\n",
    "plt.scatter(df[\"data.x\"], df[\"data.y\"], alpha=0.5, s=10, c=colors)\n",
    "plt.title(\"Scatter Plot of data.x vs data.y\")\n",
    "plt.xlabel(\"data.x (scaled from 0 to 100)\")\n",
    "plt.ylabel(\"data.y (scaled from 0 to 100)\")\n",
    "plt.xlim(0, 100)\n",
    "plt.ylim(0, 100)\n",
    "plt.grid()\n",
    "plt.tight_layout()\n",
    "plt.show()"
   ]
  },
  {
   "cell_type": "code",
   "execution_count": null,
   "metadata": {},
   "outputs": [],
   "source": []
  }
 ],
 "metadata": {
  "kernelspec": {
   "display_name": ".venv",
   "language": "python",
   "name": "python3"
  },
  "language_info": {
   "codemirror_mode": {
    "name": "ipython",
    "version": 3
   },
   "file_extension": ".py",
   "mimetype": "text/x-python",
   "name": "python",
   "nbconvert_exporter": "python",
   "pygments_lexer": "ipython3",
   "version": "3.13.2"
  }
 },
 "nbformat": 4,
 "nbformat_minor": 2
}
