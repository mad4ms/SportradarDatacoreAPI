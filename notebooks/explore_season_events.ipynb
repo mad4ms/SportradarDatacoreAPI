{
 "cells": [
  {
   "cell_type": "markdown",
   "metadata": {},
   "source": [
    "# Explore downloaded season event data"
   ]
  },
  {
   "cell_type": "code",
   "execution_count": null,
   "metadata": {},
   "outputs": [],
   "source": [
    "!pip install matplotlib seaborn plotly nbformat\n",
    "\n",
    "import os\n",
    "import sys\n",
    "import pandas as pd\n",
    "import matplotlib.pyplot as plt\n",
    "import plotly.graph_objects as go\n",
    "import seaborn as sns\n",
    "import numpy as np\n",
    "from glob import glob"
   ]
  },
  {
   "cell_type": "code",
   "execution_count": null,
   "metadata": {},
   "outputs": [],
   "source": [
    "df = pd.DataFrame()\n",
    "\n",
    "for file in glob(\"../data/*.csv\"):\n",
    "    # print(f\"Reading {file}\")\n",
    "    df_temp = pd.read_csv(file)\n",
    "    df_temp[\"source\"] = os.path.basename(file).split(\".\")[0]\n",
    "    df = pd.concat([df, df_temp], ignore_index=True)"
   ]
  },
  {
   "cell_type": "code",
   "execution_count": null,
   "metadata": {},
   "outputs": [],
   "source": [
    "display(df.columns)"
   ]
  },
  {
   "cell_type": "code",
   "execution_count": null,
   "metadata": {},
   "outputs": [],
   "source": [
    "# Histogram of 'data.eventType' and 'data.subType'\n",
    "fig, ax = plt.subplots(1, 2, figsize=(15, 5))\n",
    "df[\"data.eventType\"].value_counts().plot(kind=\"barh\", ax=ax[0])\n",
    "df[\"data.subType\"].value_counts().plot(kind=\"barh\", ax=ax[1])\n",
    "ax[0].set_title(\"data.eventType\")\n",
    "ax[1].set_title(\"data.subType\")\n",
    "ax[0].set_ylabel(\"Event Type\")\n",
    "ax[1].set_ylabel(\"Sub Type\")\n",
    "ax[0].set_xlabel(\"Count\")\n",
    "ax[1].set_xlabel(\"Count\")\n",
    "plt.tight_layout()\n",
    "# plt.savefig(\"eventType_subType.png\")\n",
    "plt.show()"
   ]
  },
  {
   "cell_type": "code",
   "execution_count": null,
   "metadata": {},
   "outputs": [],
   "source": [
    "# Display unique values of fixtureId per gameday\n",
    "def unique_fixtureid_per_gameday(df):\n",
    "    fixtureid_counts = df.groupby(\"gameday\")[\"fixtureId\"].nunique()\n",
    "    return fixtureid_counts\n",
    "\n",
    "fixtureid_counts = unique_fixtureid_per_gameday(df)\n",
    "fixtureid_counts = fixtureid_counts.reset_index()\n",
    "fixtureid_counts.columns = [\"data.gameday\", \"unique_fixtureid\"]\n",
    "\n",
    "# Plot using Matplotlib\n",
    "fig, ax = plt.subplots(figsize=(10, 6))\n",
    "ax.bar(fixtureid_counts[\"data.gameday\"], fixtureid_counts[\"unique_fixtureid\"], color=\"skyblue\")\n",
    "ax.set_title(\"Unique Fixture ID per Gameday\", fontsize=14)\n",
    "ax.set_xlabel(\"Gameday\", fontsize=12)\n",
    "ax.set_ylabel(\"Unique Fixture ID\", fontsize=12)\n",
    "plt.xticks(rotation=45)\n",
    "plt.tight_layout()\n",
    "plt.show()\n"
   ]
  },
  {
   "cell_type": "code",
   "execution_count": null,
   "metadata": {},
   "outputs": [],
   "source": [
    "import pandas as pd\n",
    "import plotly.graph_objects as go\n",
    "\n",
    "# Count occurrences\n",
    "counts = df.groupby([\"data.class\", \"data.eventType\", \"data.subType\"]).size().reset_index(name=\"count\")\n",
    "\n",
    "# Collect all unique labels\n",
    "labels = pd.concat([counts[\"data.class\"], counts[\"data.eventType\"], counts[\"data.subType\"]]).unique().tolist()\n",
    "label_indices = {label: i for i, label in enumerate(labels)}\n",
    "\n",
    "# First flow: type → eventType\n",
    "sources_type_event = counts[\"data.class\"].map(label_indices)\n",
    "targets_type_event = counts[\"data.eventType\"].map(label_indices)\n",
    "values_type_event = counts[\"count\"]\n",
    "\n",
    "# Second flow: eventType → subType\n",
    "sources_event_sub = counts[\"data.eventType\"].map(label_indices)\n",
    "targets_event_sub = counts[\"data.subType\"].map(label_indices)\n",
    "values_event_sub = counts[\"count\"]\n",
    "\n",
    "# Combine both flows\n",
    "sources = pd.concat([sources_type_event, sources_event_sub])\n",
    "targets = pd.concat([targets_type_event, targets_event_sub])\n",
    "values = pd.concat([values_type_event, values_event_sub])\n",
    "\n",
    "# Plot Sankey\n",
    "fig = go.Figure(data=[go.Sankey(\n",
    "    node=dict(\n",
    "        pad=15,\n",
    "        thickness=20,\n",
    "        label=labels,\n",
    "        line=dict(color=\"black\", width=0.5)\n",
    "    ),\n",
    "    link=dict(\n",
    "        source=sources,\n",
    "        target=targets,\n",
    "        value=values\n",
    "    )\n",
    ")])\n",
    "\n",
    "fig.update_layout(\n",
    "    title_text=\"Type → EventType → SubType Flow\",\n",
    "    font_size=10,\n",
    "    height=800,\n",
    "    width=700\n",
    ")\n",
    "fig.show()\n"
   ]
  },
  {
   "cell_type": "code",
   "execution_count": null,
   "metadata": {},
   "outputs": [],
   "source": [
    "import plotly.express as px\n",
    "\n",
    "df_filtered = df[[\"data.class\", \"data.eventType\", \"data.subType\"]].dropna()\n",
    "\n",
    "\n",
    "fig = px.sunburst(\n",
    "    df_filtered,\n",
    "    path=[\"data.class\", \"data.eventType\", \"data.subType\"],\n",
    "    values=None,  # or use a 'count' column if pre-aggregated\n",
    "    title=\"Class → EventType → SubType Hierarchy\"\n",
    ")\n",
    "fig.update_layout(margin=dict(t=40, l=10, r=10, b=10))\n",
    "fig.show()\n",
    "\n",
    "fig = px.treemap(\n",
    "    df_filtered,\n",
    "    path=[\"data.class\", \"data.eventType\", \"data.subType\"],\n",
    "    values=None,  # or 'count'\n",
    "    title=\"Class → EventType → SubType Treemap\"\n",
    ")\n",
    "fig.update_layout(margin=dict(t=40, l=10, r=10, b=10))\n",
    "fig.show()\n",
    "\n",
    "\n",
    "fig = px.icicle(\n",
    "    df_filtered,\n",
    "    path=[\"data.class\", \"data.eventType\", \"data.subType\"],\n",
    "    values=None,\n",
    "    title=\"Class → EventType → SubType Icicle\"\n",
    ")\n",
    "fig.update_layout(margin=dict(t=40, l=10, r=10, b=10))\n",
    "fig.show()\n",
    "\n"
   ]
  }
 ],
 "metadata": {
  "kernelspec": {
   "display_name": ".venv",
   "language": "python",
   "name": "python3"
  },
  "language_info": {
   "codemirror_mode": {
    "name": "ipython",
    "version": 3
   },
   "file_extension": ".py",
   "mimetype": "text/x-python",
   "name": "python",
   "nbconvert_exporter": "python",
   "pygments_lexer": "ipython3",
   "version": "3.13.2"
  }
 },
 "nbformat": 4,
 "nbformat_minor": 2
}
