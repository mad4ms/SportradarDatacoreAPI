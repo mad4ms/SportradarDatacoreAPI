{
 "cells": [
  {
   "cell_type": "markdown",
   "metadata": {},
   "source": [
    "# Notebook for Downloading Events of a Season"
   ]
  },
  {
   "cell_type": "markdown",
   "metadata": {},
   "source": [
    "### Imports"
   ]
  },
  {
   "cell_type": "code",
   "execution_count": null,
   "metadata": {},
   "outputs": [],
   "source": [
    "import os\n",
    "import pandas as pd\n",
    "from dotenv import load_dotenv\n",
    "from sportradar_datacore_api import HandballAPI\n",
    "from sportradar_datacore_api.workflows.handball.competitions import (\n",
    "    # list_competitions_df,\n",
    "    get_competition_id_by_name,\n",
    ")\n",
    "from sportradar_datacore_api.workflows.handball.seasons import (\n",
    "    list_seasons_df,\n",
    "    get_season_id_by_name,\n",
    ")\n",
    "from sportradar_datacore_api.workflows.handball.games import (\n",
    "    list_season_fixtures_df,\n",
    "    fetch_fixture_events_df,\n",
    ")\n",
    "\n"
   ]
  },
  {
   "cell_type": "markdown",
   "metadata": {},
   "source": [
    "### Configuration"
   ]
  },
  {
   "cell_type": "code",
   "execution_count": null,
   "metadata": {},
   "outputs": [],
   "source": [
    "NAME_COMPETITION = \"1. Handball-Bundesliga\"\n",
    "\n",
    "NAME_SEASON = \"DAIKIN HBL 2024/25\"\n",
    "PARAMETERS_SEASONS = {\"startDate\": \"2024-01-01\"}\n",
    "\n",
    "PATH_TO_OUTPUT = os.path.join(\n",
    "    os.getcwd(), \"..\", \"data\", \"season_24_25\"\n",
    ")\n",
    "\n",
    "# create path if it does not exist\n",
    "os.makedirs(PATH_TO_OUTPUT, exist_ok=True)"
   ]
  },
  {
   "cell_type": "markdown",
   "metadata": {},
   "source": [
    "### Initialize API"
   ]
  },
  {
   "cell_type": "code",
   "execution_count": null,
   "metadata": {},
   "outputs": [],
   "source": [
    "# Load credentials from .env_prd file\n",
    "load_dotenv(\".env\", override=True)\n",
    "\n",
    "# Initialize API client with environment-based credentials\n",
    "def initialize_api() -> HandballAPI:\n",
    "    \"\"\"Load .env credentials and return an authenticated client.\"\"\"\n",
    "    load_dotenv(\".env\", override=True)\n",
    "    return HandballAPI(\n",
    "        base_url=os.getenv(\"BASE_URL\", \"\"),\n",
    "        auth_url=os.getenv(\"AUTH_URL\", \"\"),\n",
    "        client_id=os.getenv(\"CLIENT_ID\", \"\"),\n",
    "        client_secret=os.getenv(\"CLIENT_SECRET\", \"\"),\n",
    "        org_id=os.getenv(\"CLIENT_ORGANIZATION_ID\"),\n",
    "        scopes=[\"read:organization\"],\n",
    "        sport=\"handball\",\n",
    "    )\n",
    "\n",
    "api = initialize_api()"
   ]
  },
  {
   "cell_type": "markdown",
   "metadata": {},
   "source": [
    "### Get wanted competition ID"
   ]
  },
  {
   "cell_type": "code",
   "execution_count": null,
   "metadata": {},
   "outputs": [],
   "source": [
    "competition_id = get_competition_id_by_name(api, NAME_COMPETITION)\n",
    "\n",
    "# Check if the competition was found\n",
    "if not competition_id:\n",
    "    raise ValueError(f\"Competition '{NAME_COMPETITION}' not found.\")\n",
    "else:\n",
    "    print(f\"→ Competition '{NAME_COMPETITION}' -> {competition_id}\")"
   ]
  },
  {
   "cell_type": "markdown",
   "metadata": {},
   "source": [
    "### Get wanted season ID"
   ]
  },
  {
   "cell_type": "code",
   "execution_count": null,
   "metadata": {},
   "outputs": [],
   "source": [
    "season_id = get_season_id_by_name(api, competition_id, NAME_SEASON)\n",
    "\n",
    "# Check if the season was found\n",
    "if not season_id:\n",
    "    raise ValueError(f\"Season '{NAME_SEASON}' not found in competition '{NAME_COMPETITION}'.\")\n",
    "else:\n",
    "    print(f\"→ Season '{NAME_SEASON}' -> {season_id}\")"
   ]
  },
  {
   "cell_type": "markdown",
   "metadata": {},
   "source": [
    "### Get the fixtures (matches) of a season"
   ]
  },
  {
   "cell_type": "code",
   "execution_count": null,
   "metadata": {},
   "outputs": [],
   "source": [
    "fixtures_df = list_season_fixtures_df(api, season_id)\n",
    "print(f\"Found {len(fixtures_df)} fixtures.\")\n",
    "# sort by startTimeLocal\n",
    "fixtures_df = fixtures_df.sort_values(by=\"startTimeLocal\")\n",
    "display(fixtures_df[[\"fixtureId\", \"nameLocal\", \"startTimeLocal\", \"roundNumber\"]])"
   ]
  },
  {
   "cell_type": "markdown",
   "metadata": {},
   "source": [
    "### define columns to keep in events dataframe"
   ]
  },
  {
   "cell_type": "code",
   "execution_count": null,
   "metadata": {},
   "outputs": [],
   "source": [
    "# TODO: put in config or something\n",
    "columns_to_keep = [\n",
    "    # \"clientId\",\n",
    "    # \"clientType\",\n",
    "    \"fixtureId\",\n",
    "    \"organizationId\",\n",
    "    # \"received\",\n",
    "    # \"sport\",\n",
    "    # \"topic\",\n",
    "    \"type\",\n",
    "    \"data.class\",\n",
    "    \"data.eventId\",\n",
    "    \"data.eventTime\",\n",
    "    \"data.eventType\",\n",
    "    # \"data.options.attendance\",\n",
    "    # \"data.options.numberOfPeriods\",\n",
    "    # \"data.options.periodLength\",\n",
    "    # \"data.status\",\n",
    "    \"data.subType\",\n",
    "    \"data.timestamp\",\n",
    "    \"data.entityId\",\n",
    "    # \"data.options.active\",\n",
    "    \"data.options.bib\",\n",
    "    # \"data.options.captain\",\n",
    "    # \"data.options.name\",\n",
    "    \"data.options.position\",\n",
    "    \"data.options.starter\",\n",
    "    # \"data.personId\",\n",
    "    # \"data.options.number\",\n",
    "    \"data.periodId\",\n",
    "    \"data.sequence\",\n",
    "    \"score_home\",\n",
    "    \"score_away\",\n",
    "    \"data.playId\",\n",
    "    \"data.clock\",\n",
    "    \"data.options.goalKeeperId\",\n",
    "    \"data.options.location\",\n",
    "    \"data.success\",\n",
    "    \"data.x\",\n",
    "    \"data.y\",\n",
    "    \"data.options.failureReason\",\n",
    "    \"data.options.attackType\",\n",
    "    \"data.options.value\",\n",
    "    \"data.options.emptyNet\",\n",
    "    # \"team.added\",\n",
    "    # \"team.ageGroup\",\n",
    "    # \"team.alternateVenueIds\",\n",
    "    # \"team.codeLatin\",\n",
    "    \"team.codeLocal\",\n",
    "    # \"team.defaultVenueId\",\n",
    "    # \"team.discipline\",\n",
    "    # \"team.entityGroupId\",\n",
    "    \"team.entityId\",\n",
    "    \"team.externalId\",\n",
    "    # \"team.gender\",\n",
    "    # \"team.grade\",\n",
    "    # \"team.historicalNames\",\n",
    "    # \"team.internationalReference\",\n",
    "    # \"team.nameFullLatin\",\n",
    "    \"team.nameFullLocal\",\n",
    "    # \"team.organizationId\",\n",
    "    # \"team.representing\",\n",
    "    # \"team.standard\",\n",
    "    # \"team.status\",\n",
    "    # \"team.updated\",\n",
    "    # \"team.additionalNames.namePlaceLatin\",\n",
    "    # \"team.additionalNames.namePlaceLocal\",\n",
    "    # \"team.additionalNames.nameShortLatin\",\n",
    "    # \"team.additionalNames.nameShortLocal\",\n",
    "    \"team.colors.primary\",\n",
    "    \"team.colors.secondary\",\n",
    "    \"team.colors.tertiary\",\n",
    "    # \"team.contacts.email\",\n",
    "    # \"team.contacts.fax\",\n",
    "    # \"team.contacts.phone\",\n",
    "    # \"team.entityGroup.id\",\n",
    "    # \"team.entityGroup.resourceType\",\n",
    "    # \"team.organization.id\",\n",
    "    # \"team.organization.resourceType\",\n",
    "    # \"player.added\",\n",
    "    # \"player.deceased\",\n",
    "    \"player.dob\",\n",
    "    \"player.externalId\",\n",
    "    \"player.gender\",\n",
    "    # \"player.historicalNames\",\n",
    "    # \"player.languageLocal\",\n",
    "    # \"player.nameAbbreviated\",\n",
    "    # \"player.nameFamilyLatin\",\n",
    "    \"player.nameFamilyLocal\",\n",
    "    # \"player.nameFullLatin\",\n",
    "    # \"player.nameFullLocal\",\n",
    "    # \"player.nameGivenLatin\",\n",
    "    \"player.nameGivenLocal\",\n",
    "    \"player.nationality\",\n",
    "    # \"player.organizationId\",\n",
    "    \"player.personId\",\n",
    "    # \"player.representing\",\n",
    "    # \"player.status\",\n",
    "    # \"player.updated\",\n",
    "    \"player.additionalDetails.height\",\n",
    "    \"player.additionalDetails.weight\",\n",
    "    # \"player.organization.id\",\n",
    "    # \"player.organization.resourceType\",\n",
    "    \"team_home_abbr\",\n",
    "    \"team_away_abbr\",\n",
    "    \"team_home_id\",\n",
    "    \"team_away_id\",\n",
    "    \"team_home_name\",\n",
    "    \"team_away_name\",\n",
    "    \"gameday\",\n",
    "    \"team_attacking_id\",\n",
    "    \"team_attacking_name\",\n",
    "    \"team_attacking_side\",\n",
    "]"
   ]
  },
  {
   "cell_type": "markdown",
   "metadata": {},
   "source": [
    "### Get Play-by-Play (Event Timeline) for every match in the season\n",
    "\n",
    "Simple for looping. Use next cell for fast downloading using futures."
   ]
  },
  {
   "cell_type": "code",
   "execution_count": null,
   "metadata": {},
   "outputs": [],
   "source": [
    "for _, row in fixtures_df.iterrows():\n",
    "    fid = row[\"fixtureId\"]\n",
    "    print(f\"\\nDownloading events for fixture {fid} ...\")\n",
    "    events_df = fetch_fixture_events_df(api, fixture_id=fid, debug=False)\n",
    "    gameday = events_df[\"gameday\"].iloc[0]\n",
    "\n",
    "    events_df = events_df[columns_to_keep].copy()\n",
    "\n",
    "    # write schema based on events_df columns\n",
    "\n",
    "    date_str = pd.to_datetime(row[\"startTimeLocal\"]).strftime(\"%Y-%m-%d\")\n",
    "    out_path = os.path.join(\n",
    "        PATH_TO_OUTPUT, f\"{date_str}_gd-{gameday}_id-{fid}.csv\"\n",
    "    )\n",
    "\n",
    "    # create path if it does not exist\n",
    "    os.makedirs(os.path.dirname(out_path), exist_ok=True)\n",
    "\n",
    "    events_df.to_csv(out_path, index=False, encoding=\"utf-8-sig\")\n",
    "    print(f\"Saved to {os.path.abspath(out_path)}\")\n",
    "    \n",
    "print(\"\\nAll fixtures processed.\")"
   ]
  },
  {
   "cell_type": "code",
   "execution_count": null,
   "metadata": {},
   "outputs": [],
   "source": [
    "from concurrent.futures import ThreadPoolExecutor\n",
    "import threading\n",
    "\n",
    "def process_fixture(row):\n",
    "    fid = row[\"fixtureId\"]\n",
    "    print(f\"Downloading events for fixture {fid} ...\")\n",
    "    events_df = fetch_fixture_events_df(api, fixture_id=fid, debug=False)\n",
    "    gameday = events_df[\"gameday\"].iloc[0]\n",
    "\n",
    "    events_df = events_df[columns_to_keep].copy()\n",
    "\n",
    "    # write schema based on events_df columns\n",
    "    date_str = pd.to_datetime(row[\"startTimeLocal\"]).strftime(\"%Y-%m-%d\")\n",
    "    out_path = os.path.join(\n",
    "        PATH_TO_OUTPUT, f\"{date_str}_gd-{gameday}_id-{fid}.csv\"\n",
    "    )\n",
    "\n",
    "    # create path if it does not exist\n",
    "    os.makedirs(os.path.dirname(out_path), exist_ok=True)\n",
    "\n",
    "    events_df.to_csv(out_path, index=False, encoding=\"utf-8-sig\")\n",
    "    print(f\"Saved to {os.path.abspath(out_path)}\")\n",
    "\n",
    "# Use ThreadPoolExecutor for multithreading\n",
    "print_lock = threading.Lock()  # Optional: To synchronize print statements\n",
    "with ThreadPoolExecutor(max_workers=16) as executor:\n",
    "    futures = [executor.submit(process_fixture, row) for _, row in fixtures_df.iterrows()]\n",
    "    for future in futures:\n",
    "        try:\n",
    "            future.result()  # Wait for each thread to complete\n",
    "        except Exception as e:\n",
    "            with print_lock:\n",
    "                print(f\"Error processing fixture: {e}\")\n",
    "\n",
    "print(\"\\nAll fixtures processed.\")"
   ]
  },
  {
   "cell_type": "code",
   "execution_count": null,
   "metadata": {},
   "outputs": [],
   "source": []
  },
  {
   "cell_type": "code",
   "execution_count": null,
   "metadata": {},
   "outputs": [],
   "source": []
  }
 ],
 "metadata": {
  "kernelspec": {
   "display_name": ".venv",
   "language": "python",
   "name": "python3"
  },
  "language_info": {
   "codemirror_mode": {
    "name": "ipython",
    "version": 3
   },
   "file_extension": ".py",
   "mimetype": "text/x-python",
   "name": "python",
   "nbconvert_exporter": "python",
   "pygments_lexer": "ipython3",
   "version": "3.13.2"
  }
 },
 "nbformat": 4,
 "nbformat_minor": 2
}
