{
 "cells": [
  {
   "cell_type": "markdown",
   "metadata": {},
   "source": [
    "# Notebook for Downloading Events of a Season"
   ]
  },
  {
   "cell_type": "markdown",
   "metadata": {},
   "source": [
    "### Imports"
   ]
  },
  {
   "cell_type": "code",
   "execution_count": null,
   "metadata": {},
   "outputs": [],
   "source": [
    "import logging\n",
    "import csv\n",
    "from typing import Any, Dict, List\n",
    "import json\n",
    "import json\n",
    "import os\n",
    "import sys\n",
    "from pathlib import Path\n",
    "from dotenv import load_dotenv\n",
    "\n",
    "from sportradar_datacore_api.handball import HandballAPI"
   ]
  },
  {
   "cell_type": "code",
   "execution_count": null,
   "metadata": {},
   "outputs": [],
   "source": [
    "load_dotenv()  # Load environment variables from .env file if present\n"
   ]
  },
  {
   "cell_type": "markdown",
   "metadata": {},
   "source": [
    "### Configuration"
   ]
  },
  {
   "cell_type": "code",
   "execution_count": null,
   "metadata": {},
   "outputs": [],
   "source": [
    "NAME_COMPETITION = \"1. Handball-Bundesliga\"\n",
    "\n",
    "NAME_SEASON = \"DAIKIN HBL 2024/25\"\n",
    "YEAR_SEASON = int(NAME_SEASON.split()[-1].split(\"/\")[0])\n",
    "\n",
    "PATH_TO_OUTPUT = os.path.join(\n",
    "    os.getcwd(), \"..\", \"data\", \"season_24_25\"\n",
    ")\n",
    "\n",
    "# create path if it does not exist\n",
    "os.makedirs(PATH_TO_OUTPUT, exist_ok=True)"
   ]
  },
  {
   "cell_type": "markdown",
   "metadata": {},
   "source": [
    "### Initialize API"
   ]
  },
  {
   "cell_type": "code",
   "execution_count": null,
   "metadata": {},
   "outputs": [],
   "source": [
    "api = HandballAPI(\n",
    "    base_url=os.getenv(\"BASE_URL\", \"\"),\n",
    "    auth_url=os.getenv(\"AUTH_URL\", \"\"),\n",
    "    client_id=os.getenv(\"CLIENT_ID\", \"\"),\n",
    "    client_secret=os.getenv(\"CLIENT_SECRET\", \"\"),\n",
    "    org_id=os.getenv(\"CLIENT_ORGANIZATION_ID\"),\n",
    "    scopes=[\"read:organization\"],\n",
    "    sport=\"handball\",\n",
    ")"
   ]
  },
  {
   "cell_type": "markdown",
   "metadata": {},
   "source": [
    "### Get wanted competition ID"
   ]
  },
  {
   "cell_type": "code",
   "execution_count": null,
   "metadata": {},
   "outputs": [],
   "source": [
    "id_competition = api.get_competition_id_by_name(NAME_COMPETITION)\n",
    "\n",
    "# id_competition = int(id_competition)\n",
    "\n",
    "# Check if the competition was found\n",
    "if not id_competition:\n",
    "    raise ValueError(f\"Competition '{NAME_COMPETITION}' not found.\")\n",
    "else:\n",
    "    print(f\"→ Competition '{NAME_COMPETITION}' -> {id_competition}\")"
   ]
  },
  {
   "cell_type": "markdown",
   "metadata": {},
   "source": [
    "### Get wanted season ID"
   ]
  },
  {
   "cell_type": "code",
   "execution_count": null,
   "metadata": {},
   "outputs": [],
   "source": [
    "id_season = api.get_season_id_by_year(\n",
    "        competition_id=id_competition, season_year=YEAR_SEASON\n",
    "    )\n",
    "# Check if the season was found\n",
    "if not id_season:\n",
    "    raise ValueError(f\"Season '{NAME_SEASON}' not found in competition '{NAME_COMPETITION}'.\")\n",
    "else:\n",
    "    print(f\"→ Season '{NAME_SEASON}' -> {id_season}\")"
   ]
  },
  {
   "cell_type": "markdown",
   "metadata": {},
   "source": [
    "### Get the fixtures (matches) of a season"
   ]
  },
  {
   "cell_type": "code",
   "execution_count": null,
   "metadata": {},
   "outputs": [],
   "source": [
    "list_fixtures = api.get_list_matches_by_season_id(season_id=id_season)\n",
    "\n",
    "print(f\"Found {len(list_fixtures)} fixtures.\")\n",
    "# Print the first fixture in a pretty format\n",
    "print(json.dumps(list_fixtures[0], indent=2, default=str))\n"
   ]
  },
  {
   "cell_type": "markdown",
   "metadata": {},
   "source": [
    "### Get fixture"
   ]
  },
  {
   "cell_type": "code",
   "execution_count": null,
   "metadata": {},
   "outputs": [],
   "source": [
    "events = api.get_fixture_events_by_id(list_fixtures[0].fixture_id)\n",
    "print(f\"  Events count: {len(events)}\")"
   ]
  },
  {
   "cell_type": "markdown",
   "metadata": {},
   "source": [
    "### Save to CSV"
   ]
  },
  {
   "cell_type": "code",
   "execution_count": null,
   "metadata": {},
   "outputs": [],
   "source": [
    "api.save_events_to_csv(\n",
    "    events,\n",
    "    file_path=f\"fixture_{list_fixtures[0].fixture_id}_events.csv\",\n",
    ")"
   ]
  }
 ],
 "metadata": {
  "kernelspec": {
   "display_name": ".venv",
   "language": "python",
   "name": "python3"
  },
  "language_info": {
   "codemirror_mode": {
    "name": "ipython",
    "version": 3
   },
   "file_extension": ".py",
   "mimetype": "text/x-python",
   "name": "python",
   "nbconvert_exporter": "python",
   "pygments_lexer": "ipython3",
   "version": "3.13.6"
  }
 },
 "nbformat": 4,
 "nbformat_minor": 2
}
