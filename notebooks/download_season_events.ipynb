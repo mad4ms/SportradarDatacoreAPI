{
 "cells": [
  {
   "cell_type": "markdown",
   "metadata": {},
   "source": [
    "# Notebook for Downloading Events of a Season"
   ]
  },
  {
   "cell_type": "markdown",
   "metadata": {},
   "source": [
    "### Imports"
   ]
  },
  {
   "cell_type": "code",
   "execution_count": 1,
   "metadata": {},
   "outputs": [],
   "source": [
    "import os\n",
    "import pandas as pd\n",
    "from dotenv import load_dotenv\n",
    "from sportradar_datacore_api import HandballAPI\n",
    "from sportradar_datacore_api.workflows.handball.competitions import (\n",
    "    # list_competitions_df,\n",
    "    get_competition_id_by_name,\n",
    ")\n",
    "from sportradar_datacore_api.workflows.handball.seasons import (\n",
    "    list_seasons_df,\n",
    "    get_season_id_by_name,\n",
    ")\n",
    "from sportradar_datacore_api.workflows.handball.games import (\n",
    "    list_season_fixtures_df,\n",
    "    fetch_fixture_events_df,\n",
    ")\n",
    "\n"
   ]
  },
  {
   "cell_type": "markdown",
   "metadata": {},
   "source": [
    "### Configuration"
   ]
  },
  {
   "cell_type": "code",
   "execution_count": 2,
   "metadata": {},
   "outputs": [],
   "source": [
    "NAME_COMPETITION = \"1. Handball-Bundesliga\"\n",
    "\n",
    "NAME_SEASON = \"DAIKIN HBL 2024/25\"\n",
    "PARAMETERS_SEASONS = {\"startDate\": \"2024-01-01\"}\n",
    "\n",
    "PATH_TO_OUTPUT = os.path.join(\n",
    "    os.getcwd(), \"..\", \"data\", \"season_24_25\"\n",
    ")\n",
    "\n",
    "# create path if it does not exist\n",
    "os.makedirs(PATH_TO_OUTPUT, exist_ok=True)"
   ]
  },
  {
   "cell_type": "markdown",
   "metadata": {},
   "source": [
    "### Initialize API"
   ]
  },
  {
   "cell_type": "code",
   "execution_count": 3,
   "metadata": {},
   "outputs": [],
   "source": [
    "# Load credentials from .env_prd file\n",
    "load_dotenv(\".env\", override=True)\n",
    "\n",
    "# Initialize API client with environment-based credentials\n",
    "def initialize_api() -> HandballAPI:\n",
    "    \"\"\"Load .env credentials and return an authenticated client.\"\"\"\n",
    "    load_dotenv(\".env\", override=True)\n",
    "    return HandballAPI(\n",
    "        base_url=os.getenv(\"BASE_URL\", \"\"),\n",
    "        auth_url=os.getenv(\"AUTH_URL\", \"\"),\n",
    "        client_id=os.getenv(\"CLIENT_ID\", \"\"),\n",
    "        client_secret=os.getenv(\"CLIENT_SECRET\", \"\"),\n",
    "        org_id=os.getenv(\"CLIENT_ORGANIZATION_ID\"),\n",
    "        scopes=[\"read:organization\"],\n",
    "        sport=\"handball\",\n",
    "    )\n",
    "\n",
    "api = initialize_api()"
   ]
  },
  {
   "cell_type": "markdown",
   "metadata": {},
   "source": [
    "### Get wanted competition ID"
   ]
  },
  {
   "cell_type": "code",
   "execution_count": 4,
   "metadata": {},
   "outputs": [
    {
     "name": "stdout",
     "output_type": "stream",
     "text": [
      "→ Competition '1. Handball-Bundesliga' -> 4c445e5c-3956-11ef-9d0e-b74f5c057367\n"
     ]
    }
   ],
   "source": [
    "competition_id = get_competition_id_by_name(api, NAME_COMPETITION)\n",
    "\n",
    "# Check if the competition was found\n",
    "if not competition_id:\n",
    "    raise ValueError(f\"Competition '{NAME_COMPETITION}' not found.\")\n",
    "else:\n",
    "    print(f\"→ Competition '{NAME_COMPETITION}' -> {competition_id}\")"
   ]
  },
  {
   "cell_type": "markdown",
   "metadata": {},
   "source": [
    "### Get wanted season ID"
   ]
  },
  {
   "cell_type": "code",
   "execution_count": 5,
   "metadata": {},
   "outputs": [
    {
     "name": "stdout",
     "output_type": "stream",
     "text": [
      "→ Season 'DAIKIN HBL 2024/25' -> cabcf509-4373-11ef-a370-9d3c1e90234a\n"
     ]
    }
   ],
   "source": [
    "season_id = get_season_id_by_name(api, competition_id, NAME_SEASON)\n",
    "\n",
    "# Check if the season was found\n",
    "if not season_id:\n",
    "    raise ValueError(f\"Season '{NAME_SEASON}' not found in competition '{NAME_COMPETITION}'.\")\n",
    "else:\n",
    "    print(f\"→ Season '{NAME_SEASON}' -> {season_id}\")"
   ]
  },
  {
   "cell_type": "markdown",
   "metadata": {},
   "source": [
    "### Get the fixtures (matches) of a season"
   ]
  },
  {
   "cell_type": "code",
   "execution_count": 6,
   "metadata": {},
   "outputs": [
    {
     "name": "stdout",
     "output_type": "stream",
     "text": [
      "Found 306 fixtures.\n"
     ]
    },
    {
     "data": {
      "text/html": [
       "<div>\n",
       "<style scoped>\n",
       "    .dataframe tbody tr th:only-of-type {\n",
       "        vertical-align: middle;\n",
       "    }\n",
       "\n",
       "    .dataframe tbody tr th {\n",
       "        vertical-align: top;\n",
       "    }\n",
       "\n",
       "    .dataframe thead th {\n",
       "        text-align: right;\n",
       "    }\n",
       "</style>\n",
       "<table border=\"1\" class=\"dataframe\">\n",
       "  <thead>\n",
       "    <tr style=\"text-align: right;\">\n",
       "      <th></th>\n",
       "      <th>fixtureId</th>\n",
       "      <th>nameLocal</th>\n",
       "      <th>startTimeLocal</th>\n",
       "      <th>roundNumber</th>\n",
       "    </tr>\n",
       "  </thead>\n",
       "  <tbody>\n",
       "    <tr>\n",
       "      <th>246</th>\n",
       "      <td>ccdbc62f-4373-11ef-8506-0f9723377f57</td>\n",
       "      <td>TSV Hannover-Burgdorf vs. VfL Gummersbach</td>\n",
       "      <td>2024-09-05T19:00:00</td>\n",
       "      <td>1</td>\n",
       "    </tr>\n",
       "    <tr>\n",
       "      <th>247</th>\n",
       "      <td>cee2c85c-4373-11ef-94e2-cd77cb69a9df</td>\n",
       "      <td>TBV Lemgo Lippe vs. MT Melsungen</td>\n",
       "      <td>2024-09-05T19:00:00</td>\n",
       "      <td>1</td>\n",
       "    </tr>\n",
       "    <tr>\n",
       "      <th>248</th>\n",
       "      <td>d0f835ea-4373-11ef-a915-811a78587cbc</td>\n",
       "      <td>Rhein-Neckar Löwen vs. THW Kiel</td>\n",
       "      <td>2024-09-05T20:30:00</td>\n",
       "      <td>1</td>\n",
       "    </tr>\n",
       "    <tr>\n",
       "      <th>249</th>\n",
       "      <td>d1f5d36c-4373-11ef-ada8-811a78587cbc</td>\n",
       "      <td>FRISCH AUF! Göppingen vs. Handball Sport Verei...</td>\n",
       "      <td>2024-09-06T19:00:00</td>\n",
       "      <td>1</td>\n",
       "    </tr>\n",
       "    <tr>\n",
       "      <th>250</th>\n",
       "      <td>d3e126de-4373-11ef-9661-2f970b50aee5</td>\n",
       "      <td>SG Flensburg-Handewitt vs. HC Erlangen</td>\n",
       "      <td>2024-09-06T20:00:00</td>\n",
       "      <td>1</td>\n",
       "    </tr>\n",
       "    <tr>\n",
       "      <th>...</th>\n",
       "      <td>...</td>\n",
       "      <td>...</td>\n",
       "      <td>...</td>\n",
       "      <td>...</td>\n",
       "    </tr>\n",
       "    <tr>\n",
       "      <th>239</th>\n",
       "      <td>a4b645c0-4374-11ef-9c1c-3f6243ab3ed4</td>\n",
       "      <td>SG Flensburg-Handewitt vs. Handball Sport Vere...</td>\n",
       "      <td>2025-06-08T15:00:00</td>\n",
       "      <td>34</td>\n",
       "    </tr>\n",
       "    <tr>\n",
       "      <th>238</th>\n",
       "      <td>a3e177f6-4374-11ef-80f8-95e83344d76f</td>\n",
       "      <td>TBV Lemgo Lippe vs. FRISCH AUF! Göppingen</td>\n",
       "      <td>2025-06-08T15:00:00</td>\n",
       "      <td>34</td>\n",
       "    </tr>\n",
       "    <tr>\n",
       "      <th>244</th>\n",
       "      <td>a9648a25-4374-11ef-bba3-337ae13ae915</td>\n",
       "      <td>1. VfL Potsdam vs. MT Melsungen</td>\n",
       "      <td>2025-06-08T15:00:00</td>\n",
       "      <td>34</td>\n",
       "    </tr>\n",
       "    <tr>\n",
       "      <th>245</th>\n",
       "      <td>a9a42452-4374-11ef-a262-89956fae12b0</td>\n",
       "      <td>THW Kiel vs. ThSV Eisenach</td>\n",
       "      <td>2025-06-08T15:00:00</td>\n",
       "      <td>34</td>\n",
       "    </tr>\n",
       "    <tr>\n",
       "      <th>237</th>\n",
       "      <td>a3cdd193-4374-11ef-97a0-07b53bf1eaa1</td>\n",
       "      <td>SG BBM Bietigheim vs. SC Magdeburg</td>\n",
       "      <td>2025-06-08T15:00:00</td>\n",
       "      <td>34</td>\n",
       "    </tr>\n",
       "  </tbody>\n",
       "</table>\n",
       "<p>306 rows × 4 columns</p>\n",
       "</div>"
      ],
      "text/plain": [
       "                                fixtureId  \\\n",
       "246  ccdbc62f-4373-11ef-8506-0f9723377f57   \n",
       "247  cee2c85c-4373-11ef-94e2-cd77cb69a9df   \n",
       "248  d0f835ea-4373-11ef-a915-811a78587cbc   \n",
       "249  d1f5d36c-4373-11ef-ada8-811a78587cbc   \n",
       "250  d3e126de-4373-11ef-9661-2f970b50aee5   \n",
       "..                                    ...   \n",
       "239  a4b645c0-4374-11ef-9c1c-3f6243ab3ed4   \n",
       "238  a3e177f6-4374-11ef-80f8-95e83344d76f   \n",
       "244  a9648a25-4374-11ef-bba3-337ae13ae915   \n",
       "245  a9a42452-4374-11ef-a262-89956fae12b0   \n",
       "237  a3cdd193-4374-11ef-97a0-07b53bf1eaa1   \n",
       "\n",
       "                                             nameLocal       startTimeLocal  \\\n",
       "246          TSV Hannover-Burgdorf vs. VfL Gummersbach  2024-09-05T19:00:00   \n",
       "247                   TBV Lemgo Lippe vs. MT Melsungen  2024-09-05T19:00:00   \n",
       "248                    Rhein-Neckar Löwen vs. THW Kiel  2024-09-05T20:30:00   \n",
       "249  FRISCH AUF! Göppingen vs. Handball Sport Verei...  2024-09-06T19:00:00   \n",
       "250             SG Flensburg-Handewitt vs. HC Erlangen  2024-09-06T20:00:00   \n",
       "..                                                 ...                  ...   \n",
       "239  SG Flensburg-Handewitt vs. Handball Sport Vere...  2025-06-08T15:00:00   \n",
       "238          TBV Lemgo Lippe vs. FRISCH AUF! Göppingen  2025-06-08T15:00:00   \n",
       "244                    1. VfL Potsdam vs. MT Melsungen  2025-06-08T15:00:00   \n",
       "245                         THW Kiel vs. ThSV Eisenach  2025-06-08T15:00:00   \n",
       "237                 SG BBM Bietigheim vs. SC Magdeburg  2025-06-08T15:00:00   \n",
       "\n",
       "    roundNumber  \n",
       "246           1  \n",
       "247           1  \n",
       "248           1  \n",
       "249           1  \n",
       "250           1  \n",
       "..          ...  \n",
       "239          34  \n",
       "238          34  \n",
       "244          34  \n",
       "245          34  \n",
       "237          34  \n",
       "\n",
       "[306 rows x 4 columns]"
      ]
     },
     "metadata": {},
     "output_type": "display_data"
    }
   ],
   "source": [
    "fixtures_df = list_season_fixtures_df(api, season_id)\n",
    "print(f\"Found {len(fixtures_df)} fixtures.\")\n",
    "# sort by startTimeLocal\n",
    "fixtures_df = fixtures_df.sort_values(by=\"startTimeLocal\")\n",
    "display(fixtures_df[[\"fixtureId\", \"nameLocal\", \"startTimeLocal\", \"roundNumber\"]])"
   ]
  },
  {
   "cell_type": "markdown",
   "metadata": {},
   "source": [
    "### define columns to keep in events dataframe"
   ]
  },
  {
   "cell_type": "code",
   "execution_count": 7,
   "metadata": {},
   "outputs": [],
   "source": [
    "# TODO: put in config or something\n",
    "columns_to_keep = [\n",
    "    # \"clientId\",\n",
    "    # \"clientType\",\n",
    "    \"fixtureId\",\n",
    "    \"organizationId\",\n",
    "    # \"received\",\n",
    "    # \"sport\",\n",
    "    # \"topic\",\n",
    "    \"type\",\n",
    "    \"data.class\",\n",
    "    \"data.eventId\",\n",
    "    \"data.eventTime\",\n",
    "    \"data.eventType\",\n",
    "    # \"data.options.attendance\",\n",
    "    # \"data.options.numberOfPeriods\",\n",
    "    # \"data.options.periodLength\",\n",
    "    # \"data.status\",\n",
    "    \"data.subType\",\n",
    "    \"data.timestamp\",\n",
    "    \"data.entityId\",\n",
    "    # \"data.options.active\",\n",
    "    \"data.options.bib\",\n",
    "    # \"data.options.captain\",\n",
    "    # \"data.options.name\",\n",
    "    \"data.options.position\",\n",
    "    \"data.options.starter\",\n",
    "    # \"data.personId\",\n",
    "    # \"data.options.number\",\n",
    "    \"data.periodId\",\n",
    "    \"data.sequence\",\n",
    "    \"score_home\",\n",
    "    \"score_away\",\n",
    "    \"data.playId\",\n",
    "    \"data.clock\",\n",
    "    \"data.options.goalKeeperId\",\n",
    "    \"data.options.location\",\n",
    "    \"data.success\",\n",
    "    \"data.x\",\n",
    "    \"data.y\",\n",
    "    \"data.options.failureReason\",\n",
    "    \"data.options.attackType\",\n",
    "    \"data.options.value\",\n",
    "    \"data.options.emptyNet\",\n",
    "    # \"team.added\",\n",
    "    # \"team.ageGroup\",\n",
    "    # \"team.alternateVenueIds\",\n",
    "    # \"team.codeLatin\",\n",
    "    \"team.codeLocal\",\n",
    "    # \"team.defaultVenueId\",\n",
    "    # \"team.discipline\",\n",
    "    # \"team.entityGroupId\",\n",
    "    \"team.entityId\",\n",
    "    \"team.externalId\",\n",
    "    # \"team.gender\",\n",
    "    # \"team.grade\",\n",
    "    # \"team.historicalNames\",\n",
    "    # \"team.internationalReference\",\n",
    "    # \"team.nameFullLatin\",\n",
    "    \"team.nameFullLocal\",\n",
    "    # \"team.organizationId\",\n",
    "    # \"team.representing\",\n",
    "    # \"team.standard\",\n",
    "    # \"team.status\",\n",
    "    # \"team.updated\",\n",
    "    # \"team.additionalNames.namePlaceLatin\",\n",
    "    # \"team.additionalNames.namePlaceLocal\",\n",
    "    # \"team.additionalNames.nameShortLatin\",\n",
    "    # \"team.additionalNames.nameShortLocal\",\n",
    "    \"team.colors.primary\",\n",
    "    \"team.colors.secondary\",\n",
    "    \"team.colors.tertiary\",\n",
    "    # \"team.contacts.email\",\n",
    "    # \"team.contacts.fax\",\n",
    "    # \"team.contacts.phone\",\n",
    "    # \"team.entityGroup.id\",\n",
    "    # \"team.entityGroup.resourceType\",\n",
    "    # \"team.organization.id\",\n",
    "    # \"team.organization.resourceType\",\n",
    "    # \"player.added\",\n",
    "    # \"player.deceased\",\n",
    "    \"player.dob\",\n",
    "    \"player.externalId\",\n",
    "    \"player.gender\",\n",
    "    # \"player.historicalNames\",\n",
    "    # \"player.languageLocal\",\n",
    "    # \"player.nameAbbreviated\",\n",
    "    # \"player.nameFamilyLatin\",\n",
    "    \"player.nameFamilyLocal\",\n",
    "    # \"player.nameFullLatin\",\n",
    "    # \"player.nameFullLocal\",\n",
    "    # \"player.nameGivenLatin\",\n",
    "    \"player.nameGivenLocal\",\n",
    "    \"player.nationality\",\n",
    "    # \"player.organizationId\",\n",
    "    \"player.personId\",\n",
    "    # \"player.representing\",\n",
    "    # \"player.status\",\n",
    "    # \"player.updated\",\n",
    "    \"player.additionalDetails.height\",\n",
    "    \"player.additionalDetails.weight\",\n",
    "    # \"player.organization.id\",\n",
    "    # \"player.organization.resourceType\",\n",
    "    \"team_home_abbr\",\n",
    "    \"team_away_abbr\",\n",
    "    \"team_home_id\",\n",
    "    \"team_away_id\",\n",
    "    \"team_home_name\",\n",
    "    \"team_away_name\",\n",
    "    \"gameday\",\n",
    "    \"team_attacking_id\",\n",
    "    \"team_attacking_name\",\n",
    "    \"team_attacking_side\",\n",
    "]"
   ]
  },
  {
   "cell_type": "markdown",
   "metadata": {},
   "source": [
    "### Get Play-by-Play (Event Timeline) for every match in the season\n",
    "\n",
    "Simple for looping. Use next cell for fast downloading using futures."
   ]
  },
  {
   "cell_type": "code",
   "execution_count": 8,
   "metadata": {},
   "outputs": [
    {
     "name": "stdout",
     "output_type": "stream",
     "text": [
      "\n",
      "Downloading events for fixture ccdbc62f-4373-11ef-8506-0f9723377f57 ...\n"
     ]
    },
    {
     "ename": "KeyboardInterrupt",
     "evalue": "",
     "output_type": "error",
     "traceback": [
      "\u001b[31m---------------------------------------------------------------------------\u001b[39m",
      "\u001b[31mKeyboardInterrupt\u001b[39m                         Traceback (most recent call last)",
      "\u001b[36mCell\u001b[39m\u001b[36m \u001b[39m\u001b[32mIn[8]\u001b[39m\u001b[32m, line 4\u001b[39m\n\u001b[32m      2\u001b[39m fid = row[\u001b[33m\"\u001b[39m\u001b[33mfixtureId\u001b[39m\u001b[33m\"\u001b[39m]\n\u001b[32m      3\u001b[39m \u001b[38;5;28mprint\u001b[39m(\u001b[33mf\u001b[39m\u001b[33m\"\u001b[39m\u001b[38;5;130;01m\\n\u001b[39;00m\u001b[33mDownloading events for fixture \u001b[39m\u001b[38;5;132;01m{\u001b[39;00mfid\u001b[38;5;132;01m}\u001b[39;00m\u001b[33m ...\u001b[39m\u001b[33m\"\u001b[39m)\n\u001b[32m----> \u001b[39m\u001b[32m4\u001b[39m events_df = \u001b[43mfetch_fixture_events_df\u001b[49m\u001b[43m(\u001b[49m\u001b[43mapi\u001b[49m\u001b[43m,\u001b[49m\u001b[43m \u001b[49m\u001b[43mfixture_id\u001b[49m\u001b[43m=\u001b[49m\u001b[43mfid\u001b[49m\u001b[43m,\u001b[49m\u001b[43m \u001b[49m\u001b[43mdebug\u001b[49m\u001b[43m=\u001b[49m\u001b[38;5;28;43;01mFalse\u001b[39;49;00m\u001b[43m)\u001b[49m\n\u001b[32m      5\u001b[39m gameday = events_df[\u001b[33m\"\u001b[39m\u001b[33mgameday\u001b[39m\u001b[33m\"\u001b[39m].iloc[\u001b[32m0\u001b[39m]\n\u001b[32m      7\u001b[39m events_df = events_df[columns_to_keep].copy()\n",
      "\u001b[36mFile \u001b[39m\u001b[32mC:\\dev\\SportradarDatacoreAPI\\src\\sportradar_datacore_api\\workflows\\handball\\games.py:69\u001b[39m, in \u001b[36mfetch_fixture_events_df\u001b[39m\u001b[34m(api, fixture_id, debug, fields_to_remove)\u001b[39m\n\u001b[32m     66\u001b[39m roundNumber = fixture_data[\u001b[32m0\u001b[39m].get(\u001b[33m\"\u001b[39m\u001b[33mroundNumber\u001b[39m\u001b[33m\"\u001b[39m, \u001b[33m\"\u001b[39m\u001b[33m\"\u001b[39m)\n\u001b[32m     68\u001b[39m \u001b[38;5;66;03m# 2) fetch play-by-play to get included metadata & strip fields\u001b[39;00m\n\u001b[32m---> \u001b[39m\u001b[32m69\u001b[39m pbp = \u001b[43mapi\u001b[49m\u001b[43m.\u001b[49m\u001b[43mget_playbyplay\u001b[49m\u001b[43m(\u001b[49m\n\u001b[32m     70\u001b[39m \u001b[43m    \u001b[49m\u001b[43mfixture_id\u001b[49m\u001b[43m=\u001b[49m\u001b[43mfixture_id\u001b[49m\u001b[43m,\u001b[49m\n\u001b[32m     71\u001b[39m \u001b[43m    \u001b[49m\u001b[43mparams\u001b[49m\u001b[43m=\u001b[49m\u001b[43m{\u001b[49m\n\u001b[32m     72\u001b[39m \u001b[43m        \u001b[49m\u001b[33;43m\"\u001b[39;49m\u001b[33;43minclude\u001b[39;49m\u001b[33;43m\"\u001b[39;49m\u001b[43m:\u001b[49m\u001b[43m \u001b[49m\u001b[33;43m\"\u001b[39;49m\u001b[33;43mentities,persons\u001b[39;49m\u001b[33;43m\"\u001b[39;49m\u001b[43m,\u001b[49m\n\u001b[32m     73\u001b[39m \u001b[43m        \u001b[49m\u001b[33;43m\"\u001b[39;49m\u001b[33;43mexternal\u001b[39;49m\u001b[33;43m\"\u001b[39;49m\u001b[43m:\u001b[49m\u001b[43m \u001b[49m\u001b[33;43m\"\u001b[39;49m\u001b[33;43mentityId,personId\u001b[39;49m\u001b[33;43m\"\u001b[39;49m\u001b[43m,\u001b[49m\n\u001b[32m     74\u001b[39m \u001b[43m    \u001b[49m\u001b[43m}\u001b[49m\u001b[43m,\u001b[49m\n\u001b[32m     75\u001b[39m \u001b[43m\u001b[49m\u001b[43m)\u001b[49m\n\u001b[32m     76\u001b[39m _remove_fields(pbp, fields_to_remove)\n\u001b[32m     78\u001b[39m resources = pbp.get(\u001b[33m\"\u001b[39m\u001b[33mincludes\u001b[39m\u001b[33m\"\u001b[39m, {}).get(\u001b[33m\"\u001b[39m\u001b[33mresources\u001b[39m\u001b[33m\"\u001b[39m, {})\n",
      "\u001b[36mFile \u001b[39m\u001b[32mC:\\dev\\SportradarDatacoreAPI\\src\\sportradar_datacore_api\\handball.py:217\u001b[39m, in \u001b[36mHandballAPI.get_playbyplay\u001b[39m\u001b[34m(self, fixture_id, params)\u001b[39m\n\u001b[32m    213\u001b[39m \u001b[38;5;28;01mdef\u001b[39;00m\u001b[38;5;250m \u001b[39m\u001b[34mget_playbyplay\u001b[39m(\n\u001b[32m    214\u001b[39m     \u001b[38;5;28mself\u001b[39m, fixture_id: \u001b[38;5;28mstr\u001b[39m, params: Optional[Dict[\u001b[38;5;28mstr\u001b[39m, Any]] = \u001b[38;5;28;01mNone\u001b[39;00m\n\u001b[32m    215\u001b[39m ) -> Dict[\u001b[38;5;28mstr\u001b[39m, Any]:\n\u001b[32m    216\u001b[39m \u001b[38;5;250m    \u001b[39m\u001b[33;03m\"\"\"Retrieve detailed play-by-play data for a fixture.\"\"\"\u001b[39;00m\n\u001b[32m--> \u001b[39m\u001b[32m217\u001b[39m     \u001b[38;5;28;01mreturn\u001b[39;00m \u001b[38;5;28;43mself\u001b[39;49m\u001b[43m.\u001b[49m\u001b[43m_get\u001b[49m\u001b[43m(\u001b[49m\u001b[33;43m\"\u001b[39;49m\u001b[33;43mfixtures\u001b[39;49m\u001b[33;43m\"\u001b[39;49m\u001b[43m,\u001b[49m\u001b[43m \u001b[49m\u001b[43mfixture_id\u001b[49m\u001b[43m,\u001b[49m\u001b[43m \u001b[49m\u001b[33;43m\"\u001b[39;49m\u001b[33;43mplaybyplay\u001b[39;49m\u001b[33;43m\"\u001b[39;49m\u001b[43m,\u001b[49m\u001b[43m \u001b[49m\u001b[43mparams\u001b[49m\u001b[43m=\u001b[49m\u001b[43mparams\u001b[49m\u001b[43m)\u001b[49m\n",
      "\u001b[36mFile \u001b[39m\u001b[32mC:\\dev\\SportradarDatacoreAPI\\src\\sportradar_datacore_api\\handball.py:27\u001b[39m, in \u001b[36mHandballAPI._get\u001b[39m\u001b[34m(self, params, *parts)\u001b[39m\n\u001b[32m     22\u001b[39m \u001b[38;5;250m\u001b[39m\u001b[33;03m\"\"\"Internal helper to construct and execute\u001b[39;00m\n\u001b[32m     23\u001b[39m \u001b[33;03mGET requests with organization context.\"\"\"\u001b[39;00m\n\u001b[32m     24\u001b[39m path = \u001b[33m\"\u001b[39m\u001b[33m/\u001b[39m\u001b[33m\"\u001b[39m.join(\n\u001b[32m     25\u001b[39m     [\u001b[33m\"\u001b[39m\u001b[33mhandball\u001b[39m\u001b[33m\"\u001b[39m, \u001b[33m\"\u001b[39m\u001b[33mo\u001b[39m\u001b[33m\"\u001b[39m, \u001b[38;5;28mself\u001b[39m.org_id] + [p.strip(\u001b[33m\"\u001b[39m\u001b[33m/\u001b[39m\u001b[33m\"\u001b[39m) \u001b[38;5;28;01mfor\u001b[39;00m p \u001b[38;5;129;01min\u001b[39;00m parts \u001b[38;5;28;01mif\u001b[39;00m p]\n\u001b[32m     26\u001b[39m )\n\u001b[32m---> \u001b[39m\u001b[32m27\u001b[39m \u001b[38;5;28;01mreturn\u001b[39;00m \u001b[38;5;28;43mself\u001b[39;49m\u001b[43m.\u001b[49m\u001b[43m_make_request\u001b[49m\u001b[43m(\u001b[49m\n\u001b[32m     28\u001b[39m \u001b[43m    \u001b[49m\u001b[33;43mf\u001b[39;49m\u001b[33;43m\"\u001b[39;49m\u001b[38;5;132;43;01m{\u001b[39;49;00m\u001b[38;5;28;43mself\u001b[39;49m\u001b[43m.\u001b[49m\u001b[43mbase_url\u001b[49m\u001b[38;5;132;43;01m}\u001b[39;49;00m\u001b[33;43m/\u001b[39;49m\u001b[38;5;132;43;01m{\u001b[39;49;00m\u001b[43mpath\u001b[49m\u001b[38;5;132;43;01m}\u001b[39;49;00m\u001b[33;43m\"\u001b[39;49m\u001b[43m,\u001b[49m\u001b[43m \u001b[49m\u001b[43mparams\u001b[49m\u001b[43m=\u001b[49m\u001b[43mparams\u001b[49m\u001b[43m \u001b[49m\u001b[38;5;129;43;01mor\u001b[39;49;00m\u001b[43m \u001b[49m\u001b[43m{\u001b[49m\u001b[43m}\u001b[49m\n\u001b[32m     29\u001b[39m \u001b[43m\u001b[49m\u001b[43m)\u001b[49m\n",
      "\u001b[36mFile \u001b[39m\u001b[32mC:\\dev\\SportradarDatacoreAPI\\src\\sportradar_datacore_api\\api.py:111\u001b[39m, in \u001b[36mDataCoreAPI._make_request\u001b[39m\u001b[34m(self, endpoint, method, params, json)\u001b[39m\n\u001b[32m    105\u001b[39m url = (\n\u001b[32m    106\u001b[39m     endpoint\n\u001b[32m    107\u001b[39m     \u001b[38;5;28;01mif\u001b[39;00m endpoint.startswith(\u001b[33m\"\u001b[39m\u001b[33mhttp\u001b[39m\u001b[33m\"\u001b[39m)\n\u001b[32m    108\u001b[39m     \u001b[38;5;28;01melse\u001b[39;00m \u001b[33mf\u001b[39m\u001b[33m\"\u001b[39m\u001b[38;5;132;01m{\u001b[39;00m\u001b[38;5;28mself\u001b[39m.base_url\u001b[38;5;132;01m}\u001b[39;00m\u001b[33m/\u001b[39m\u001b[38;5;132;01m{\u001b[39;00mendpoint.lstrip(\u001b[33m'\u001b[39m\u001b[33m/\u001b[39m\u001b[33m'\u001b[39m)\u001b[38;5;132;01m}\u001b[39;00m\u001b[33m\"\u001b[39m\n\u001b[32m    109\u001b[39m )\n\u001b[32m    110\u001b[39m \u001b[38;5;28;01mtry\u001b[39;00m:\n\u001b[32m--> \u001b[39m\u001b[32m111\u001b[39m     response = \u001b[38;5;28;43mself\u001b[39;49m\u001b[43m.\u001b[49m\u001b[43msession\u001b[49m\u001b[43m.\u001b[49m\u001b[43mrequest\u001b[49m\u001b[43m(\u001b[49m\n\u001b[32m    112\u001b[39m \u001b[43m        \u001b[49m\u001b[43mmethod\u001b[49m\u001b[43m=\u001b[49m\u001b[43mmethod\u001b[49m\u001b[43m.\u001b[49m\u001b[43mupper\u001b[49m\u001b[43m(\u001b[49m\u001b[43m)\u001b[49m\u001b[43m,\u001b[49m\n\u001b[32m    113\u001b[39m \u001b[43m        \u001b[49m\u001b[43murl\u001b[49m\u001b[43m=\u001b[49m\u001b[43murl\u001b[49m\u001b[43m,\u001b[49m\n\u001b[32m    114\u001b[39m \u001b[43m        \u001b[49m\u001b[43mparams\u001b[49m\u001b[43m=\u001b[49m\u001b[43mparams\u001b[49m\u001b[43m \u001b[49m\u001b[38;5;129;43;01mor\u001b[39;49;00m\u001b[43m \u001b[49m\u001b[43m{\u001b[49m\u001b[43m}\u001b[49m\u001b[43m,\u001b[49m\n\u001b[32m    115\u001b[39m \u001b[43m        \u001b[49m\u001b[43mjson\u001b[49m\u001b[43m=\u001b[49m\u001b[43mjson\u001b[49m\u001b[43m,\u001b[49m\n\u001b[32m    116\u001b[39m \u001b[43m        \u001b[49m\u001b[43mtimeout\u001b[49m\u001b[43m=\u001b[49m\u001b[38;5;28;43mself\u001b[39;49m\u001b[43m.\u001b[49m\u001b[43mtimeout\u001b[49m\u001b[43m,\u001b[49m\n\u001b[32m    117\u001b[39m \u001b[43m    \u001b[49m\u001b[43m)\u001b[49m\n\u001b[32m    118\u001b[39m     response.raise_for_status()\n\u001b[32m    119\u001b[39m \u001b[38;5;28;01mexcept\u001b[39;00m requests.RequestException \u001b[38;5;28;01mas\u001b[39;00m e:\n",
      "\u001b[36mFile \u001b[39m\u001b[32mc:\\dev\\SportradarDatacoreAPI\\.venv\\Lib\\site-packages\\requests\\sessions.py:589\u001b[39m, in \u001b[36mSession.request\u001b[39m\u001b[34m(self, method, url, params, data, headers, cookies, files, auth, timeout, allow_redirects, proxies, hooks, stream, verify, cert, json)\u001b[39m\n\u001b[32m    584\u001b[39m send_kwargs = {\n\u001b[32m    585\u001b[39m     \u001b[33m\"\u001b[39m\u001b[33mtimeout\u001b[39m\u001b[33m\"\u001b[39m: timeout,\n\u001b[32m    586\u001b[39m     \u001b[33m\"\u001b[39m\u001b[33mallow_redirects\u001b[39m\u001b[33m\"\u001b[39m: allow_redirects,\n\u001b[32m    587\u001b[39m }\n\u001b[32m    588\u001b[39m send_kwargs.update(settings)\n\u001b[32m--> \u001b[39m\u001b[32m589\u001b[39m resp = \u001b[38;5;28;43mself\u001b[39;49m\u001b[43m.\u001b[49m\u001b[43msend\u001b[49m\u001b[43m(\u001b[49m\u001b[43mprep\u001b[49m\u001b[43m,\u001b[49m\u001b[43m \u001b[49m\u001b[43m*\u001b[49m\u001b[43m*\u001b[49m\u001b[43msend_kwargs\u001b[49m\u001b[43m)\u001b[49m\n\u001b[32m    591\u001b[39m \u001b[38;5;28;01mreturn\u001b[39;00m resp\n",
      "\u001b[36mFile \u001b[39m\u001b[32mc:\\dev\\SportradarDatacoreAPI\\.venv\\Lib\\site-packages\\requests\\sessions.py:703\u001b[39m, in \u001b[36mSession.send\u001b[39m\u001b[34m(self, request, **kwargs)\u001b[39m\n\u001b[32m    700\u001b[39m start = preferred_clock()\n\u001b[32m    702\u001b[39m \u001b[38;5;66;03m# Send the request\u001b[39;00m\n\u001b[32m--> \u001b[39m\u001b[32m703\u001b[39m r = \u001b[43madapter\u001b[49m\u001b[43m.\u001b[49m\u001b[43msend\u001b[49m\u001b[43m(\u001b[49m\u001b[43mrequest\u001b[49m\u001b[43m,\u001b[49m\u001b[43m \u001b[49m\u001b[43m*\u001b[49m\u001b[43m*\u001b[49m\u001b[43mkwargs\u001b[49m\u001b[43m)\u001b[49m\n\u001b[32m    705\u001b[39m \u001b[38;5;66;03m# Total elapsed time of the request (approximately)\u001b[39;00m\n\u001b[32m    706\u001b[39m elapsed = preferred_clock() - start\n",
      "\u001b[36mFile \u001b[39m\u001b[32mc:\\dev\\SportradarDatacoreAPI\\.venv\\Lib\\site-packages\\requests\\adapters.py:667\u001b[39m, in \u001b[36mHTTPAdapter.send\u001b[39m\u001b[34m(self, request, stream, timeout, verify, cert, proxies)\u001b[39m\n\u001b[32m    664\u001b[39m     timeout = TimeoutSauce(connect=timeout, read=timeout)\n\u001b[32m    666\u001b[39m \u001b[38;5;28;01mtry\u001b[39;00m:\n\u001b[32m--> \u001b[39m\u001b[32m667\u001b[39m     resp = \u001b[43mconn\u001b[49m\u001b[43m.\u001b[49m\u001b[43murlopen\u001b[49m\u001b[43m(\u001b[49m\n\u001b[32m    668\u001b[39m \u001b[43m        \u001b[49m\u001b[43mmethod\u001b[49m\u001b[43m=\u001b[49m\u001b[43mrequest\u001b[49m\u001b[43m.\u001b[49m\u001b[43mmethod\u001b[49m\u001b[43m,\u001b[49m\n\u001b[32m    669\u001b[39m \u001b[43m        \u001b[49m\u001b[43murl\u001b[49m\u001b[43m=\u001b[49m\u001b[43murl\u001b[49m\u001b[43m,\u001b[49m\n\u001b[32m    670\u001b[39m \u001b[43m        \u001b[49m\u001b[43mbody\u001b[49m\u001b[43m=\u001b[49m\u001b[43mrequest\u001b[49m\u001b[43m.\u001b[49m\u001b[43mbody\u001b[49m\u001b[43m,\u001b[49m\n\u001b[32m    671\u001b[39m \u001b[43m        \u001b[49m\u001b[43mheaders\u001b[49m\u001b[43m=\u001b[49m\u001b[43mrequest\u001b[49m\u001b[43m.\u001b[49m\u001b[43mheaders\u001b[49m\u001b[43m,\u001b[49m\n\u001b[32m    672\u001b[39m \u001b[43m        \u001b[49m\u001b[43mredirect\u001b[49m\u001b[43m=\u001b[49m\u001b[38;5;28;43;01mFalse\u001b[39;49;00m\u001b[43m,\u001b[49m\n\u001b[32m    673\u001b[39m \u001b[43m        \u001b[49m\u001b[43massert_same_host\u001b[49m\u001b[43m=\u001b[49m\u001b[38;5;28;43;01mFalse\u001b[39;49;00m\u001b[43m,\u001b[49m\n\u001b[32m    674\u001b[39m \u001b[43m        \u001b[49m\u001b[43mpreload_content\u001b[49m\u001b[43m=\u001b[49m\u001b[38;5;28;43;01mFalse\u001b[39;49;00m\u001b[43m,\u001b[49m\n\u001b[32m    675\u001b[39m \u001b[43m        \u001b[49m\u001b[43mdecode_content\u001b[49m\u001b[43m=\u001b[49m\u001b[38;5;28;43;01mFalse\u001b[39;49;00m\u001b[43m,\u001b[49m\n\u001b[32m    676\u001b[39m \u001b[43m        \u001b[49m\u001b[43mretries\u001b[49m\u001b[43m=\u001b[49m\u001b[38;5;28;43mself\u001b[39;49m\u001b[43m.\u001b[49m\u001b[43mmax_retries\u001b[49m\u001b[43m,\u001b[49m\n\u001b[32m    677\u001b[39m \u001b[43m        \u001b[49m\u001b[43mtimeout\u001b[49m\u001b[43m=\u001b[49m\u001b[43mtimeout\u001b[49m\u001b[43m,\u001b[49m\n\u001b[32m    678\u001b[39m \u001b[43m        \u001b[49m\u001b[43mchunked\u001b[49m\u001b[43m=\u001b[49m\u001b[43mchunked\u001b[49m\u001b[43m,\u001b[49m\n\u001b[32m    679\u001b[39m \u001b[43m    \u001b[49m\u001b[43m)\u001b[49m\n\u001b[32m    681\u001b[39m \u001b[38;5;28;01mexcept\u001b[39;00m (ProtocolError, \u001b[38;5;167;01mOSError\u001b[39;00m) \u001b[38;5;28;01mas\u001b[39;00m err:\n\u001b[32m    682\u001b[39m     \u001b[38;5;28;01mraise\u001b[39;00m \u001b[38;5;167;01mConnectionError\u001b[39;00m(err, request=request)\n",
      "\u001b[36mFile \u001b[39m\u001b[32mc:\\dev\\SportradarDatacoreAPI\\.venv\\Lib\\site-packages\\urllib3\\connectionpool.py:787\u001b[39m, in \u001b[36mHTTPConnectionPool.urlopen\u001b[39m\u001b[34m(self, method, url, body, headers, retries, redirect, assert_same_host, timeout, pool_timeout, release_conn, chunked, body_pos, preload_content, decode_content, **response_kw)\u001b[39m\n\u001b[32m    784\u001b[39m response_conn = conn \u001b[38;5;28;01mif\u001b[39;00m \u001b[38;5;129;01mnot\u001b[39;00m release_conn \u001b[38;5;28;01melse\u001b[39;00m \u001b[38;5;28;01mNone\u001b[39;00m\n\u001b[32m    786\u001b[39m \u001b[38;5;66;03m# Make the request on the HTTPConnection object\u001b[39;00m\n\u001b[32m--> \u001b[39m\u001b[32m787\u001b[39m response = \u001b[38;5;28;43mself\u001b[39;49m\u001b[43m.\u001b[49m\u001b[43m_make_request\u001b[49m\u001b[43m(\u001b[49m\n\u001b[32m    788\u001b[39m \u001b[43m    \u001b[49m\u001b[43mconn\u001b[49m\u001b[43m,\u001b[49m\n\u001b[32m    789\u001b[39m \u001b[43m    \u001b[49m\u001b[43mmethod\u001b[49m\u001b[43m,\u001b[49m\n\u001b[32m    790\u001b[39m \u001b[43m    \u001b[49m\u001b[43murl\u001b[49m\u001b[43m,\u001b[49m\n\u001b[32m    791\u001b[39m \u001b[43m    \u001b[49m\u001b[43mtimeout\u001b[49m\u001b[43m=\u001b[49m\u001b[43mtimeout_obj\u001b[49m\u001b[43m,\u001b[49m\n\u001b[32m    792\u001b[39m \u001b[43m    \u001b[49m\u001b[43mbody\u001b[49m\u001b[43m=\u001b[49m\u001b[43mbody\u001b[49m\u001b[43m,\u001b[49m\n\u001b[32m    793\u001b[39m \u001b[43m    \u001b[49m\u001b[43mheaders\u001b[49m\u001b[43m=\u001b[49m\u001b[43mheaders\u001b[49m\u001b[43m,\u001b[49m\n\u001b[32m    794\u001b[39m \u001b[43m    \u001b[49m\u001b[43mchunked\u001b[49m\u001b[43m=\u001b[49m\u001b[43mchunked\u001b[49m\u001b[43m,\u001b[49m\n\u001b[32m    795\u001b[39m \u001b[43m    \u001b[49m\u001b[43mretries\u001b[49m\u001b[43m=\u001b[49m\u001b[43mretries\u001b[49m\u001b[43m,\u001b[49m\n\u001b[32m    796\u001b[39m \u001b[43m    \u001b[49m\u001b[43mresponse_conn\u001b[49m\u001b[43m=\u001b[49m\u001b[43mresponse_conn\u001b[49m\u001b[43m,\u001b[49m\n\u001b[32m    797\u001b[39m \u001b[43m    \u001b[49m\u001b[43mpreload_content\u001b[49m\u001b[43m=\u001b[49m\u001b[43mpreload_content\u001b[49m\u001b[43m,\u001b[49m\n\u001b[32m    798\u001b[39m \u001b[43m    \u001b[49m\u001b[43mdecode_content\u001b[49m\u001b[43m=\u001b[49m\u001b[43mdecode_content\u001b[49m\u001b[43m,\u001b[49m\n\u001b[32m    799\u001b[39m \u001b[43m    \u001b[49m\u001b[43m*\u001b[49m\u001b[43m*\u001b[49m\u001b[43mresponse_kw\u001b[49m\u001b[43m,\u001b[49m\n\u001b[32m    800\u001b[39m \u001b[43m\u001b[49m\u001b[43m)\u001b[49m\n\u001b[32m    802\u001b[39m \u001b[38;5;66;03m# Everything went great!\u001b[39;00m\n\u001b[32m    803\u001b[39m clean_exit = \u001b[38;5;28;01mTrue\u001b[39;00m\n",
      "\u001b[36mFile \u001b[39m\u001b[32mc:\\dev\\SportradarDatacoreAPI\\.venv\\Lib\\site-packages\\urllib3\\connectionpool.py:534\u001b[39m, in \u001b[36mHTTPConnectionPool._make_request\u001b[39m\u001b[34m(self, conn, method, url, body, headers, retries, timeout, chunked, response_conn, preload_content, decode_content, enforce_content_length)\u001b[39m\n\u001b[32m    532\u001b[39m \u001b[38;5;66;03m# Receive the response from the server\u001b[39;00m\n\u001b[32m    533\u001b[39m \u001b[38;5;28;01mtry\u001b[39;00m:\n\u001b[32m--> \u001b[39m\u001b[32m534\u001b[39m     response = \u001b[43mconn\u001b[49m\u001b[43m.\u001b[49m\u001b[43mgetresponse\u001b[49m\u001b[43m(\u001b[49m\u001b[43m)\u001b[49m\n\u001b[32m    535\u001b[39m \u001b[38;5;28;01mexcept\u001b[39;00m (BaseSSLError, \u001b[38;5;167;01mOSError\u001b[39;00m) \u001b[38;5;28;01mas\u001b[39;00m e:\n\u001b[32m    536\u001b[39m     \u001b[38;5;28mself\u001b[39m._raise_timeout(err=e, url=url, timeout_value=read_timeout)\n",
      "\u001b[36mFile \u001b[39m\u001b[32mc:\\dev\\SportradarDatacoreAPI\\.venv\\Lib\\site-packages\\urllib3\\connection.py:516\u001b[39m, in \u001b[36mHTTPConnection.getresponse\u001b[39m\u001b[34m(self)\u001b[39m\n\u001b[32m    513\u001b[39m _shutdown = \u001b[38;5;28mgetattr\u001b[39m(\u001b[38;5;28mself\u001b[39m.sock, \u001b[33m\"\u001b[39m\u001b[33mshutdown\u001b[39m\u001b[33m\"\u001b[39m, \u001b[38;5;28;01mNone\u001b[39;00m)\n\u001b[32m    515\u001b[39m \u001b[38;5;66;03m# Get the response from http.client.HTTPConnection\u001b[39;00m\n\u001b[32m--> \u001b[39m\u001b[32m516\u001b[39m httplib_response = \u001b[38;5;28;43msuper\u001b[39;49m\u001b[43m(\u001b[49m\u001b[43m)\u001b[49m\u001b[43m.\u001b[49m\u001b[43mgetresponse\u001b[49m\u001b[43m(\u001b[49m\u001b[43m)\u001b[49m\n\u001b[32m    518\u001b[39m \u001b[38;5;28;01mtry\u001b[39;00m:\n\u001b[32m    519\u001b[39m     assert_header_parsing(httplib_response.msg)\n",
      "\u001b[36mFile \u001b[39m\u001b[32m~\\.conda\\envs\\env_bielemetrics_notebooks\\Lib\\http\\client.py:1430\u001b[39m, in \u001b[36mHTTPConnection.getresponse\u001b[39m\u001b[34m(self)\u001b[39m\n\u001b[32m   1428\u001b[39m \u001b[38;5;28;01mtry\u001b[39;00m:\n\u001b[32m   1429\u001b[39m     \u001b[38;5;28;01mtry\u001b[39;00m:\n\u001b[32m-> \u001b[39m\u001b[32m1430\u001b[39m         \u001b[43mresponse\u001b[49m\u001b[43m.\u001b[49m\u001b[43mbegin\u001b[49m\u001b[43m(\u001b[49m\u001b[43m)\u001b[49m\n\u001b[32m   1431\u001b[39m     \u001b[38;5;28;01mexcept\u001b[39;00m \u001b[38;5;167;01mConnectionError\u001b[39;00m:\n\u001b[32m   1432\u001b[39m         \u001b[38;5;28mself\u001b[39m.close()\n",
      "\u001b[36mFile \u001b[39m\u001b[32m~\\.conda\\envs\\env_bielemetrics_notebooks\\Lib\\http\\client.py:331\u001b[39m, in \u001b[36mHTTPResponse.begin\u001b[39m\u001b[34m(self)\u001b[39m\n\u001b[32m    329\u001b[39m \u001b[38;5;66;03m# read until we get a non-100 response\u001b[39;00m\n\u001b[32m    330\u001b[39m \u001b[38;5;28;01mwhile\u001b[39;00m \u001b[38;5;28;01mTrue\u001b[39;00m:\n\u001b[32m--> \u001b[39m\u001b[32m331\u001b[39m     version, status, reason = \u001b[38;5;28;43mself\u001b[39;49m\u001b[43m.\u001b[49m\u001b[43m_read_status\u001b[49m\u001b[43m(\u001b[49m\u001b[43m)\u001b[49m\n\u001b[32m    332\u001b[39m     \u001b[38;5;28;01mif\u001b[39;00m status != CONTINUE:\n\u001b[32m    333\u001b[39m         \u001b[38;5;28;01mbreak\u001b[39;00m\n",
      "\u001b[36mFile \u001b[39m\u001b[32m~\\.conda\\envs\\env_bielemetrics_notebooks\\Lib\\http\\client.py:292\u001b[39m, in \u001b[36mHTTPResponse._read_status\u001b[39m\u001b[34m(self)\u001b[39m\n\u001b[32m    291\u001b[39m \u001b[38;5;28;01mdef\u001b[39;00m\u001b[38;5;250m \u001b[39m\u001b[34m_read_status\u001b[39m(\u001b[38;5;28mself\u001b[39m):\n\u001b[32m--> \u001b[39m\u001b[32m292\u001b[39m     line = \u001b[38;5;28mstr\u001b[39m(\u001b[38;5;28;43mself\u001b[39;49m\u001b[43m.\u001b[49m\u001b[43mfp\u001b[49m\u001b[43m.\u001b[49m\u001b[43mreadline\u001b[49m\u001b[43m(\u001b[49m\u001b[43m_MAXLINE\u001b[49m\u001b[43m \u001b[49m\u001b[43m+\u001b[49m\u001b[43m \u001b[49m\u001b[32;43m1\u001b[39;49m\u001b[43m)\u001b[49m, \u001b[33m\"\u001b[39m\u001b[33miso-8859-1\u001b[39m\u001b[33m\"\u001b[39m)\n\u001b[32m    293\u001b[39m     \u001b[38;5;28;01mif\u001b[39;00m \u001b[38;5;28mlen\u001b[39m(line) > _MAXLINE:\n\u001b[32m    294\u001b[39m         \u001b[38;5;28;01mraise\u001b[39;00m LineTooLong(\u001b[33m\"\u001b[39m\u001b[33mstatus line\u001b[39m\u001b[33m\"\u001b[39m)\n",
      "\u001b[36mFile \u001b[39m\u001b[32m~\\.conda\\envs\\env_bielemetrics_notebooks\\Lib\\socket.py:719\u001b[39m, in \u001b[36mSocketIO.readinto\u001b[39m\u001b[34m(self, b)\u001b[39m\n\u001b[32m    717\u001b[39m     \u001b[38;5;28;01mraise\u001b[39;00m \u001b[38;5;167;01mOSError\u001b[39;00m(\u001b[33m\"\u001b[39m\u001b[33mcannot read from timed out object\u001b[39m\u001b[33m\"\u001b[39m)\n\u001b[32m    718\u001b[39m \u001b[38;5;28;01mtry\u001b[39;00m:\n\u001b[32m--> \u001b[39m\u001b[32m719\u001b[39m     \u001b[38;5;28;01mreturn\u001b[39;00m \u001b[38;5;28;43mself\u001b[39;49m\u001b[43m.\u001b[49m\u001b[43m_sock\u001b[49m\u001b[43m.\u001b[49m\u001b[43mrecv_into\u001b[49m\u001b[43m(\u001b[49m\u001b[43mb\u001b[49m\u001b[43m)\u001b[49m\n\u001b[32m    720\u001b[39m \u001b[38;5;28;01mexcept\u001b[39;00m timeout:\n\u001b[32m    721\u001b[39m     \u001b[38;5;28mself\u001b[39m._timeout_occurred = \u001b[38;5;28;01mTrue\u001b[39;00m\n",
      "\u001b[36mFile \u001b[39m\u001b[32m~\\.conda\\envs\\env_bielemetrics_notebooks\\Lib\\ssl.py:1304\u001b[39m, in \u001b[36mSSLSocket.recv_into\u001b[39m\u001b[34m(self, buffer, nbytes, flags)\u001b[39m\n\u001b[32m   1300\u001b[39m     \u001b[38;5;28;01mif\u001b[39;00m flags != \u001b[32m0\u001b[39m:\n\u001b[32m   1301\u001b[39m         \u001b[38;5;28;01mraise\u001b[39;00m \u001b[38;5;167;01mValueError\u001b[39;00m(\n\u001b[32m   1302\u001b[39m           \u001b[33m\"\u001b[39m\u001b[33mnon-zero flags not allowed in calls to recv_into() on \u001b[39m\u001b[38;5;132;01m%s\u001b[39;00m\u001b[33m\"\u001b[39m %\n\u001b[32m   1303\u001b[39m           \u001b[38;5;28mself\u001b[39m.\u001b[34m__class__\u001b[39m)\n\u001b[32m-> \u001b[39m\u001b[32m1304\u001b[39m     \u001b[38;5;28;01mreturn\u001b[39;00m \u001b[38;5;28;43mself\u001b[39;49m\u001b[43m.\u001b[49m\u001b[43mread\u001b[49m\u001b[43m(\u001b[49m\u001b[43mnbytes\u001b[49m\u001b[43m,\u001b[49m\u001b[43m \u001b[49m\u001b[43mbuffer\u001b[49m\u001b[43m)\u001b[49m\n\u001b[32m   1305\u001b[39m \u001b[38;5;28;01melse\u001b[39;00m:\n\u001b[32m   1306\u001b[39m     \u001b[38;5;28;01mreturn\u001b[39;00m \u001b[38;5;28msuper\u001b[39m().recv_into(buffer, nbytes, flags)\n",
      "\u001b[36mFile \u001b[39m\u001b[32m~\\.conda\\envs\\env_bielemetrics_notebooks\\Lib\\ssl.py:1138\u001b[39m, in \u001b[36mSSLSocket.read\u001b[39m\u001b[34m(self, len, buffer)\u001b[39m\n\u001b[32m   1136\u001b[39m \u001b[38;5;28;01mtry\u001b[39;00m:\n\u001b[32m   1137\u001b[39m     \u001b[38;5;28;01mif\u001b[39;00m buffer \u001b[38;5;129;01mis\u001b[39;00m \u001b[38;5;129;01mnot\u001b[39;00m \u001b[38;5;28;01mNone\u001b[39;00m:\n\u001b[32m-> \u001b[39m\u001b[32m1138\u001b[39m         \u001b[38;5;28;01mreturn\u001b[39;00m \u001b[38;5;28;43mself\u001b[39;49m\u001b[43m.\u001b[49m\u001b[43m_sslobj\u001b[49m\u001b[43m.\u001b[49m\u001b[43mread\u001b[49m\u001b[43m(\u001b[49m\u001b[38;5;28;43mlen\u001b[39;49m\u001b[43m,\u001b[49m\u001b[43m \u001b[49m\u001b[43mbuffer\u001b[49m\u001b[43m)\u001b[49m\n\u001b[32m   1139\u001b[39m     \u001b[38;5;28;01melse\u001b[39;00m:\n\u001b[32m   1140\u001b[39m         \u001b[38;5;28;01mreturn\u001b[39;00m \u001b[38;5;28mself\u001b[39m._sslobj.read(\u001b[38;5;28mlen\u001b[39m)\n",
      "\u001b[31mKeyboardInterrupt\u001b[39m: "
     ]
    }
   ],
   "source": [
    "for _, row in fixtures_df.iterrows():\n",
    "    fid = row[\"fixtureId\"]\n",
    "    print(f\"\\nDownloading events for fixture {fid} ...\")\n",
    "    events_df = fetch_fixture_events_df(api, fixture_id=fid, debug=False)\n",
    "    gameday = events_df[\"gameday\"].iloc[0]\n",
    "\n",
    "    events_df = events_df[columns_to_keep].copy()\n",
    "\n",
    "    # write schema based on events_df columns\n",
    "\n",
    "    date_str = pd.to_datetime(row[\"startTimeLocal\"]).strftime(\"%Y-%m-%d\")\n",
    "    out_path = os.path.join(\n",
    "        PATH_TO_OUTPUT, f\"{date_str}_gd-{gameday}_id-{fid}.csv\"\n",
    "    )\n",
    "\n",
    "    # create path if it does not exist\n",
    "    os.makedirs(os.path.dirname(out_path), exist_ok=True)\n",
    "\n",
    "    events_df.to_csv(out_path, index=False, encoding=\"utf-8-sig\")\n",
    "    print(f\"Saved to {os.path.abspath(out_path)}\")\n",
    "    \n",
    "print(\"\\nAll fixtures processed.\")"
   ]
  },
  {
   "cell_type": "code",
   "execution_count": null,
   "metadata": {},
   "outputs": [],
   "source": [
    "from concurrent.futures import ThreadPoolExecutor\n",
    "import threading\n",
    "\n",
    "def process_fixture(row):\n",
    "    fid = row[\"fixtureId\"]\n",
    "    print(f\"Downloading events for fixture {fid} ...\")\n",
    "    events_df = fetch_fixture_events_df(api, fixture_id=fid, debug=False)\n",
    "    gameday = events_df[\"gameday\"].iloc[0]\n",
    "\n",
    "    events_df = events_df[columns_to_keep].copy()\n",
    "\n",
    "    # write schema based on events_df columns\n",
    "    date_str = pd.to_datetime(row[\"startTimeLocal\"]).strftime(\"%Y-%m-%d\")\n",
    "    out_path = os.path.join(\n",
    "        PATH_TO_OUTPUT, f\"{date_str}_gd-{gameday}_id-{fid}.csv\"\n",
    "    )\n",
    "\n",
    "    # create path if it does not exist\n",
    "    os.makedirs(os.path.dirname(out_path), exist_ok=True)\n",
    "\n",
    "    events_df.to_csv(out_path, index=False, encoding=\"utf-8-sig\")\n",
    "    print(f\"Saved to {os.path.abspath(out_path)}\")\n",
    "\n",
    "# Use ThreadPoolExecutor for multithreading\n",
    "print_lock = threading.Lock()  # Optional: To synchronize print statements\n",
    "with ThreadPoolExecutor(max_workers=16) as executor:\n",
    "    futures = [executor.submit(process_fixture, row) for _, row in fixtures_df.iterrows()]\n",
    "    for future in futures:\n",
    "        try:\n",
    "            future.result()  # Wait for each thread to complete\n",
    "        except Exception as e:\n",
    "            with print_lock:\n",
    "                print(f\"Error processing fixture: {e}\")\n",
    "\n",
    "print(\"\\nAll fixtures processed.\")"
   ]
  },
  {
   "cell_type": "code",
   "execution_count": null,
   "metadata": {},
   "outputs": [],
   "source": []
  },
  {
   "cell_type": "code",
   "execution_count": null,
   "metadata": {},
   "outputs": [],
   "source": []
  }
 ],
 "metadata": {
  "kernelspec": {
   "display_name": ".venv",
   "language": "python",
   "name": "python3"
  },
  "language_info": {
   "codemirror_mode": {
    "name": "ipython",
    "version": 3
   },
   "file_extension": ".py",
   "mimetype": "text/x-python",
   "name": "python",
   "nbconvert_exporter": "python",
   "pygments_lexer": "ipython3",
   "version": "3.13.2"
  }
 },
 "nbformat": 4,
 "nbformat_minor": 2
}
